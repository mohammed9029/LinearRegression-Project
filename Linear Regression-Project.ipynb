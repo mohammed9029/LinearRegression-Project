{
 "cells": [
  {
   "cell_type": "code",
   "execution_count": 52,
   "id": "0b354d57",
   "metadata": {},
   "outputs": [
    {
     "name": "stdout",
     "output_type": "stream",
     "text": [
      "Populating the interactive namespace from numpy and matplotlib\n"
     ]
    },
    {
     "name": "stderr",
     "output_type": "stream",
     "text": [
      "C:\\Users\\alawe_000\\anaconda3\\lib\\site-packages\\IPython\\core\\magics\\pylab.py:159: UserWarning: pylab import has clobbered these variables: ['plt']\n",
      "`%matplotlib` prevents importing * from pylab and numpy\n",
      "  warn(\"pylab import has clobbered these variables: %s\"  % clobbered +\n"
     ]
    }
   ],
   "source": [
    "from bs4 import BeautifulSoup\n",
    "import requests\n",
    "import pandas as pd\n",
    "import numpy as np\n",
    "import seaborn as sns\n",
    "import re\n",
    "sns.set()\n",
    "\n",
    "from sklearn.linear_model import LinearRegression, Lasso, LassoCV, Ridge, RidgeCV\n",
    "from sklearn.model_selection import train_test_split\n",
    "import matplotlib as plt\n",
    "from sklearn.metrics import r2_score\n",
    "import statsmodels.api as sm\n",
    "import statsmodels.formula.api as smf\n",
    "from sklearn.pipeline import Pipeline\n",
    "from sklearn.preprocessing import StandardScaler\n",
    "from sklearn.linear_model import lars_path\n",
    "%pylab inline\n",
    "import patsy\n",
    "import scipy.stats as stats\n",
    "%matplotlib inline\n",
    "\n",
    "\n",
    "headers = {'User-Agent':'Mozilla/5.0 (Macintosh; Intel Mac OS X 10_11_2) AppleWebKit/601.3.9 (KHTML, like Gecko) Version/9.0.2 Safari/601.3.9'}"
   ]
  },
  {
   "cell_type": "code",
   "execution_count": 53,
   "id": "0a08a620",
   "metadata": {},
   "outputs": [
    {
     "data": {
      "text/plain": [
       "200"
      ]
     },
     "execution_count": 53,
     "metadata": {},
     "output_type": "execute_result"
    }
   ],
   "source": [
    "url = 'https://www.amazon.com/best-sellers-video-games/zgbs/videogames/ref=zg_bs_nav_0'\n",
    "\n",
    "response=requests.get(url,headers=headers)\n",
    "#response = requests.get(url)\n",
    "response.status_code\n"
   ]
  },
  {
   "cell_type": "code",
   "execution_count": 54,
   "id": "5df5a809",
   "metadata": {},
   "outputs": [],
   "source": [
    "page = response.text"
   ]
  },
  {
   "cell_type": "code",
   "execution_count": 55,
   "id": "1d928fbe",
   "metadata": {},
   "outputs": [],
   "source": [
    "soup = BeautifulSoup(page, \"lxml\")"
   ]
  },
  {
   "cell_type": "code",
   "execution_count": 56,
   "id": "87e0759d",
   "metadata": {},
   "outputs": [],
   "source": [
    "def clean_num(s):\n",
    "    \n",
    "\n",
    "    if s is None:\n",
    "        return s\n",
    "    return \"\".join(re.findall('\\d*\\.?\\d+',s))\n",
    "\n",
    "def get_data(block, tag, class_text):\n",
    "    try:\n",
    "        return block.find(tag, class_ = class_text).text\n",
    "    except AttributeError:\n",
    "        return \"\"\n",
    "    return"
   ]
  },
  {
   "cell_type": "code",
   "execution_count": 57,
   "id": "4d8c779c",
   "metadata": {},
   "outputs": [
    {
     "name": "stdout",
     "output_type": "stream",
     "text": [
      "$10 PlayStation Store Gift Card [Digital Code]\n",
      "PlayStation\n",
      "\n",
      "248,158\n",
      "248158\n",
      "$10.00\n",
      "10.00\n"
     ]
    }
   ],
   "source": [
    "for i in (soup.find(\"li\", \"zg-item-immersion\")):\n",
    "    print(str.strip(get_data(i, \"div\", \"p13n-sc-truncate\")))\n",
    "    print(get_data(i, \"div\", \"a-row a-size-small\"))\n",
    "    print(clean_num(get_data(i, \"span\", \"a-size-small a-color-base\").split(\" \")[0]))\n",
    "    print(get_data(i, \"a\",\"a-size-small a-link-normal\"))\n",
    "    print(clean_num(get_data(i, \"a\",\"a-size-small a-link-normal\")))\n",
    "    print(get_data(i, \"span\",\"p13n-sc-price\"))\n",
    "    print(clean_num(get_data(i, \"span\", \"p13n-sc-price\")))"
   ]
  },
  {
   "cell_type": "code",
   "execution_count": 58,
   "id": "8d4bf9f3",
   "metadata": {},
   "outputs": [],
   "source": [
    "VideoGames_list = []\n",
    "for i in (soup.find_all(\"li\", class_ = \"zg-item-immersion\")):\n",
    "    type = str.strip(get_data(i, \"div\", \"p13n-sc-truncate\"))\n",
    "    company = get_data(i, True, [\"a-row a-size-small\", \"a-size-small a-color-base\"])\n",
    "    #rating = get_data(i, \"span\", \"a-icon-alt\")\n",
    "    rating = clean_num(get_data(i, \"span\", \"a-icon-alt\").split(\" \")[0]) \n",
    "    #review_num = get_data(i, \"a\",\"a-size-small a-link-normal\")\n",
    "    review_num = clean_num(get_data(i, \"a\",\"a-size-small a-link-normal\"))\n",
    "    #price = get_data(i, \"span\",\"p13n-sc-price\")\n",
    "    price= clean_num(get_data(i, \"span\", \"p13n-sc-price\"))\n",
    "    \n",
    "    headers = ['VideoGamesType', 'company', 'rating','review_num',\n",
    "              'price',]\n",
    "    VideoGames_list_dict = dict(zip(headers, [ type,\n",
    "                                    company,\n",
    "                                    rating,\n",
    "                                    review_num, \n",
    "                                    price]))\n",
    "    VideoGames_list.append(VideoGames_list_dict)\n"
   ]
  },
  {
   "cell_type": "code",
   "execution_count": 59,
   "id": "293a55b3",
   "metadata": {},
   "outputs": [
    {
     "data": {
      "text/plain": [
       "[{'VideoGamesType': '$10 PlayStation Store Gift Card [Digital Code]',\n",
       "  'company': 'PlayStation',\n",
       "  'rating': '4.7',\n",
       "  'review_num': '248158',\n",
       "  'price': '10.00'},\n",
       " {'VideoGamesType': '$10 Xbox Gift Card [Digital Code]',\n",
       "  'company': 'Microsoft',\n",
       "  'rating': '4.7',\n",
       "  'review_num': '127302',\n",
       "  'price': '10.00'},\n",
       " {'VideoGamesType': '$10 Nintendo eShop Gift Card [Digital Code]',\n",
       "  'company': 'Nintendo',\n",
       "  'rating': '4.7',\n",
       "  'review_num': '73481',\n",
       "  'price': '5.00'},\n",
       " {'VideoGamesType': 'Roblox Gift Card - 800 Robux [Includes Exclusive Virtual Item] [Online Game Code]',\n",
       "  'company': 'Roblox',\n",
       "  'rating': '4.6',\n",
       "  'review_num': '79974',\n",
       "  'price': '10.00'},\n",
       " {'VideoGamesType': 'Roblox Gift Card - 2000 Robux [Includes Exclusive Virtual Item] [Online Game Code]',\n",
       "  'company': 'Roblox',\n",
       "  'rating': '4.6',\n",
       "  'review_num': '79974',\n",
       "  'price': '25.00'},\n",
       " {'VideoGamesType': 'Oculus Quest 2 — Advanced All-In-One Virtual Reality Headset — 128 GB',\n",
       "  'company': 'Oculus',\n",
       "  'rating': '4.6',\n",
       "  'review_num': '682',\n",
       "  'price': '299.00'},\n",
       " {'VideoGamesType': 'Metroid Dread - Nintendo Switch',\n",
       "  'company': 'Nintendo',\n",
       "  'rating': '',\n",
       "  'review_num': '',\n",
       "  'price': '59.99'},\n",
       " {'VideoGamesType': '$20 Xbox Gift Card [Digital Code]',\n",
       "  'company': 'Microsoft',\n",
       "  'rating': '4.7',\n",
       "  'review_num': '127302',\n",
       "  'price': '20.00'},\n",
       " {'VideoGamesType': 'SanDisk 128GB microSDXC Card, Licensed for Nintendo Switch - SDSQXAO-128G-GNCZN',\n",
       "  'company': '',\n",
       "  'rating': '4.9',\n",
       "  'review_num': '151472',\n",
       "  'price': '22.32'},\n",
       " {'VideoGamesType': 'PlayStation Plus: 1 Month Membership [Digital Code]',\n",
       "  'company': 'PlayStation',\n",
       "  'rating': '4.7',\n",
       "  'review_num': '31309',\n",
       "  'price': '9.99'},\n",
       " {'VideoGamesType': 'BENGOO G9000 Stereo Gaming Headset for PS4 PC Xbox One PS5 Controller, Noise Cancelling Over Ear Headphones with Mic, LED Light, Bass Surround, Soft Memory Earmuffs for Laptop Mac Nintendo NES Games',\n",
       "  'company': '',\n",
       "  'rating': '4.3',\n",
       "  'review_num': '74552',\n",
       "  'price': '23.99'},\n",
       " {'VideoGamesType': 'Roblox Gift Card - 4500 Robux [Includes Exclusive Virtual Item] [Online Game Code]',\n",
       "  'company': 'Roblox',\n",
       "  'rating': '4.6',\n",
       "  'review_num': '79974',\n",
       "  'price': '44.99'},\n",
       " {'VideoGamesType': 'PlayStation 5 Console',\n",
       "  'company': 'PlayStation',\n",
       "  'rating': '4.9',\n",
       "  'review_num': '24170',\n",
       "  'price': '915.46'},\n",
       " {'VideoGamesType': 'Mario Kart 8 Deluxe - Nintendo Switch',\n",
       "  'company': 'Nintendo',\n",
       "  'rating': '4.9',\n",
       "  'review_num': '52809',\n",
       "  'price': ''},\n",
       " {'VideoGamesType': 'Super Smash Bros. Ultimate - Nintendo Switch',\n",
       "  'company': 'Nintendo',\n",
       "  'rating': '4.8',\n",
       "  'review_num': '51859',\n",
       "  'price': ''},\n",
       " {'VideoGamesType': 'amFilm Tempered Glass Screen Protector for Nintendo Switch 2017 (2-Pack)',\n",
       "  'company': '',\n",
       "  'rating': '4.8',\n",
       "  'review_num': '92714',\n",
       "  'price': '5.99'},\n",
       " {'VideoGamesType': 'The Legend of Zelda: Breath of the Wild - Nintendo Switch',\n",
       "  'company': 'Nintendo',\n",
       "  'rating': '4.9',\n",
       "  'review_num': '41122',\n",
       "  'price': '41.99'},\n",
       " {'VideoGamesType': 'Playstation DualSense Wireless Controller',\n",
       "  'company': 'PlayStation',\n",
       "  'rating': '4.8',\n",
       "  'review_num': '32752',\n",
       "  'price': '69.00'},\n",
       " {'VideoGamesType': 'Logitech G502 HERO High Performance Wired Gaming Mouse, HERO 25K Sensor, 25,600 DPI, RGB, Adjustable Weights, 11 Programmable Buttons, On-Board Memory, PC / Mac',\n",
       "  'company': '',\n",
       "  'rating': '4.7',\n",
       "  'review_num': '23708',\n",
       "  'price': '44.32'},\n",
       " {'VideoGamesType': 'Elite Series 2 Controller - Black',\n",
       "  'company': 'Microsoft',\n",
       "  'rating': '4.4',\n",
       "  'review_num': '22083',\n",
       "  'price': '157.99'},\n",
       " {'VideoGamesType': 'Nintendo Switch Pro Controller',\n",
       "  'company': 'Nintendo',\n",
       "  'rating': '4.9',\n",
       "  'review_num': '53493',\n",
       "  'price': ''},\n",
       " {'VideoGamesType': 'PlayStation DualSense Wireless Controller – Cosmic Red',\n",
       "  'company': 'PlayStation',\n",
       "  'rating': '4.8',\n",
       "  'review_num': '32752',\n",
       "  'price': '74.00'},\n",
       " {'VideoGamesType': 'League of Legends $25 Gift Card - NA Server Only [Online Game Code]',\n",
       "  'company': 'Riot Games',\n",
       "  'rating': '4.7',\n",
       "  'review_num': '6150',\n",
       "  'price': '25.00'},\n",
       " {'VideoGamesType': 'Xbox Wireless Controller – Pulse Red',\n",
       "  'company': 'Microsoft',\n",
       "  'rating': '4.7',\n",
       "  'review_num': '48432',\n",
       "  'price': '59.46'},\n",
       " {'VideoGamesType': 'NBA 2K22 15,000 VC - PlayStation [Digital Code]',\n",
       "  'company': 'Take-Two 2K',\n",
       "  'rating': '5.0',\n",
       "  'review_num': '1',\n",
       "  'price': '1.99'},\n",
       " {'VideoGamesType': 'Animal Crossing: New Horizons - Nintendo Switch',\n",
       "  'company': 'Nintendo',\n",
       "  'rating': '4.9',\n",
       "  'review_num': '55857',\n",
       "  'price': ''},\n",
       " {'VideoGamesType': 'Xbox Game Pass Ultimate: 3 Month Membership [Digital Code]',\n",
       "  'company': 'Microsoft',\n",
       "  'rating': '4.8',\n",
       "  'review_num': '18641',\n",
       "  'price': '39.99'},\n",
       " {'VideoGamesType': 'Xbox Game Pass Ultimate: 1 Month Membership [Digital Code]',\n",
       "  'company': 'Microsoft',\n",
       "  'rating': '4.8',\n",
       "  'review_num': '18641',\n",
       "  'price': '14.99'},\n",
       " {'VideoGamesType': 'Rechargeable Battery Packs for Xbox One/Xbox Series X|S, 4 X 1200mAh Xbox One Controller Battery Packs, Rechargeable Batteries with Charging Station for Xbox One/One S/One X/One Elite',\n",
       "  'company': '',\n",
       "  'rating': '4.5',\n",
       "  'review_num': '4522',\n",
       "  'price': '27.99'},\n",
       " {'VideoGamesType': 'VALORANT $25 Gift Card - PC [Online Game Code]',\n",
       "  'company': 'Riot Games',\n",
       "  'rating': '4.6',\n",
       "  'review_num': '5063',\n",
       "  'price': '25.00'},\n",
       " {'VideoGamesType': 'Minecraft: Java Edition for PC/Mac [Online Game Code]',\n",
       "  'company': 'Mojang AB',\n",
       "  'rating': '4.7',\n",
       "  'review_num': '29175',\n",
       "  'price': '26.95'},\n",
       " {'VideoGamesType': 'Mario Party Superstars - Nintendo Switch',\n",
       "  'company': 'Nintendo',\n",
       "  'rating': '',\n",
       "  'review_num': '',\n",
       "  'price': '59.99'},\n",
       " {'VideoGamesType': 'Xbox Core Controller - Carbon Black',\n",
       "  'company': 'Microsoft',\n",
       "  'rating': '4.7',\n",
       "  'review_num': '48432',\n",
       "  'price': '49.49'},\n",
       " {'VideoGamesType': 'Microsoft Xbox Wireless Adapter for Windows 10',\n",
       "  'company': 'Microsoft',\n",
       "  'rating': '4.6',\n",
       "  'review_num': '8739',\n",
       "  'price': '24.99'},\n",
       " {'VideoGamesType': 'Nintendo Switch with Neon Blue and Neon Red Joy‑Con - HAC-001(-01)',\n",
       "  'company': '',\n",
       "  'rating': '4.9',\n",
       "  'review_num': '93679',\n",
       "  'price': '299.00'},\n",
       " {'VideoGamesType': 'Minecraft - Nintendo Switch',\n",
       "  'company': 'Microsoft',\n",
       "  'rating': '4.8',\n",
       "  'review_num': '24740',\n",
       "  'price': '29.88'},\n",
       " {'VideoGamesType': 'VALORANT $10 Gift Card - PC [Online Game Code]',\n",
       "  'company': 'Riot Games',\n",
       "  'rating': '4.6',\n",
       "  'review_num': '5063',\n",
       "  'price': '10.00'},\n",
       " {'VideoGamesType': 'The Legend of Zelda: Skyward Sword HD - Nintendo Switch',\n",
       "  'company': 'Nintendo',\n",
       "  'rating': '4.8',\n",
       "  'review_num': '4886',\n",
       "  'price': ''},\n",
       " {'VideoGamesType': 'WarioWare: Get It Together! - Nintendo Switch',\n",
       "  'company': 'Nintendo',\n",
       "  'rating': '4.6',\n",
       "  'review_num': '140',\n",
       "  'price': ''},\n",
       " {'VideoGamesType': 'Redragon S101 Wired Gaming Keyboard and Mouse Combo RGB Backlit Gaming Keyboard with Multimedia Keys Wrist Rest and Red Backlit Gaming Mouse 3200 DPI for Windows PC Gamers (Black)',\n",
       "  'company': '',\n",
       "  'rating': '4.6',\n",
       "  'review_num': '33337',\n",
       "  'price': '29.99'},\n",
       " {'VideoGamesType': 'MOVONE Wireless Controller Dual Vibration Game Joystick Controller for PS4/ Slim/Pro,Compatible with PS4 Console (White+Black)',\n",
       "  'company': '',\n",
       "  'rating': '3.8',\n",
       "  'review_num': '4248',\n",
       "  'price': '29.99'},\n",
       " {'VideoGamesType': 'Gaming Headset, Gaming Headphones with Microphone,for PS4,PS5, PC, Xbox One,Switch -Headset with Microphone,Noise Cancelling,LED,Soft Earmuffs,Surround Sound, Kids Headphones (Blue) (Blue)',\n",
       "  'company': '',\n",
       "  'rating': '4.5',\n",
       "  'review_num': '443',\n",
       "  'price': '12.99'},\n",
       " {'VideoGamesType': 'PlayStation DualSense Wireless Controller – Midnight Black',\n",
       "  'company': 'PlayStation',\n",
       "  'rating': '4.8',\n",
       "  'review_num': '32752',\n",
       "  'price': '69.00'},\n",
       " {'VideoGamesType': 'SanDisk 256GB microSDXC Card, Licensed for Nintendo Switch - SDSQXAO-256G-GNCZN',\n",
       "  'company': '',\n",
       "  'rating': '4.9',\n",
       "  'review_num': '151472',\n",
       "  'price': '44.99'},\n",
       " {'VideoGamesType': 'PS4 Controller Charger Dock Station, OIVO Playstation 4 PS4 Controller Charging Dock Station Upgraded 1.8-Hours Charging Chip, Charging Dock Station Replacement for PS4 Dualshock 4 Controller Charger',\n",
       "  'company': '',\n",
       "  'rating': '4.7',\n",
       "  'review_num': '8717',\n",
       "  'price': '13.99'},\n",
       " {'VideoGamesType': 'Super Mario Odyssey - Nintendo Switch',\n",
       "  'company': 'Nintendo',\n",
       "  'rating': '4.9',\n",
       "  'review_num': '26077',\n",
       "  'price': ''},\n",
       " {'VideoGamesType': 'Pokemon Brilliant Diamond - Nintendo Switch',\n",
       "  'company': 'Nintendo',\n",
       "  'rating': '',\n",
       "  'review_num': '',\n",
       "  'price': '59.88'},\n",
       " {'VideoGamesType': 'EA Play 1 Month Subscription – [PS4 Digital Code]',\n",
       "  'company': 'Electronic Arts',\n",
       "  'rating': '4.5',\n",
       "  'review_num': '644',\n",
       "  'price': '4.99'},\n",
       " {'VideoGamesType': 'Kirby and the Forgotten Land - Nintendo Switch',\n",
       "  'company': 'Nintendo',\n",
       "  'rating': '',\n",
       "  'review_num': '',\n",
       "  'price': '59.99'},\n",
       " {'VideoGamesType': 'PlayStation Plus: 12 Month Membership [Digital Code]',\n",
       "  'company': 'PlayStation',\n",
       "  'rating': '4.8',\n",
       "  'review_num': '47081',\n",
       "  'price': '59.99'}]"
      ]
     },
     "execution_count": 59,
     "metadata": {},
     "output_type": "execute_result"
    }
   ],
   "source": [
    "VideoGames_list"
   ]
  },
  {
   "cell_type": "code",
   "execution_count": 60,
   "id": "78be42f4",
   "metadata": {
    "scrolled": false
   },
   "outputs": [
    {
     "data": {
      "text/html": [
       "<div>\n",
       "<style scoped>\n",
       "    .dataframe tbody tr th:only-of-type {\n",
       "        vertical-align: middle;\n",
       "    }\n",
       "\n",
       "    .dataframe tbody tr th {\n",
       "        vertical-align: top;\n",
       "    }\n",
       "\n",
       "    .dataframe thead th {\n",
       "        text-align: right;\n",
       "    }\n",
       "</style>\n",
       "<table border=\"1\" class=\"dataframe\">\n",
       "  <thead>\n",
       "    <tr style=\"text-align: right;\">\n",
       "      <th></th>\n",
       "      <th>VideoGamesType</th>\n",
       "      <th>company</th>\n",
       "      <th>rating</th>\n",
       "      <th>review_num</th>\n",
       "      <th>price</th>\n",
       "    </tr>\n",
       "  </thead>\n",
       "  <tbody>\n",
       "    <tr>\n",
       "      <th>0</th>\n",
       "      <td>$10 PlayStation Store Gift Card [Digital Code]</td>\n",
       "      <td>PlayStation</td>\n",
       "      <td>4.7</td>\n",
       "      <td>248158</td>\n",
       "      <td>10.00</td>\n",
       "    </tr>\n",
       "    <tr>\n",
       "      <th>1</th>\n",
       "      <td>$10 Xbox Gift Card [Digital Code]</td>\n",
       "      <td>Microsoft</td>\n",
       "      <td>4.7</td>\n",
       "      <td>127302</td>\n",
       "      <td>10.00</td>\n",
       "    </tr>\n",
       "    <tr>\n",
       "      <th>2</th>\n",
       "      <td>$10 Nintendo eShop Gift Card [Digital Code]</td>\n",
       "      <td>Nintendo</td>\n",
       "      <td>4.7</td>\n",
       "      <td>73481</td>\n",
       "      <td>5.00</td>\n",
       "    </tr>\n",
       "    <tr>\n",
       "      <th>3</th>\n",
       "      <td>Roblox Gift Card - 800 Robux [Includes Exclusi...</td>\n",
       "      <td>Roblox</td>\n",
       "      <td>4.6</td>\n",
       "      <td>79974</td>\n",
       "      <td>10.00</td>\n",
       "    </tr>\n",
       "    <tr>\n",
       "      <th>4</th>\n",
       "      <td>Roblox Gift Card - 2000 Robux [Includes Exclus...</td>\n",
       "      <td>Roblox</td>\n",
       "      <td>4.6</td>\n",
       "      <td>79974</td>\n",
       "      <td>25.00</td>\n",
       "    </tr>\n",
       "  </tbody>\n",
       "</table>\n",
       "</div>"
      ],
      "text/plain": [
       "                                      VideoGamesType      company rating  \\\n",
       "0     $10 PlayStation Store Gift Card [Digital Code]  PlayStation    4.7   \n",
       "1                  $10 Xbox Gift Card [Digital Code]    Microsoft    4.7   \n",
       "2        $10 Nintendo eShop Gift Card [Digital Code]     Nintendo    4.7   \n",
       "3  Roblox Gift Card - 800 Robux [Includes Exclusi...       Roblox    4.6   \n",
       "4  Roblox Gift Card - 2000 Robux [Includes Exclus...       Roblox    4.6   \n",
       "\n",
       "  review_num  price  \n",
       "0     248158  10.00  \n",
       "1     127302  10.00  \n",
       "2      73481   5.00  \n",
       "3      79974  10.00  \n",
       "4      79974  25.00  "
      ]
     },
     "execution_count": 60,
     "metadata": {},
     "output_type": "execute_result"
    }
   ],
   "source": [
    "#convert list of dict to df\n",
    "VideoGames_df = pd.DataFrame(VideoGames_list).replace(\"\",np.nan)  \n",
    "VideoGames_df.head()"
   ]
  },
  {
   "cell_type": "code",
   "execution_count": 61,
   "id": "659b9205",
   "metadata": {},
   "outputs": [
    {
     "name": "stdout",
     "output_type": "stream",
     "text": [
      "<class 'pandas.core.frame.DataFrame'>\n",
      "RangeIndex: 50 entries, 0 to 49\n",
      "Data columns (total 5 columns):\n",
      " #   Column          Non-Null Count  Dtype \n",
      "---  ------          --------------  ----- \n",
      " 0   VideoGamesType  50 non-null     object\n",
      " 1   company         39 non-null     object\n",
      " 2   rating          46 non-null     object\n",
      " 3   review_num      46 non-null     object\n",
      " 4   price           43 non-null     object\n",
      "dtypes: object(5)\n",
      "memory usage: 2.1+ KB\n"
     ]
    }
   ],
   "source": [
    "VideoGames_df.info()"
   ]
  },
  {
   "cell_type": "code",
   "execution_count": 62,
   "id": "0e9ae123",
   "metadata": {},
   "outputs": [
    {
     "data": {
      "text/plain": [
       "VideoGamesType     0\n",
       "company           11\n",
       "rating             4\n",
       "review_num         4\n",
       "price              7\n",
       "dtype: int64"
      ]
     },
     "execution_count": 62,
     "metadata": {},
     "output_type": "execute_result"
    }
   ],
   "source": [
    "VideoGames_df.isna().sum()"
   ]
  },
  {
   "cell_type": "code",
   "execution_count": 63,
   "id": "8de4b47f",
   "metadata": {},
   "outputs": [
    {
     "name": "stdout",
     "output_type": "stream",
     "text": [
      "<class 'pandas.core.frame.DataFrame'>\n",
      "RangeIndex: 50 entries, 0 to 49\n",
      "Data columns (total 5 columns):\n",
      " #   Column          Non-Null Count  Dtype \n",
      "---  ------          --------------  ----- \n",
      " 0   VideoGamesType  50 non-null     object\n",
      " 1   company         39 non-null     object\n",
      " 2   rating          46 non-null     object\n",
      " 3   review_num      46 non-null     object\n",
      " 4   price           43 non-null     object\n",
      "dtypes: object(5)\n",
      "memory usage: 2.1+ KB\n"
     ]
    }
   ],
   "source": [
    "VideoGames_df.info()"
   ]
  },
  {
   "cell_type": "code",
   "execution_count": 64,
   "id": "223d919f",
   "metadata": {},
   "outputs": [],
   "source": [
    "headers = {'User-Agent':'Mozilla/5.0 (Macintosh; Intel Mac OS X 10_11_2) AppleWebKit/601.3.9 (KHTML, like Gecko) Version/9.0.2 Safari/601.3.9'}"
   ]
  },
  {
   "cell_type": "code",
   "execution_count": 65,
   "id": "f8950fcc",
   "metadata": {},
   "outputs": [
    {
     "data": {
      "text/plain": [
       "200"
      ]
     },
     "execution_count": 65,
     "metadata": {},
     "output_type": "execute_result"
    }
   ],
   "source": [
    "url2='https://www.amazon.com/best-sellers-video-games/zgbs/videogames/ref=zg_bs_pg_2?_encoding=UTF8&pg=2'\n",
    "response=requests.get(url2,headers=headers)\n",
    "#response = requests.get(url2)\n",
    "response.status_code\n"
   ]
  },
  {
   "cell_type": "code",
   "execution_count": 66,
   "id": "d0160e54",
   "metadata": {},
   "outputs": [],
   "source": [
    "page_2 = response.text"
   ]
  },
  {
   "cell_type": "code",
   "execution_count": 67,
   "id": "1ef90358",
   "metadata": {},
   "outputs": [],
   "source": [
    "soup = BeautifulSoup(page_2, \"lxml\")"
   ]
  },
  {
   "cell_type": "code",
   "execution_count": 68,
   "id": "d0f6c29c",
   "metadata": {},
   "outputs": [],
   "source": [
    "def clean_num(s):\n",
    "    \n",
    "\n",
    "    if s is None:\n",
    "        return s\n",
    "    return \"\".join(re.findall('\\d*\\.?\\d+',s))\n",
    "\n",
    "def get_data(block, tag, class_text):\n",
    "    try:\n",
    "        return block.find(tag, class_ = class_text).text\n",
    "    except AttributeError:\n",
    "        return \"\"\n",
    "    return"
   ]
  },
  {
   "cell_type": "code",
   "execution_count": 69,
   "id": "edc5bc3f",
   "metadata": {},
   "outputs": [
    {
     "name": "stdout",
     "output_type": "stream",
     "text": [
      "Super Mario 3D World + Bowser's Fury - Nintendo Switch\n",
      "Nintendo\n",
      "\n",
      "20,317\n",
      "20317\n",
      "\n",
      "\n"
     ]
    }
   ],
   "source": [
    "for i in (soup.find(\"li\", \"zg-item-immersion\")):\n",
    "    print(str.strip(get_data(i, \"div\", \"p13n-sc-truncate\")))\n",
    "    print(get_data(i, \"div\", \"a-row a-size-small\"))\n",
    "    print(clean_num(get_data(i, \"span\", \"a-size-small a-color-base\").split(\" \")[0]))\n",
    "    print(get_data(i, \"a\",\"a-size-small a-link-normal\"))\n",
    "    print(clean_num(get_data(i, \"a\",\"a-size-small a-link-normal\")))\n",
    "    print(get_data(i, \"span\",\"p13n-sc-price\"))\n",
    "    print(clean_num(get_data(i, \"span\", \"p13n-sc-price\")))"
   ]
  },
  {
   "cell_type": "code",
   "execution_count": 70,
   "id": "106aceff",
   "metadata": {},
   "outputs": [],
   "source": [
    "VideoGames_list1 = []\n",
    "for i in (soup.find_all(\"li\", class_ = \"zg-item-immersion\")):\n",
    "    type = str.strip(get_data(i, \"div\", \"p13n-sc-truncate\"))\n",
    "    company = get_data(i, True, [\"a-row a-size-small\", \"a-size-small a-color-base\"])\n",
    "    #rating = get_data(i, \"span\", \"a-icon-alt\")\n",
    "    rating = clean_num(get_data(i, \"span\", \"a-icon-alt\").split(\" \")[0]) \n",
    "    #review_num = get_data(i, \"a\",\"a-size-small a-link-normal\")\n",
    "    review_num = clean_num(get_data(i, \"a\",\"a-size-small a-link-normal\"))\n",
    "    #price = get_data(i, \"span\",\"p13n-sc-price\")\n",
    "    price= clean_num(get_data(i, \"span\", \"p13n-sc-price\"))\n",
    "    \n",
    "    headers = ['VideoGamesType', 'company', 'rating','review_num',\n",
    "              'price',]\n",
    "    VideoGames_list1_dict = dict(zip(headers, [ type,\n",
    "                                    company,\n",
    "                                    rating,\n",
    "                                    review_num, \n",
    "                                    price]))\n",
    "    VideoGames_list1.append(VideoGames_list_dict)\n"
   ]
  },
  {
   "cell_type": "code",
   "execution_count": 71,
   "id": "2c08749a",
   "metadata": {
    "scrolled": false
   },
   "outputs": [
    {
     "data": {
      "text/plain": [
       "[{'VideoGamesType': 'PlayStation Plus: 12 Month Membership [Digital Code]',\n",
       "  'company': 'PlayStation',\n",
       "  'rating': '4.8',\n",
       "  'review_num': '47081',\n",
       "  'price': '59.99'},\n",
       " {'VideoGamesType': 'PlayStation Plus: 12 Month Membership [Digital Code]',\n",
       "  'company': 'PlayStation',\n",
       "  'rating': '4.8',\n",
       "  'review_num': '47081',\n",
       "  'price': '59.99'},\n",
       " {'VideoGamesType': 'PlayStation Plus: 12 Month Membership [Digital Code]',\n",
       "  'company': 'PlayStation',\n",
       "  'rating': '4.8',\n",
       "  'review_num': '47081',\n",
       "  'price': '59.99'},\n",
       " {'VideoGamesType': 'PlayStation Plus: 12 Month Membership [Digital Code]',\n",
       "  'company': 'PlayStation',\n",
       "  'rating': '4.8',\n",
       "  'review_num': '47081',\n",
       "  'price': '59.99'},\n",
       " {'VideoGamesType': 'PlayStation Plus: 12 Month Membership [Digital Code]',\n",
       "  'company': 'PlayStation',\n",
       "  'rating': '4.8',\n",
       "  'review_num': '47081',\n",
       "  'price': '59.99'},\n",
       " {'VideoGamesType': 'PlayStation Plus: 12 Month Membership [Digital Code]',\n",
       "  'company': 'PlayStation',\n",
       "  'rating': '4.8',\n",
       "  'review_num': '47081',\n",
       "  'price': '59.99'},\n",
       " {'VideoGamesType': 'PlayStation Plus: 12 Month Membership [Digital Code]',\n",
       "  'company': 'PlayStation',\n",
       "  'rating': '4.8',\n",
       "  'review_num': '47081',\n",
       "  'price': '59.99'},\n",
       " {'VideoGamesType': 'PlayStation Plus: 12 Month Membership [Digital Code]',\n",
       "  'company': 'PlayStation',\n",
       "  'rating': '4.8',\n",
       "  'review_num': '47081',\n",
       "  'price': '59.99'},\n",
       " {'VideoGamesType': 'PlayStation Plus: 12 Month Membership [Digital Code]',\n",
       "  'company': 'PlayStation',\n",
       "  'rating': '4.8',\n",
       "  'review_num': '47081',\n",
       "  'price': '59.99'},\n",
       " {'VideoGamesType': 'PlayStation Plus: 12 Month Membership [Digital Code]',\n",
       "  'company': 'PlayStation',\n",
       "  'rating': '4.8',\n",
       "  'review_num': '47081',\n",
       "  'price': '59.99'},\n",
       " {'VideoGamesType': 'PlayStation Plus: 12 Month Membership [Digital Code]',\n",
       "  'company': 'PlayStation',\n",
       "  'rating': '4.8',\n",
       "  'review_num': '47081',\n",
       "  'price': '59.99'},\n",
       " {'VideoGamesType': 'PlayStation Plus: 12 Month Membership [Digital Code]',\n",
       "  'company': 'PlayStation',\n",
       "  'rating': '4.8',\n",
       "  'review_num': '47081',\n",
       "  'price': '59.99'},\n",
       " {'VideoGamesType': 'PlayStation Plus: 12 Month Membership [Digital Code]',\n",
       "  'company': 'PlayStation',\n",
       "  'rating': '4.8',\n",
       "  'review_num': '47081',\n",
       "  'price': '59.99'},\n",
       " {'VideoGamesType': 'PlayStation Plus: 12 Month Membership [Digital Code]',\n",
       "  'company': 'PlayStation',\n",
       "  'rating': '4.8',\n",
       "  'review_num': '47081',\n",
       "  'price': '59.99'},\n",
       " {'VideoGamesType': 'PlayStation Plus: 12 Month Membership [Digital Code]',\n",
       "  'company': 'PlayStation',\n",
       "  'rating': '4.8',\n",
       "  'review_num': '47081',\n",
       "  'price': '59.99'},\n",
       " {'VideoGamesType': 'PlayStation Plus: 12 Month Membership [Digital Code]',\n",
       "  'company': 'PlayStation',\n",
       "  'rating': '4.8',\n",
       "  'review_num': '47081',\n",
       "  'price': '59.99'},\n",
       " {'VideoGamesType': 'PlayStation Plus: 12 Month Membership [Digital Code]',\n",
       "  'company': 'PlayStation',\n",
       "  'rating': '4.8',\n",
       "  'review_num': '47081',\n",
       "  'price': '59.99'},\n",
       " {'VideoGamesType': 'PlayStation Plus: 12 Month Membership [Digital Code]',\n",
       "  'company': 'PlayStation',\n",
       "  'rating': '4.8',\n",
       "  'review_num': '47081',\n",
       "  'price': '59.99'},\n",
       " {'VideoGamesType': 'PlayStation Plus: 12 Month Membership [Digital Code]',\n",
       "  'company': 'PlayStation',\n",
       "  'rating': '4.8',\n",
       "  'review_num': '47081',\n",
       "  'price': '59.99'},\n",
       " {'VideoGamesType': 'PlayStation Plus: 12 Month Membership [Digital Code]',\n",
       "  'company': 'PlayStation',\n",
       "  'rating': '4.8',\n",
       "  'review_num': '47081',\n",
       "  'price': '59.99'},\n",
       " {'VideoGamesType': 'PlayStation Plus: 12 Month Membership [Digital Code]',\n",
       "  'company': 'PlayStation',\n",
       "  'rating': '4.8',\n",
       "  'review_num': '47081',\n",
       "  'price': '59.99'},\n",
       " {'VideoGamesType': 'PlayStation Plus: 12 Month Membership [Digital Code]',\n",
       "  'company': 'PlayStation',\n",
       "  'rating': '4.8',\n",
       "  'review_num': '47081',\n",
       "  'price': '59.99'},\n",
       " {'VideoGamesType': 'PlayStation Plus: 12 Month Membership [Digital Code]',\n",
       "  'company': 'PlayStation',\n",
       "  'rating': '4.8',\n",
       "  'review_num': '47081',\n",
       "  'price': '59.99'},\n",
       " {'VideoGamesType': 'PlayStation Plus: 12 Month Membership [Digital Code]',\n",
       "  'company': 'PlayStation',\n",
       "  'rating': '4.8',\n",
       "  'review_num': '47081',\n",
       "  'price': '59.99'},\n",
       " {'VideoGamesType': 'PlayStation Plus: 12 Month Membership [Digital Code]',\n",
       "  'company': 'PlayStation',\n",
       "  'rating': '4.8',\n",
       "  'review_num': '47081',\n",
       "  'price': '59.99'},\n",
       " {'VideoGamesType': 'PlayStation Plus: 12 Month Membership [Digital Code]',\n",
       "  'company': 'PlayStation',\n",
       "  'rating': '4.8',\n",
       "  'review_num': '47081',\n",
       "  'price': '59.99'},\n",
       " {'VideoGamesType': 'PlayStation Plus: 12 Month Membership [Digital Code]',\n",
       "  'company': 'PlayStation',\n",
       "  'rating': '4.8',\n",
       "  'review_num': '47081',\n",
       "  'price': '59.99'},\n",
       " {'VideoGamesType': 'PlayStation Plus: 12 Month Membership [Digital Code]',\n",
       "  'company': 'PlayStation',\n",
       "  'rating': '4.8',\n",
       "  'review_num': '47081',\n",
       "  'price': '59.99'},\n",
       " {'VideoGamesType': 'PlayStation Plus: 12 Month Membership [Digital Code]',\n",
       "  'company': 'PlayStation',\n",
       "  'rating': '4.8',\n",
       "  'review_num': '47081',\n",
       "  'price': '59.99'},\n",
       " {'VideoGamesType': 'PlayStation Plus: 12 Month Membership [Digital Code]',\n",
       "  'company': 'PlayStation',\n",
       "  'rating': '4.8',\n",
       "  'review_num': '47081',\n",
       "  'price': '59.99'},\n",
       " {'VideoGamesType': 'PlayStation Plus: 12 Month Membership [Digital Code]',\n",
       "  'company': 'PlayStation',\n",
       "  'rating': '4.8',\n",
       "  'review_num': '47081',\n",
       "  'price': '59.99'},\n",
       " {'VideoGamesType': 'PlayStation Plus: 12 Month Membership [Digital Code]',\n",
       "  'company': 'PlayStation',\n",
       "  'rating': '4.8',\n",
       "  'review_num': '47081',\n",
       "  'price': '59.99'},\n",
       " {'VideoGamesType': 'PlayStation Plus: 12 Month Membership [Digital Code]',\n",
       "  'company': 'PlayStation',\n",
       "  'rating': '4.8',\n",
       "  'review_num': '47081',\n",
       "  'price': '59.99'},\n",
       " {'VideoGamesType': 'PlayStation Plus: 12 Month Membership [Digital Code]',\n",
       "  'company': 'PlayStation',\n",
       "  'rating': '4.8',\n",
       "  'review_num': '47081',\n",
       "  'price': '59.99'},\n",
       " {'VideoGamesType': 'PlayStation Plus: 12 Month Membership [Digital Code]',\n",
       "  'company': 'PlayStation',\n",
       "  'rating': '4.8',\n",
       "  'review_num': '47081',\n",
       "  'price': '59.99'},\n",
       " {'VideoGamesType': 'PlayStation Plus: 12 Month Membership [Digital Code]',\n",
       "  'company': 'PlayStation',\n",
       "  'rating': '4.8',\n",
       "  'review_num': '47081',\n",
       "  'price': '59.99'},\n",
       " {'VideoGamesType': 'PlayStation Plus: 12 Month Membership [Digital Code]',\n",
       "  'company': 'PlayStation',\n",
       "  'rating': '4.8',\n",
       "  'review_num': '47081',\n",
       "  'price': '59.99'},\n",
       " {'VideoGamesType': 'PlayStation Plus: 12 Month Membership [Digital Code]',\n",
       "  'company': 'PlayStation',\n",
       "  'rating': '4.8',\n",
       "  'review_num': '47081',\n",
       "  'price': '59.99'},\n",
       " {'VideoGamesType': 'PlayStation Plus: 12 Month Membership [Digital Code]',\n",
       "  'company': 'PlayStation',\n",
       "  'rating': '4.8',\n",
       "  'review_num': '47081',\n",
       "  'price': '59.99'},\n",
       " {'VideoGamesType': 'PlayStation Plus: 12 Month Membership [Digital Code]',\n",
       "  'company': 'PlayStation',\n",
       "  'rating': '4.8',\n",
       "  'review_num': '47081',\n",
       "  'price': '59.99'},\n",
       " {'VideoGamesType': 'PlayStation Plus: 12 Month Membership [Digital Code]',\n",
       "  'company': 'PlayStation',\n",
       "  'rating': '4.8',\n",
       "  'review_num': '47081',\n",
       "  'price': '59.99'},\n",
       " {'VideoGamesType': 'PlayStation Plus: 12 Month Membership [Digital Code]',\n",
       "  'company': 'PlayStation',\n",
       "  'rating': '4.8',\n",
       "  'review_num': '47081',\n",
       "  'price': '59.99'},\n",
       " {'VideoGamesType': 'PlayStation Plus: 12 Month Membership [Digital Code]',\n",
       "  'company': 'PlayStation',\n",
       "  'rating': '4.8',\n",
       "  'review_num': '47081',\n",
       "  'price': '59.99'},\n",
       " {'VideoGamesType': 'PlayStation Plus: 12 Month Membership [Digital Code]',\n",
       "  'company': 'PlayStation',\n",
       "  'rating': '4.8',\n",
       "  'review_num': '47081',\n",
       "  'price': '59.99'},\n",
       " {'VideoGamesType': 'PlayStation Plus: 12 Month Membership [Digital Code]',\n",
       "  'company': 'PlayStation',\n",
       "  'rating': '4.8',\n",
       "  'review_num': '47081',\n",
       "  'price': '59.99'},\n",
       " {'VideoGamesType': 'PlayStation Plus: 12 Month Membership [Digital Code]',\n",
       "  'company': 'PlayStation',\n",
       "  'rating': '4.8',\n",
       "  'review_num': '47081',\n",
       "  'price': '59.99'},\n",
       " {'VideoGamesType': 'PlayStation Plus: 12 Month Membership [Digital Code]',\n",
       "  'company': 'PlayStation',\n",
       "  'rating': '4.8',\n",
       "  'review_num': '47081',\n",
       "  'price': '59.99'},\n",
       " {'VideoGamesType': 'PlayStation Plus: 12 Month Membership [Digital Code]',\n",
       "  'company': 'PlayStation',\n",
       "  'rating': '4.8',\n",
       "  'review_num': '47081',\n",
       "  'price': '59.99'},\n",
       " {'VideoGamesType': 'PlayStation Plus: 12 Month Membership [Digital Code]',\n",
       "  'company': 'PlayStation',\n",
       "  'rating': '4.8',\n",
       "  'review_num': '47081',\n",
       "  'price': '59.99'},\n",
       " {'VideoGamesType': 'PlayStation Plus: 12 Month Membership [Digital Code]',\n",
       "  'company': 'PlayStation',\n",
       "  'rating': '4.8',\n",
       "  'review_num': '47081',\n",
       "  'price': '59.99'}]"
      ]
     },
     "execution_count": 71,
     "metadata": {},
     "output_type": "execute_result"
    }
   ],
   "source": [
    "VideoGames_list1"
   ]
  },
  {
   "cell_type": "code",
   "execution_count": 72,
   "id": "849e0cef",
   "metadata": {},
   "outputs": [
    {
     "data": {
      "text/html": [
       "<div>\n",
       "<style scoped>\n",
       "    .dataframe tbody tr th:only-of-type {\n",
       "        vertical-align: middle;\n",
       "    }\n",
       "\n",
       "    .dataframe tbody tr th {\n",
       "        vertical-align: top;\n",
       "    }\n",
       "\n",
       "    .dataframe thead th {\n",
       "        text-align: right;\n",
       "    }\n",
       "</style>\n",
       "<table border=\"1\" class=\"dataframe\">\n",
       "  <thead>\n",
       "    <tr style=\"text-align: right;\">\n",
       "      <th></th>\n",
       "      <th>VideoGamesType</th>\n",
       "      <th>company</th>\n",
       "      <th>rating</th>\n",
       "      <th>review_num</th>\n",
       "      <th>price</th>\n",
       "    </tr>\n",
       "  </thead>\n",
       "  <tbody>\n",
       "    <tr>\n",
       "      <th>0</th>\n",
       "      <td>PlayStation Plus: 12 Month Membership [Digital...</td>\n",
       "      <td>PlayStation</td>\n",
       "      <td>4.8</td>\n",
       "      <td>47081</td>\n",
       "      <td>59.99</td>\n",
       "    </tr>\n",
       "    <tr>\n",
       "      <th>1</th>\n",
       "      <td>PlayStation Plus: 12 Month Membership [Digital...</td>\n",
       "      <td>PlayStation</td>\n",
       "      <td>4.8</td>\n",
       "      <td>47081</td>\n",
       "      <td>59.99</td>\n",
       "    </tr>\n",
       "    <tr>\n",
       "      <th>2</th>\n",
       "      <td>PlayStation Plus: 12 Month Membership [Digital...</td>\n",
       "      <td>PlayStation</td>\n",
       "      <td>4.8</td>\n",
       "      <td>47081</td>\n",
       "      <td>59.99</td>\n",
       "    </tr>\n",
       "    <tr>\n",
       "      <th>3</th>\n",
       "      <td>PlayStation Plus: 12 Month Membership [Digital...</td>\n",
       "      <td>PlayStation</td>\n",
       "      <td>4.8</td>\n",
       "      <td>47081</td>\n",
       "      <td>59.99</td>\n",
       "    </tr>\n",
       "    <tr>\n",
       "      <th>4</th>\n",
       "      <td>PlayStation Plus: 12 Month Membership [Digital...</td>\n",
       "      <td>PlayStation</td>\n",
       "      <td>4.8</td>\n",
       "      <td>47081</td>\n",
       "      <td>59.99</td>\n",
       "    </tr>\n",
       "  </tbody>\n",
       "</table>\n",
       "</div>"
      ],
      "text/plain": [
       "                                      VideoGamesType      company rating  \\\n",
       "0  PlayStation Plus: 12 Month Membership [Digital...  PlayStation    4.8   \n",
       "1  PlayStation Plus: 12 Month Membership [Digital...  PlayStation    4.8   \n",
       "2  PlayStation Plus: 12 Month Membership [Digital...  PlayStation    4.8   \n",
       "3  PlayStation Plus: 12 Month Membership [Digital...  PlayStation    4.8   \n",
       "4  PlayStation Plus: 12 Month Membership [Digital...  PlayStation    4.8   \n",
       "\n",
       "  review_num  price  \n",
       "0      47081  59.99  \n",
       "1      47081  59.99  \n",
       "2      47081  59.99  \n",
       "3      47081  59.99  \n",
       "4      47081  59.99  "
      ]
     },
     "execution_count": 72,
     "metadata": {},
     "output_type": "execute_result"
    }
   ],
   "source": [
    "#convert list of dict to df\n",
    "VideoGames_df2 = pd.DataFrame(VideoGames_list1).replace(\"\",np.nan)  \n",
    "VideoGames_df2.head()"
   ]
  },
  {
   "cell_type": "code",
   "execution_count": 73,
   "id": "65052d12",
   "metadata": {},
   "outputs": [
    {
     "data": {
      "text/html": [
       "<div>\n",
       "<style scoped>\n",
       "    .dataframe tbody tr th:only-of-type {\n",
       "        vertical-align: middle;\n",
       "    }\n",
       "\n",
       "    .dataframe tbody tr th {\n",
       "        vertical-align: top;\n",
       "    }\n",
       "\n",
       "    .dataframe thead th {\n",
       "        text-align: right;\n",
       "    }\n",
       "</style>\n",
       "<table border=\"1\" class=\"dataframe\">\n",
       "  <thead>\n",
       "    <tr style=\"text-align: right;\">\n",
       "      <th></th>\n",
       "      <th>VideoGamesType</th>\n",
       "      <th>company</th>\n",
       "      <th>rating</th>\n",
       "      <th>review_num</th>\n",
       "      <th>price</th>\n",
       "    </tr>\n",
       "  </thead>\n",
       "  <tbody>\n",
       "    <tr>\n",
       "      <th>0</th>\n",
       "      <td>$10 PlayStation Store Gift Card [Digital Code]</td>\n",
       "      <td>PlayStation</td>\n",
       "      <td>4.7</td>\n",
       "      <td>248158</td>\n",
       "      <td>10.00</td>\n",
       "    </tr>\n",
       "    <tr>\n",
       "      <th>1</th>\n",
       "      <td>$10 Xbox Gift Card [Digital Code]</td>\n",
       "      <td>Microsoft</td>\n",
       "      <td>4.7</td>\n",
       "      <td>127302</td>\n",
       "      <td>10.00</td>\n",
       "    </tr>\n",
       "    <tr>\n",
       "      <th>2</th>\n",
       "      <td>$10 Nintendo eShop Gift Card [Digital Code]</td>\n",
       "      <td>Nintendo</td>\n",
       "      <td>4.7</td>\n",
       "      <td>73481</td>\n",
       "      <td>5.00</td>\n",
       "    </tr>\n",
       "    <tr>\n",
       "      <th>3</th>\n",
       "      <td>Roblox Gift Card - 800 Robux [Includes Exclusi...</td>\n",
       "      <td>Roblox</td>\n",
       "      <td>4.6</td>\n",
       "      <td>79974</td>\n",
       "      <td>10.00</td>\n",
       "    </tr>\n",
       "    <tr>\n",
       "      <th>4</th>\n",
       "      <td>Roblox Gift Card - 2000 Robux [Includes Exclus...</td>\n",
       "      <td>Roblox</td>\n",
       "      <td>4.6</td>\n",
       "      <td>79974</td>\n",
       "      <td>25.00</td>\n",
       "    </tr>\n",
       "  </tbody>\n",
       "</table>\n",
       "</div>"
      ],
      "text/plain": [
       "                                      VideoGamesType      company rating  \\\n",
       "0     $10 PlayStation Store Gift Card [Digital Code]  PlayStation    4.7   \n",
       "1                  $10 Xbox Gift Card [Digital Code]    Microsoft    4.7   \n",
       "2        $10 Nintendo eShop Gift Card [Digital Code]     Nintendo    4.7   \n",
       "3  Roblox Gift Card - 800 Robux [Includes Exclusi...       Roblox    4.6   \n",
       "4  Roblox Gift Card - 2000 Robux [Includes Exclus...       Roblox    4.6   \n",
       "\n",
       "  review_num  price  \n",
       "0     248158  10.00  \n",
       "1     127302  10.00  \n",
       "2      73481   5.00  \n",
       "3      79974  10.00  \n",
       "4      79974  25.00  "
      ]
     },
     "execution_count": 73,
     "metadata": {},
     "output_type": "execute_result"
    }
   ],
   "source": [
    "VideoGames_df3=pd.concat([VideoGames_df,VideoGames_df2])\n",
    "VideoGames_df3.head()"
   ]
  },
  {
   "cell_type": "code",
   "execution_count": 74,
   "id": "16870be9",
   "metadata": {},
   "outputs": [
    {
     "data": {
      "text/html": [
       "<div>\n",
       "<style scoped>\n",
       "    .dataframe tbody tr th:only-of-type {\n",
       "        vertical-align: middle;\n",
       "    }\n",
       "\n",
       "    .dataframe tbody tr th {\n",
       "        vertical-align: top;\n",
       "    }\n",
       "\n",
       "    .dataframe thead th {\n",
       "        text-align: right;\n",
       "    }\n",
       "</style>\n",
       "<table border=\"1\" class=\"dataframe\">\n",
       "  <thead>\n",
       "    <tr style=\"text-align: right;\">\n",
       "      <th></th>\n",
       "      <th>VideoGamesType</th>\n",
       "      <th>company</th>\n",
       "      <th>rating</th>\n",
       "      <th>review_num</th>\n",
       "      <th>price</th>\n",
       "    </tr>\n",
       "  </thead>\n",
       "  <tbody>\n",
       "    <tr>\n",
       "      <th>0</th>\n",
       "      <td>$10 PlayStation Store Gift Card [Digital Code]</td>\n",
       "      <td>PlayStation</td>\n",
       "      <td>4.7</td>\n",
       "      <td>248158</td>\n",
       "      <td>10.00</td>\n",
       "    </tr>\n",
       "    <tr>\n",
       "      <th>1</th>\n",
       "      <td>$10 Xbox Gift Card [Digital Code]</td>\n",
       "      <td>Microsoft</td>\n",
       "      <td>4.7</td>\n",
       "      <td>127302</td>\n",
       "      <td>10.00</td>\n",
       "    </tr>\n",
       "    <tr>\n",
       "      <th>2</th>\n",
       "      <td>$10 Nintendo eShop Gift Card [Digital Code]</td>\n",
       "      <td>Nintendo</td>\n",
       "      <td>4.7</td>\n",
       "      <td>73481</td>\n",
       "      <td>5.00</td>\n",
       "    </tr>\n",
       "    <tr>\n",
       "      <th>3</th>\n",
       "      <td>Roblox Gift Card - 800 Robux [Includes Exclusi...</td>\n",
       "      <td>Roblox</td>\n",
       "      <td>4.6</td>\n",
       "      <td>79974</td>\n",
       "      <td>10.00</td>\n",
       "    </tr>\n",
       "    <tr>\n",
       "      <th>4</th>\n",
       "      <td>Roblox Gift Card - 2000 Robux [Includes Exclus...</td>\n",
       "      <td>Roblox</td>\n",
       "      <td>4.6</td>\n",
       "      <td>79974</td>\n",
       "      <td>25.00</td>\n",
       "    </tr>\n",
       "    <tr>\n",
       "      <th>...</th>\n",
       "      <td>...</td>\n",
       "      <td>...</td>\n",
       "      <td>...</td>\n",
       "      <td>...</td>\n",
       "      <td>...</td>\n",
       "    </tr>\n",
       "    <tr>\n",
       "      <th>45</th>\n",
       "      <td>PlayStation Plus: 12 Month Membership [Digital...</td>\n",
       "      <td>PlayStation</td>\n",
       "      <td>4.8</td>\n",
       "      <td>47081</td>\n",
       "      <td>59.99</td>\n",
       "    </tr>\n",
       "    <tr>\n",
       "      <th>46</th>\n",
       "      <td>PlayStation Plus: 12 Month Membership [Digital...</td>\n",
       "      <td>PlayStation</td>\n",
       "      <td>4.8</td>\n",
       "      <td>47081</td>\n",
       "      <td>59.99</td>\n",
       "    </tr>\n",
       "    <tr>\n",
       "      <th>47</th>\n",
       "      <td>PlayStation Plus: 12 Month Membership [Digital...</td>\n",
       "      <td>PlayStation</td>\n",
       "      <td>4.8</td>\n",
       "      <td>47081</td>\n",
       "      <td>59.99</td>\n",
       "    </tr>\n",
       "    <tr>\n",
       "      <th>48</th>\n",
       "      <td>PlayStation Plus: 12 Month Membership [Digital...</td>\n",
       "      <td>PlayStation</td>\n",
       "      <td>4.8</td>\n",
       "      <td>47081</td>\n",
       "      <td>59.99</td>\n",
       "    </tr>\n",
       "    <tr>\n",
       "      <th>49</th>\n",
       "      <td>PlayStation Plus: 12 Month Membership [Digital...</td>\n",
       "      <td>PlayStation</td>\n",
       "      <td>4.8</td>\n",
       "      <td>47081</td>\n",
       "      <td>59.99</td>\n",
       "    </tr>\n",
       "  </tbody>\n",
       "</table>\n",
       "<p>78 rows × 5 columns</p>\n",
       "</div>"
      ],
      "text/plain": [
       "                                       VideoGamesType      company rating  \\\n",
       "0      $10 PlayStation Store Gift Card [Digital Code]  PlayStation    4.7   \n",
       "1                   $10 Xbox Gift Card [Digital Code]    Microsoft    4.7   \n",
       "2         $10 Nintendo eShop Gift Card [Digital Code]     Nintendo    4.7   \n",
       "3   Roblox Gift Card - 800 Robux [Includes Exclusi...       Roblox    4.6   \n",
       "4   Roblox Gift Card - 2000 Robux [Includes Exclus...       Roblox    4.6   \n",
       "..                                                ...          ...    ...   \n",
       "45  PlayStation Plus: 12 Month Membership [Digital...  PlayStation    4.8   \n",
       "46  PlayStation Plus: 12 Month Membership [Digital...  PlayStation    4.8   \n",
       "47  PlayStation Plus: 12 Month Membership [Digital...  PlayStation    4.8   \n",
       "48  PlayStation Plus: 12 Month Membership [Digital...  PlayStation    4.8   \n",
       "49  PlayStation Plus: 12 Month Membership [Digital...  PlayStation    4.8   \n",
       "\n",
       "   review_num  price  \n",
       "0      248158  10.00  \n",
       "1      127302  10.00  \n",
       "2       73481   5.00  \n",
       "3       79974  10.00  \n",
       "4       79974  25.00  \n",
       "..        ...    ...  \n",
       "45      47081  59.99  \n",
       "46      47081  59.99  \n",
       "47      47081  59.99  \n",
       "48      47081  59.99  \n",
       "49      47081  59.99  \n",
       "\n",
       "[78 rows x 5 columns]"
      ]
     },
     "execution_count": 74,
     "metadata": {},
     "output_type": "execute_result"
    }
   ],
   "source": [
    "VideoGames_df3.dropna( axis=0, how='any', thresh=None, subset=None, inplace=False)\n"
   ]
  },
  {
   "cell_type": "code",
   "execution_count": 75,
   "id": "38dfba58",
   "metadata": {},
   "outputs": [],
   "source": [
    "#VideoGames_df3.to_csv('VideoGames3.txt', sep=',', index = False)\n"
   ]
  },
  {
   "cell_type": "code",
   "execution_count": 76,
   "id": "e1fd7b92",
   "metadata": {},
   "outputs": [],
   "source": [
    "#df = pd.read_csv('VideoGames.txt')"
   ]
  },
  {
   "cell_type": "code",
   "execution_count": 77,
   "id": "b5e41933",
   "metadata": {},
   "outputs": [],
   "source": [
    "#df.head()"
   ]
  },
  {
   "cell_type": "code",
   "execution_count": 78,
   "id": "0010c5b4",
   "metadata": {
    "scrolled": true
   },
   "outputs": [],
   "source": [
    "#df.info()"
   ]
  },
  {
   "cell_type": "code",
   "execution_count": 79,
   "id": "6382687c",
   "metadata": {},
   "outputs": [],
   "source": [
    "#df.isna().sum()"
   ]
  },
  {
   "cell_type": "code",
   "execution_count": 80,
   "id": "ee37b9fd",
   "metadata": {},
   "outputs": [],
   "source": [
    "#df.head(50)"
   ]
  },
  {
   "cell_type": "code",
   "execution_count": 81,
   "id": "0fcf9073",
   "metadata": {},
   "outputs": [],
   "source": [
    "#df['company'] = df['company'].fillna(df['company'].mode()[0])\n",
    "VideoGames_df3['company'] = VideoGames_df3['company'].fillna('other')\n"
   ]
  },
  {
   "cell_type": "code",
   "execution_count": 82,
   "id": "f2e0361f",
   "metadata": {},
   "outputs": [],
   "source": [
    "VideoGames_df3=VideoGames_df3.fillna(VideoGames_df3.median())"
   ]
  },
  {
   "cell_type": "code",
   "execution_count": 83,
   "id": "17637575",
   "metadata": {},
   "outputs": [],
   "source": [
    "#VideoGames_df3.to_csv('VideoGames3.txt', sep=',', index = False)\n"
   ]
  },
  {
   "cell_type": "code",
   "execution_count": 84,
   "id": "fcf9cbf0",
   "metadata": {},
   "outputs": [],
   "source": [
    "#df = pd.read_csv('VideoGames3.txt')"
   ]
  },
  {
   "cell_type": "code",
   "execution_count": 85,
   "id": "ad62f32b",
   "metadata": {},
   "outputs": [
    {
     "data": {
      "text/html": [
       "<div>\n",
       "<style scoped>\n",
       "    .dataframe tbody tr th:only-of-type {\n",
       "        vertical-align: middle;\n",
       "    }\n",
       "\n",
       "    .dataframe tbody tr th {\n",
       "        vertical-align: top;\n",
       "    }\n",
       "\n",
       "    .dataframe thead th {\n",
       "        text-align: right;\n",
       "    }\n",
       "</style>\n",
       "<table border=\"1\" class=\"dataframe\">\n",
       "  <thead>\n",
       "    <tr style=\"text-align: right;\">\n",
       "      <th></th>\n",
       "      <th>VideoGamesType</th>\n",
       "      <th>company</th>\n",
       "      <th>rating</th>\n",
       "      <th>review_num</th>\n",
       "      <th>price</th>\n",
       "    </tr>\n",
       "  </thead>\n",
       "  <tbody>\n",
       "    <tr>\n",
       "      <th>0</th>\n",
       "      <td>$10 PlayStation Store Gift Card [Digital Code]</td>\n",
       "      <td>PlayStation</td>\n",
       "      <td>4.7</td>\n",
       "      <td>248158</td>\n",
       "      <td>10.00</td>\n",
       "    </tr>\n",
       "    <tr>\n",
       "      <th>1</th>\n",
       "      <td>$10 Xbox Gift Card [Digital Code]</td>\n",
       "      <td>Microsoft</td>\n",
       "      <td>4.7</td>\n",
       "      <td>127302</td>\n",
       "      <td>10.00</td>\n",
       "    </tr>\n",
       "    <tr>\n",
       "      <th>2</th>\n",
       "      <td>$10 Nintendo eShop Gift Card [Digital Code]</td>\n",
       "      <td>Nintendo</td>\n",
       "      <td>4.7</td>\n",
       "      <td>73481</td>\n",
       "      <td>5.00</td>\n",
       "    </tr>\n",
       "    <tr>\n",
       "      <th>3</th>\n",
       "      <td>Roblox Gift Card - 800 Robux [Includes Exclusi...</td>\n",
       "      <td>Roblox</td>\n",
       "      <td>4.6</td>\n",
       "      <td>79974</td>\n",
       "      <td>10.00</td>\n",
       "    </tr>\n",
       "    <tr>\n",
       "      <th>4</th>\n",
       "      <td>Roblox Gift Card - 2000 Robux [Includes Exclus...</td>\n",
       "      <td>Roblox</td>\n",
       "      <td>4.6</td>\n",
       "      <td>79974</td>\n",
       "      <td>25.00</td>\n",
       "    </tr>\n",
       "  </tbody>\n",
       "</table>\n",
       "</div>"
      ],
      "text/plain": [
       "                                      VideoGamesType      company rating  \\\n",
       "0     $10 PlayStation Store Gift Card [Digital Code]  PlayStation    4.7   \n",
       "1                  $10 Xbox Gift Card [Digital Code]    Microsoft    4.7   \n",
       "2        $10 Nintendo eShop Gift Card [Digital Code]     Nintendo    4.7   \n",
       "3  Roblox Gift Card - 800 Robux [Includes Exclusi...       Roblox    4.6   \n",
       "4  Roblox Gift Card - 2000 Robux [Includes Exclus...       Roblox    4.6   \n",
       "\n",
       "  review_num  price  \n",
       "0     248158  10.00  \n",
       "1     127302  10.00  \n",
       "2      73481   5.00  \n",
       "3      79974  10.00  \n",
       "4      79974  25.00  "
      ]
     },
     "execution_count": 85,
     "metadata": {},
     "output_type": "execute_result"
    }
   ],
   "source": [
    "VideoGames_df3.head()"
   ]
  },
  {
   "cell_type": "code",
   "execution_count": 86,
   "id": "09b7de5e",
   "metadata": {},
   "outputs": [],
   "source": [
    "VideoGames_df3['rating']=pd.to_numeric(VideoGames_df3['rating'], errors='coerce')\n",
    "VideoGames_df3['review_num']=pd.to_numeric(VideoGames_df3['review_num'], errors='coerce')\n",
    "VideoGames_df3['price']=pd.to_numeric(VideoGames_df3['price'], errors='coerce')\n"
   ]
  },
  {
   "cell_type": "code",
   "execution_count": 87,
   "id": "79bc4d60",
   "metadata": {},
   "outputs": [
    {
     "data": {
      "text/html": [
       "<div>\n",
       "<style scoped>\n",
       "    .dataframe tbody tr th:only-of-type {\n",
       "        vertical-align: middle;\n",
       "    }\n",
       "\n",
       "    .dataframe tbody tr th {\n",
       "        vertical-align: top;\n",
       "    }\n",
       "\n",
       "    .dataframe thead th {\n",
       "        text-align: right;\n",
       "    }\n",
       "</style>\n",
       "<table border=\"1\" class=\"dataframe\">\n",
       "  <thead>\n",
       "    <tr style=\"text-align: right;\">\n",
       "      <th></th>\n",
       "      <th>VideoGamesType</th>\n",
       "      <th>company</th>\n",
       "      <th>rating</th>\n",
       "      <th>review_num</th>\n",
       "      <th>price</th>\n",
       "    </tr>\n",
       "  </thead>\n",
       "  <tbody>\n",
       "    <tr>\n",
       "      <th>0</th>\n",
       "      <td>$10 PlayStation Store Gift Card [Digital Code]</td>\n",
       "      <td>PlayStation</td>\n",
       "      <td>4.7</td>\n",
       "      <td>248158.0</td>\n",
       "      <td>10.0</td>\n",
       "    </tr>\n",
       "    <tr>\n",
       "      <th>1</th>\n",
       "      <td>$10 Xbox Gift Card [Digital Code]</td>\n",
       "      <td>Microsoft</td>\n",
       "      <td>4.7</td>\n",
       "      <td>127302.0</td>\n",
       "      <td>10.0</td>\n",
       "    </tr>\n",
       "    <tr>\n",
       "      <th>2</th>\n",
       "      <td>$10 Nintendo eShop Gift Card [Digital Code]</td>\n",
       "      <td>Nintendo</td>\n",
       "      <td>4.7</td>\n",
       "      <td>73481.0</td>\n",
       "      <td>5.0</td>\n",
       "    </tr>\n",
       "    <tr>\n",
       "      <th>3</th>\n",
       "      <td>Roblox Gift Card - 800 Robux [Includes Exclusi...</td>\n",
       "      <td>Roblox</td>\n",
       "      <td>4.6</td>\n",
       "      <td>79974.0</td>\n",
       "      <td>10.0</td>\n",
       "    </tr>\n",
       "    <tr>\n",
       "      <th>4</th>\n",
       "      <td>Roblox Gift Card - 2000 Robux [Includes Exclus...</td>\n",
       "      <td>Roblox</td>\n",
       "      <td>4.6</td>\n",
       "      <td>79974.0</td>\n",
       "      <td>25.0</td>\n",
       "    </tr>\n",
       "  </tbody>\n",
       "</table>\n",
       "</div>"
      ],
      "text/plain": [
       "                                      VideoGamesType      company  rating  \\\n",
       "0     $10 PlayStation Store Gift Card [Digital Code]  PlayStation     4.7   \n",
       "1                  $10 Xbox Gift Card [Digital Code]    Microsoft     4.7   \n",
       "2        $10 Nintendo eShop Gift Card [Digital Code]     Nintendo     4.7   \n",
       "3  Roblox Gift Card - 800 Robux [Includes Exclusi...       Roblox     4.6   \n",
       "4  Roblox Gift Card - 2000 Robux [Includes Exclus...       Roblox     4.6   \n",
       "\n",
       "   review_num  price  \n",
       "0    248158.0   10.0  \n",
       "1    127302.0   10.0  \n",
       "2     73481.0    5.0  \n",
       "3     79974.0   10.0  \n",
       "4     79974.0   25.0  "
      ]
     },
     "execution_count": 87,
     "metadata": {},
     "output_type": "execute_result"
    }
   ],
   "source": [
    "VideoGames_df3.head()"
   ]
  },
  {
   "cell_type": "code",
   "execution_count": 88,
   "id": "020b5ef9",
   "metadata": {},
   "outputs": [
    {
     "data": {
      "text/html": [
       "<div>\n",
       "<style scoped>\n",
       "    .dataframe tbody tr th:only-of-type {\n",
       "        vertical-align: middle;\n",
       "    }\n",
       "\n",
       "    .dataframe tbody tr th {\n",
       "        vertical-align: top;\n",
       "    }\n",
       "\n",
       "    .dataframe thead th {\n",
       "        text-align: right;\n",
       "    }\n",
       "</style>\n",
       "<table border=\"1\" class=\"dataframe\">\n",
       "  <thead>\n",
       "    <tr style=\"text-align: right;\">\n",
       "      <th></th>\n",
       "      <th>rating</th>\n",
       "      <th>review_num</th>\n",
       "      <th>price</th>\n",
       "    </tr>\n",
       "  </thead>\n",
       "  <tbody>\n",
       "    <tr>\n",
       "      <th>rating</th>\n",
       "      <td>1.000000</td>\n",
       "      <td>0.193953</td>\n",
       "      <td>0.143998</td>\n",
       "    </tr>\n",
       "    <tr>\n",
       "      <th>review_num</th>\n",
       "      <td>0.193953</td>\n",
       "      <td>1.000000</td>\n",
       "      <td>-0.094867</td>\n",
       "    </tr>\n",
       "    <tr>\n",
       "      <th>price</th>\n",
       "      <td>0.143998</td>\n",
       "      <td>-0.094867</td>\n",
       "      <td>1.000000</td>\n",
       "    </tr>\n",
       "  </tbody>\n",
       "</table>\n",
       "</div>"
      ],
      "text/plain": [
       "              rating  review_num     price\n",
       "rating      1.000000    0.193953  0.143998\n",
       "review_num  0.193953    1.000000 -0.094867\n",
       "price       0.143998   -0.094867  1.000000"
      ]
     },
     "execution_count": 88,
     "metadata": {},
     "output_type": "execute_result"
    }
   ],
   "source": [
    "VideoGames_df3.corr()"
   ]
  },
  {
   "cell_type": "code",
   "execution_count": 89,
   "id": "8b85e83d",
   "metadata": {},
   "outputs": [
    {
     "data": {
      "text/plain": [
       "<AxesSubplot:>"
      ]
     },
     "execution_count": 89,
     "metadata": {},
     "output_type": "execute_result"
    },
    {
     "data": {
      "image/png": "[encoded data removed]",
      "text/plain": [
       "<Figure size 432x288 with 2 Axes>"
      ]
     },
     "metadata": {
      "needs_background": "light"
     },
     "output_type": "display_data"
    }
   ],
   "source": [
    "#plt.figure(figsize=(20,10))\n",
    "sns.heatmap(VideoGames_df3.corr(), cmap='seismic',annot=True,vmin=-1,vmax=1)"
   ]
  },
  {
   "cell_type": "code",
   "execution_count": 90,
   "id": "c8680d47",
   "metadata": {},
   "outputs": [
    {
     "data": {
      "text/plain": [
       "<seaborn.axisgrid.PairGrid at 0x221dee19490>"
      ]
     },
     "execution_count": 90,
     "metadata": {},
     "output_type": "execute_result"
    },
    {
     "data": {
      "image/png": "[encoded data removed]",
      "text/plain": [
       "<Figure size 540x540 with 12 Axes>"
      ]
     },
     "metadata": {
      "needs_background": "light"
     },
     "output_type": "display_data"
    }
   ],
   "source": [
    "sns.pairplot(VideoGames_df3)"
   ]
  },
  {
   "cell_type": "code",
   "execution_count": 91,
   "id": "7552b009",
   "metadata": {},
   "outputs": [],
   "source": [
    "#VideoGames_df3.dropna(inplace = True)"
   ]
  },
  {
   "cell_type": "code",
   "execution_count": 92,
   "id": "70dfa5ae",
   "metadata": {},
   "outputs": [
    {
     "name": "stdout",
     "output_type": "stream",
     "text": [
      "<class 'pandas.core.frame.DataFrame'>\n",
      "Int64Index: 100 entries, 0 to 49\n",
      "Data columns (total 5 columns):\n",
      " #   Column          Non-Null Count  Dtype  \n",
      "---  ------          --------------  -----  \n",
      " 0   VideoGamesType  100 non-null    object \n",
      " 1   company         100 non-null    object \n",
      " 2   rating          100 non-null    float64\n",
      " 3   review_num      100 non-null    float64\n",
      " 4   price           100 non-null    float64\n",
      "dtypes: float64(3), object(2)\n",
      "memory usage: 4.7+ KB\n"
     ]
    }
   ],
   "source": [
    "VideoGames_df3.info()"
   ]
  },
  {
   "cell_type": "code",
   "execution_count": 93,
   "id": "9886af7c",
   "metadata": {},
   "outputs": [],
   "source": [
    "VideoGames_df3.drop(columns=['VideoGamesType'],axis=1,  inplace=True)\n",
    "\n"
   ]
  },
  {
   "cell_type": "code",
   "execution_count": 94,
   "id": "d77ea08e",
   "metadata": {},
   "outputs": [
    {
     "data": {
      "text/html": [
       "<div>\n",
       "<style scoped>\n",
       "    .dataframe tbody tr th:only-of-type {\n",
       "        vertical-align: middle;\n",
       "    }\n",
       "\n",
       "    .dataframe tbody tr th {\n",
       "        vertical-align: top;\n",
       "    }\n",
       "\n",
       "    .dataframe thead th {\n",
       "        text-align: right;\n",
       "    }\n",
       "</style>\n",
       "<table border=\"1\" class=\"dataframe\">\n",
       "  <thead>\n",
       "    <tr style=\"text-align: right;\">\n",
       "      <th></th>\n",
       "      <th>rating</th>\n",
       "      <th>review_num</th>\n",
       "      <th>price</th>\n",
       "      <th>company_Electronic Arts</th>\n",
       "      <th>company_Microsoft</th>\n",
       "      <th>company_Mojang AB</th>\n",
       "      <th>company_Nintendo</th>\n",
       "      <th>company_Oculus</th>\n",
       "      <th>company_PlayStation</th>\n",
       "      <th>company_Riot Games</th>\n",
       "      <th>company_Roblox</th>\n",
       "      <th>company_Take-Two 2K</th>\n",
       "      <th>company_other</th>\n",
       "    </tr>\n",
       "  </thead>\n",
       "  <tbody>\n",
       "    <tr>\n",
       "      <th>0</th>\n",
       "      <td>4.7</td>\n",
       "      <td>248158.0</td>\n",
       "      <td>10.00</td>\n",
       "      <td>0</td>\n",
       "      <td>0</td>\n",
       "      <td>0</td>\n",
       "      <td>0</td>\n",
       "      <td>0</td>\n",
       "      <td>1</td>\n",
       "      <td>0</td>\n",
       "      <td>0</td>\n",
       "      <td>0</td>\n",
       "      <td>0</td>\n",
       "    </tr>\n",
       "    <tr>\n",
       "      <th>1</th>\n",
       "      <td>4.7</td>\n",
       "      <td>127302.0</td>\n",
       "      <td>10.00</td>\n",
       "      <td>0</td>\n",
       "      <td>1</td>\n",
       "      <td>0</td>\n",
       "      <td>0</td>\n",
       "      <td>0</td>\n",
       "      <td>0</td>\n",
       "      <td>0</td>\n",
       "      <td>0</td>\n",
       "      <td>0</td>\n",
       "      <td>0</td>\n",
       "    </tr>\n",
       "    <tr>\n",
       "      <th>2</th>\n",
       "      <td>4.7</td>\n",
       "      <td>73481.0</td>\n",
       "      <td>5.00</td>\n",
       "      <td>0</td>\n",
       "      <td>0</td>\n",
       "      <td>0</td>\n",
       "      <td>1</td>\n",
       "      <td>0</td>\n",
       "      <td>0</td>\n",
       "      <td>0</td>\n",
       "      <td>0</td>\n",
       "      <td>0</td>\n",
       "      <td>0</td>\n",
       "    </tr>\n",
       "    <tr>\n",
       "      <th>3</th>\n",
       "      <td>4.6</td>\n",
       "      <td>79974.0</td>\n",
       "      <td>10.00</td>\n",
       "      <td>0</td>\n",
       "      <td>0</td>\n",
       "      <td>0</td>\n",
       "      <td>0</td>\n",
       "      <td>0</td>\n",
       "      <td>0</td>\n",
       "      <td>0</td>\n",
       "      <td>1</td>\n",
       "      <td>0</td>\n",
       "      <td>0</td>\n",
       "    </tr>\n",
       "    <tr>\n",
       "      <th>4</th>\n",
       "      <td>4.6</td>\n",
       "      <td>79974.0</td>\n",
       "      <td>25.00</td>\n",
       "      <td>0</td>\n",
       "      <td>0</td>\n",
       "      <td>0</td>\n",
       "      <td>0</td>\n",
       "      <td>0</td>\n",
       "      <td>0</td>\n",
       "      <td>0</td>\n",
       "      <td>1</td>\n",
       "      <td>0</td>\n",
       "      <td>0</td>\n",
       "    </tr>\n",
       "    <tr>\n",
       "      <th>...</th>\n",
       "      <td>...</td>\n",
       "      <td>...</td>\n",
       "      <td>...</td>\n",
       "      <td>...</td>\n",
       "      <td>...</td>\n",
       "      <td>...</td>\n",
       "      <td>...</td>\n",
       "      <td>...</td>\n",
       "      <td>...</td>\n",
       "      <td>...</td>\n",
       "      <td>...</td>\n",
       "      <td>...</td>\n",
       "      <td>...</td>\n",
       "    </tr>\n",
       "    <tr>\n",
       "      <th>45</th>\n",
       "      <td>4.8</td>\n",
       "      <td>47081.0</td>\n",
       "      <td>59.99</td>\n",
       "      <td>0</td>\n",
       "      <td>0</td>\n",
       "      <td>0</td>\n",
       "      <td>0</td>\n",
       "      <td>0</td>\n",
       "      <td>1</td>\n",
       "      <td>0</td>\n",
       "      <td>0</td>\n",
       "      <td>0</td>\n",
       "      <td>0</td>\n",
       "    </tr>\n",
       "    <tr>\n",
       "      <th>46</th>\n",
       "      <td>4.8</td>\n",
       "      <td>47081.0</td>\n",
       "      <td>59.99</td>\n",
       "      <td>0</td>\n",
       "      <td>0</td>\n",
       "      <td>0</td>\n",
       "      <td>0</td>\n",
       "      <td>0</td>\n",
       "      <td>1</td>\n",
       "      <td>0</td>\n",
       "      <td>0</td>\n",
       "      <td>0</td>\n",
       "      <td>0</td>\n",
       "    </tr>\n",
       "    <tr>\n",
       "      <th>47</th>\n",
       "      <td>4.8</td>\n",
       "      <td>47081.0</td>\n",
       "      <td>59.99</td>\n",
       "      <td>0</td>\n",
       "      <td>0</td>\n",
       "      <td>0</td>\n",
       "      <td>0</td>\n",
       "      <td>0</td>\n",
       "      <td>1</td>\n",
       "      <td>0</td>\n",
       "      <td>0</td>\n",
       "      <td>0</td>\n",
       "      <td>0</td>\n",
       "    </tr>\n",
       "    <tr>\n",
       "      <th>48</th>\n",
       "      <td>4.8</td>\n",
       "      <td>47081.0</td>\n",
       "      <td>59.99</td>\n",
       "      <td>0</td>\n",
       "      <td>0</td>\n",
       "      <td>0</td>\n",
       "      <td>0</td>\n",
       "      <td>0</td>\n",
       "      <td>1</td>\n",
       "      <td>0</td>\n",
       "      <td>0</td>\n",
       "      <td>0</td>\n",
       "      <td>0</td>\n",
       "    </tr>\n",
       "    <tr>\n",
       "      <th>49</th>\n",
       "      <td>4.8</td>\n",
       "      <td>47081.0</td>\n",
       "      <td>59.99</td>\n",
       "      <td>0</td>\n",
       "      <td>0</td>\n",
       "      <td>0</td>\n",
       "      <td>0</td>\n",
       "      <td>0</td>\n",
       "      <td>1</td>\n",
       "      <td>0</td>\n",
       "      <td>0</td>\n",
       "      <td>0</td>\n",
       "      <td>0</td>\n",
       "    </tr>\n",
       "  </tbody>\n",
       "</table>\n",
       "<p>100 rows × 13 columns</p>\n",
       "</div>"
      ],
      "text/plain": [
       "    rating  review_num  price  company_Electronic Arts  company_Microsoft  \\\n",
       "0      4.7    248158.0  10.00                        0                  0   \n",
       "1      4.7    127302.0  10.00                        0                  1   \n",
       "2      4.7     73481.0   5.00                        0                  0   \n",
       "3      4.6     79974.0  10.00                        0                  0   \n",
       "4      4.6     79974.0  25.00                        0                  0   \n",
       "..     ...         ...    ...                      ...                ...   \n",
       "45     4.8     47081.0  59.99                        0                  0   \n",
       "46     4.8     47081.0  59.99                        0                  0   \n",
       "47     4.8     47081.0  59.99                        0                  0   \n",
       "48     4.8     47081.0  59.99                        0                  0   \n",
       "49     4.8     47081.0  59.99                        0                  0   \n",
       "\n",
       "    company_Mojang AB  company_Nintendo  company_Oculus  company_PlayStation  \\\n",
       "0                   0                 0               0                    1   \n",
       "1                   0                 0               0                    0   \n",
       "2                   0                 1               0                    0   \n",
       "3                   0                 0               0                    0   \n",
       "4                   0                 0               0                    0   \n",
       "..                ...               ...             ...                  ...   \n",
       "45                  0                 0               0                    1   \n",
       "46                  0                 0               0                    1   \n",
       "47                  0                 0               0                    1   \n",
       "48                  0                 0               0                    1   \n",
       "49                  0                 0               0                    1   \n",
       "\n",
       "    company_Riot Games  company_Roblox  company_Take-Two 2K  company_other  \n",
       "0                    0               0                    0              0  \n",
       "1                    0               0                    0              0  \n",
       "2                    0               0                    0              0  \n",
       "3                    0               1                    0              0  \n",
       "4                    0               1                    0              0  \n",
       "..                 ...             ...                  ...            ...  \n",
       "45                   0               0                    0              0  \n",
       "46                   0               0                    0              0  \n",
       "47                   0               0                    0              0  \n",
       "48                   0               0                    0              0  \n",
       "49                   0               0                    0              0  \n",
       "\n",
       "[100 rows x 13 columns]"
      ]
     },
     "execution_count": 94,
     "metadata": {},
     "output_type": "execute_result"
    }
   ],
   "source": [
    "X_dummy = pd.get_dummies(VideoGames_df3)\n",
    "X_dummy"
   ]
  },
  {
   "cell_type": "code",
   "execution_count": 95,
   "id": "4b80457a",
   "metadata": {},
   "outputs": [
    {
     "data": {
      "text/html": [
       "<div>\n",
       "<style scoped>\n",
       "    .dataframe tbody tr th:only-of-type {\n",
       "        vertical-align: middle;\n",
       "    }\n",
       "\n",
       "    .dataframe tbody tr th {\n",
       "        vertical-align: top;\n",
       "    }\n",
       "\n",
       "    .dataframe thead th {\n",
       "        text-align: right;\n",
       "    }\n",
       "</style>\n",
       "<table border=\"1\" class=\"dataframe\">\n",
       "  <thead>\n",
       "    <tr style=\"text-align: right;\">\n",
       "      <th></th>\n",
       "      <th>rating</th>\n",
       "      <th>review_num</th>\n",
       "      <th>company_Electronic Arts</th>\n",
       "      <th>company_Microsoft</th>\n",
       "      <th>company_Mojang AB</th>\n",
       "      <th>company_Nintendo</th>\n",
       "      <th>company_Oculus</th>\n",
       "      <th>company_PlayStation</th>\n",
       "      <th>company_Riot Games</th>\n",
       "      <th>company_Take-Two 2K</th>\n",
       "      <th>company_other</th>\n",
       "    </tr>\n",
       "  </thead>\n",
       "  <tbody>\n",
       "    <tr>\n",
       "      <th>0</th>\n",
       "      <td>4.7</td>\n",
       "      <td>248158.0</td>\n",
       "      <td>0</td>\n",
       "      <td>0</td>\n",
       "      <td>0</td>\n",
       "      <td>0</td>\n",
       "      <td>0</td>\n",
       "      <td>1</td>\n",
       "      <td>0</td>\n",
       "      <td>0</td>\n",
       "      <td>0</td>\n",
       "    </tr>\n",
       "    <tr>\n",
       "      <th>1</th>\n",
       "      <td>4.7</td>\n",
       "      <td>127302.0</td>\n",
       "      <td>0</td>\n",
       "      <td>1</td>\n",
       "      <td>0</td>\n",
       "      <td>0</td>\n",
       "      <td>0</td>\n",
       "      <td>0</td>\n",
       "      <td>0</td>\n",
       "      <td>0</td>\n",
       "      <td>0</td>\n",
       "    </tr>\n",
       "    <tr>\n",
       "      <th>2</th>\n",
       "      <td>4.7</td>\n",
       "      <td>73481.0</td>\n",
       "      <td>0</td>\n",
       "      <td>0</td>\n",
       "      <td>0</td>\n",
       "      <td>1</td>\n",
       "      <td>0</td>\n",
       "      <td>0</td>\n",
       "      <td>0</td>\n",
       "      <td>0</td>\n",
       "      <td>0</td>\n",
       "    </tr>\n",
       "    <tr>\n",
       "      <th>3</th>\n",
       "      <td>4.6</td>\n",
       "      <td>79974.0</td>\n",
       "      <td>0</td>\n",
       "      <td>0</td>\n",
       "      <td>0</td>\n",
       "      <td>0</td>\n",
       "      <td>0</td>\n",
       "      <td>0</td>\n",
       "      <td>0</td>\n",
       "      <td>0</td>\n",
       "      <td>0</td>\n",
       "    </tr>\n",
       "    <tr>\n",
       "      <th>4</th>\n",
       "      <td>4.6</td>\n",
       "      <td>79974.0</td>\n",
       "      <td>0</td>\n",
       "      <td>0</td>\n",
       "      <td>0</td>\n",
       "      <td>0</td>\n",
       "      <td>0</td>\n",
       "      <td>0</td>\n",
       "      <td>0</td>\n",
       "      <td>0</td>\n",
       "      <td>0</td>\n",
       "    </tr>\n",
       "    <tr>\n",
       "      <th>...</th>\n",
       "      <td>...</td>\n",
       "      <td>...</td>\n",
       "      <td>...</td>\n",
       "      <td>...</td>\n",
       "      <td>...</td>\n",
       "      <td>...</td>\n",
       "      <td>...</td>\n",
       "      <td>...</td>\n",
       "      <td>...</td>\n",
       "      <td>...</td>\n",
       "      <td>...</td>\n",
       "    </tr>\n",
       "    <tr>\n",
       "      <th>45</th>\n",
       "      <td>4.8</td>\n",
       "      <td>47081.0</td>\n",
       "      <td>0</td>\n",
       "      <td>0</td>\n",
       "      <td>0</td>\n",
       "      <td>0</td>\n",
       "      <td>0</td>\n",
       "      <td>1</td>\n",
       "      <td>0</td>\n",
       "      <td>0</td>\n",
       "      <td>0</td>\n",
       "    </tr>\n",
       "    <tr>\n",
       "      <th>46</th>\n",
       "      <td>4.8</td>\n",
       "      <td>47081.0</td>\n",
       "      <td>0</td>\n",
       "      <td>0</td>\n",
       "      <td>0</td>\n",
       "      <td>0</td>\n",
       "      <td>0</td>\n",
       "      <td>1</td>\n",
       "      <td>0</td>\n",
       "      <td>0</td>\n",
       "      <td>0</td>\n",
       "    </tr>\n",
       "    <tr>\n",
       "      <th>47</th>\n",
       "      <td>4.8</td>\n",
       "      <td>47081.0</td>\n",
       "      <td>0</td>\n",
       "      <td>0</td>\n",
       "      <td>0</td>\n",
       "      <td>0</td>\n",
       "      <td>0</td>\n",
       "      <td>1</td>\n",
       "      <td>0</td>\n",
       "      <td>0</td>\n",
       "      <td>0</td>\n",
       "    </tr>\n",
       "    <tr>\n",
       "      <th>48</th>\n",
       "      <td>4.8</td>\n",
       "      <td>47081.0</td>\n",
       "      <td>0</td>\n",
       "      <td>0</td>\n",
       "      <td>0</td>\n",
       "      <td>0</td>\n",
       "      <td>0</td>\n",
       "      <td>1</td>\n",
       "      <td>0</td>\n",
       "      <td>0</td>\n",
       "      <td>0</td>\n",
       "    </tr>\n",
       "    <tr>\n",
       "      <th>49</th>\n",
       "      <td>4.8</td>\n",
       "      <td>47081.0</td>\n",
       "      <td>0</td>\n",
       "      <td>0</td>\n",
       "      <td>0</td>\n",
       "      <td>0</td>\n",
       "      <td>0</td>\n",
       "      <td>1</td>\n",
       "      <td>0</td>\n",
       "      <td>0</td>\n",
       "      <td>0</td>\n",
       "    </tr>\n",
       "  </tbody>\n",
       "</table>\n",
       "<p>100 rows × 11 columns</p>\n",
       "</div>"
      ],
      "text/plain": [
       "    rating  review_num  company_Electronic Arts  company_Microsoft  \\\n",
       "0      4.7    248158.0                        0                  0   \n",
       "1      4.7    127302.0                        0                  1   \n",
       "2      4.7     73481.0                        0                  0   \n",
       "3      4.6     79974.0                        0                  0   \n",
       "4      4.6     79974.0                        0                  0   \n",
       "..     ...         ...                      ...                ...   \n",
       "45     4.8     47081.0                        0                  0   \n",
       "46     4.8     47081.0                        0                  0   \n",
       "47     4.8     47081.0                        0                  0   \n",
       "48     4.8     47081.0                        0                  0   \n",
       "49     4.8     47081.0                        0                  0   \n",
       "\n",
       "    company_Mojang AB  company_Nintendo  company_Oculus  company_PlayStation  \\\n",
       "0                   0                 0               0                    1   \n",
       "1                   0                 0               0                    0   \n",
       "2                   0                 1               0                    0   \n",
       "3                   0                 0               0                    0   \n",
       "4                   0                 0               0                    0   \n",
       "..                ...               ...             ...                  ...   \n",
       "45                  0                 0               0                    1   \n",
       "46                  0                 0               0                    1   \n",
       "47                  0                 0               0                    1   \n",
       "48                  0                 0               0                    1   \n",
       "49                  0                 0               0                    1   \n",
       "\n",
       "    company_Riot Games  company_Take-Two 2K  company_other  \n",
       "0                    0                    0              0  \n",
       "1                    0                    0              0  \n",
       "2                    0                    0              0  \n",
       "3                    0                    0              0  \n",
       "4                    0                    0              0  \n",
       "..                 ...                  ...            ...  \n",
       "45                   0                    0              0  \n",
       "46                   0                    0              0  \n",
       "47                   0                    0              0  \n",
       "48                   0                    0              0  \n",
       "49                   0                    0              0  \n",
       "\n",
       "[100 rows x 11 columns]"
      ]
     },
     "execution_count": 95,
     "metadata": {},
     "output_type": "execute_result"
    }
   ],
   "source": [
    "\n",
    "X_dummy.drop(columns=['company_Roblox','price'],axis=1,  inplace=True)\n",
    "X_dummy\n"
   ]
  },
  {
   "cell_type": "code",
   "execution_count": 96,
   "id": "1bdae5a0",
   "metadata": {},
   "outputs": [],
   "source": [
    "y = VideoGames_df3['price']\n"
   ]
  },
  {
   "cell_type": "code",
   "execution_count": 97,
   "id": "5efe7acd",
   "metadata": {},
   "outputs": [],
   "source": [
    "X_train, X_test, y_train, y_test = train_test_split(X_dummy,y,test_size=0.20, random_state=19)"
   ]
  },
  {
   "cell_type": "code",
   "execution_count": 98,
   "id": "205ebf6c",
   "metadata": {},
   "outputs": [],
   "source": [
    "X_train, X_val, y_train, y_val = train_test_split(X_train, y_train, test_size=0.25, random_state=19)"
   ]
  },
  {
   "cell_type": "code",
   "execution_count": 99,
   "id": "417b9bdf",
   "metadata": {},
   "outputs": [
    {
     "data": {
      "text/plain": [
       "LinearRegression()"
      ]
     },
     "execution_count": 99,
     "metadata": {},
     "output_type": "execute_result"
    }
   ],
   "source": [
    "m = LinearRegression()\n",
    "x=VideoGames_df[['VideoGamesType','company','rating','review_num']]\n",
    "y=VideoGames_df[['price']]\n",
    "m.fit(pd.get_dummies(X_train),y_train)"
   ]
  },
  {
   "cell_type": "code",
   "execution_count": 100,
   "id": "4eaecac6",
   "metadata": {},
   "outputs": [
    {
     "data": {
      "text/plain": [
       "-6.6216699353858175"
      ]
     },
     "execution_count": 100,
     "metadata": {},
     "output_type": "execute_result"
    }
   ],
   "source": [
    "m.score(pd.get_dummies(X_test),y_test)"
   ]
  },
  {
   "cell_type": "code",
   "execution_count": 101,
   "id": "49169aee",
   "metadata": {},
   "outputs": [
    {
     "data": {
      "text/plain": [
       "-0.8276704700368103"
      ]
     },
     "execution_count": 101,
     "metadata": {},
     "output_type": "execute_result"
    }
   ],
   "source": [
    "m.score(pd.get_dummies(X_val),y_val)"
   ]
  },
  {
   "cell_type": "code",
   "execution_count": 102,
   "id": "018e49e7",
   "metadata": {},
   "outputs": [
    {
     "data": {
      "text/plain": [
       "0.11904601533181791"
      ]
     },
     "execution_count": 102,
     "metadata": {},
     "output_type": "execute_result"
    }
   ],
   "source": [
    "m.score(pd.get_dummies(X_train),y_train)"
   ]
  },
  {
   "cell_type": "code",
   "execution_count": 103,
   "id": "66754036",
   "metadata": {},
   "outputs": [],
   "source": [
    "preds = m.predict(pd.get_dummies(X_train))"
   ]
  },
  {
   "cell_type": "code",
   "execution_count": 104,
   "id": "a8a93927",
   "metadata": {},
   "outputs": [],
   "source": [
    "X2 = pd.get_dummies(X_train)\n",
    "y = y_train"
   ]
  },
  {
   "cell_type": "code",
   "execution_count": 105,
   "id": "aeac8491",
   "metadata": {},
   "outputs": [
    {
     "name": "stdout",
     "output_type": "stream",
     "text": [
      "SSE 725590.7656372904\n",
      "RMSE 109.96899302661717\n",
      "MAE 41.36211704400172\n",
      "R2 0.11904601533181769\n"
     ]
    }
   ],
   "source": [
    "def SSE(actuals, preds):\n",
    "    return np.sum((actuals - preds)**2)\n",
    "    \n",
    "#y = y.to_numpy()    \n",
    "#\n",
    "def SST(y):\n",
    "    return np.sum((y - np.mean(y))**2)\n",
    "\n",
    "def R2(actuals, preds):\n",
    "    return 1 - SSE(actuals, preds) / SST(actuals)\n",
    "\n",
    "def MAE(actuals, preds): #mean absolute error\n",
    "    return np.mean(np.abs(actuals-preds))\n",
    "\n",
    "def RMSE(actuals, preds): #root mean squared error\n",
    "    return np.sqrt(np.mean((actuals - preds)**2))\n",
    "\n",
    "y = y.astype('float64')\n",
    "\n",
    "print (\"SSE\" , SSE(y,preds) )\n",
    "print (\"RMSE\" , RMSE(y,preds))\n",
    "print (\"MAE\" , MAE(y,preds))\n",
    "print (\"R2\" , R2(y,preds))"
   ]
  },
  {
   "cell_type": "code",
   "execution_count": 106,
   "id": "0bb02159",
   "metadata": {},
   "outputs": [
    {
     "data": {
      "text/plain": [
       "Index(['rating', 'review_num', 'company_Electronic Arts', 'company_Microsoft',\n",
       "       'company_Mojang AB', 'company_Nintendo', 'company_Oculus',\n",
       "       'company_PlayStation', 'company_Riot Games', 'company_Take-Two 2K',\n",
       "       'company_other'],\n",
       "      dtype='object')"
      ]
     },
     "execution_count": 106,
     "metadata": {},
     "output_type": "execute_result"
    }
   ],
   "source": [
    "X2.columns"
   ]
  },
  {
   "cell_type": "code",
   "execution_count": 107,
   "id": "d96bc87c",
   "metadata": {},
   "outputs": [
    {
     "data": {
      "text/plain": [
       "(60, 11)"
      ]
     },
     "execution_count": 107,
     "metadata": {},
     "output_type": "execute_result"
    }
   ],
   "source": [
    "X2.shape"
   ]
  },
  {
   "cell_type": "code",
   "execution_count": 108,
   "id": "bab6d769",
   "metadata": {},
   "outputs": [
    {
     "data": {
      "text/plain": [
       "(20, 11)"
      ]
     },
     "execution_count": 108,
     "metadata": {},
     "output_type": "execute_result"
    }
   ],
   "source": [
    "X_val.shape"
   ]
  },
  {
   "cell_type": "code",
   "execution_count": 109,
   "id": "5f7e5fee",
   "metadata": {},
   "outputs": [
    {
     "data": {
      "text/plain": [
       "(20, 11)"
      ]
     },
     "execution_count": 109,
     "metadata": {},
     "output_type": "execute_result"
    }
   ],
   "source": [
    "X_test.shape"
   ]
  },
  {
   "cell_type": "code",
   "execution_count": 110,
   "id": "f0141e01",
   "metadata": {},
   "outputs": [],
   "source": [
    "selected_columns = ['rating', 'review_num', 'company_Microsoft', 'company_Mojang AB',\n",
    "       'company_Nintendo', 'company_Oculus', 'company_PlayStation',\n",
    "       'company_Riot Games', 'company_Take-Two 2K', 'company_other']"
   ]
  },
  {
   "cell_type": "code",
   "execution_count": 111,
   "id": "17b4357a",
   "metadata": {},
   "outputs": [
    {
     "name": "stdout",
     "output_type": "stream",
     "text": [
      "<class 'pandas.core.frame.DataFrame'>\n",
      "Int64Index: 60 entries, 7 to 46\n",
      "Data columns (total 11 columns):\n",
      " #   Column                   Non-Null Count  Dtype  \n",
      "---  ------                   --------------  -----  \n",
      " 0   rating                   60 non-null     float64\n",
      " 1   review_num               60 non-null     float64\n",
      " 2   company_Electronic Arts  60 non-null     uint8  \n",
      " 3   company_Microsoft        60 non-null     uint8  \n",
      " 4   company_Mojang AB        60 non-null     uint8  \n",
      " 5   company_Nintendo         60 non-null     uint8  \n",
      " 6   company_Oculus           60 non-null     uint8  \n",
      " 7   company_PlayStation      60 non-null     uint8  \n",
      " 8   company_Riot Games       60 non-null     uint8  \n",
      " 9   company_Take-Two 2K      60 non-null     uint8  \n",
      " 10  company_other            60 non-null     uint8  \n",
      "dtypes: float64(2), uint8(9)\n",
      "memory usage: 1.9 KB\n"
     ]
    }
   ],
   "source": [
    "X2.info()"
   ]
  },
  {
   "cell_type": "code",
   "execution_count": 112,
   "id": "2b670629",
   "metadata": {},
   "outputs": [
    {
     "data": {
      "text/plain": [
       "Lasso(alpha=1000000)"
      ]
     },
     "execution_count": 112,
     "metadata": {},
     "output_type": "execute_result"
    }
   ],
   "source": [
    "lasso_model = Lasso(alpha = 1000000) # this is a VERY HIGH regularization strength!, wouldn't usually be used\n",
    "lasso_model.fit(X2.loc[:,selected_columns], y)"
   ]
  },
  {
   "cell_type": "code",
   "execution_count": 113,
   "id": "e0d0b93a",
   "metadata": {},
   "outputs": [
    {
     "data": {
      "text/plain": [
       "[('rating', 0.0),\n",
       " ('review_num', -0.0),\n",
       " ('company_Microsoft', -0.0),\n",
       " ('company_Mojang AB', 0.0),\n",
       " ('company_Nintendo', -0.0),\n",
       " ('company_Oculus', 0.0),\n",
       " ('company_PlayStation', 0.0),\n",
       " ('company_Riot Games', -0.0),\n",
       " ('company_Take-Two 2K', -0.0),\n",
       " ('company_other', 0.0)]"
      ]
     },
     "execution_count": 113,
     "metadata": {},
     "output_type": "execute_result"
    }
   ],
   "source": [
    "list(zip(selected_columns, lasso_model.coef_))"
   ]
  },
  {
   "cell_type": "code",
   "execution_count": 114,
   "id": "963f721f",
   "metadata": {},
   "outputs": [
    {
     "data": {
      "text/html": [
       "<div>\n",
       "<style scoped>\n",
       "    .dataframe tbody tr th:only-of-type {\n",
       "        vertical-align: middle;\n",
       "    }\n",
       "\n",
       "    .dataframe tbody tr th {\n",
       "        vertical-align: top;\n",
       "    }\n",
       "\n",
       "    .dataframe thead th {\n",
       "        text-align: right;\n",
       "    }\n",
       "</style>\n",
       "<table border=\"1\" class=\"dataframe\">\n",
       "  <thead>\n",
       "    <tr style=\"text-align: right;\">\n",
       "      <th></th>\n",
       "      <th>rating</th>\n",
       "      <th>review_num</th>\n",
       "      <th>company_Microsoft</th>\n",
       "      <th>company_Mojang AB</th>\n",
       "      <th>company_Nintendo</th>\n",
       "      <th>company_Oculus</th>\n",
       "      <th>company_PlayStation</th>\n",
       "      <th>company_Riot Games</th>\n",
       "      <th>company_Take-Two 2K</th>\n",
       "      <th>company_other</th>\n",
       "      <th>rating Clone</th>\n",
       "    </tr>\n",
       "  </thead>\n",
       "  <tbody>\n",
       "    <tr>\n",
       "      <th>rating</th>\n",
       "      <td>1.000000</td>\n",
       "      <td>0.065200</td>\n",
       "      <td>0.024396</td>\n",
       "      <td>NaN</td>\n",
       "      <td>0.167590</td>\n",
       "      <td>NaN</td>\n",
       "      <td>0.389692</td>\n",
       "      <td>-0.157780</td>\n",
       "      <td>0.200141</td>\n",
       "      <td>-0.532666</td>\n",
       "      <td>0.032863</td>\n",
       "    </tr>\n",
       "    <tr>\n",
       "      <th>review_num</th>\n",
       "      <td>0.065200</td>\n",
       "      <td>1.000000</td>\n",
       "      <td>0.121219</td>\n",
       "      <td>NaN</td>\n",
       "      <td>-0.034722</td>\n",
       "      <td>NaN</td>\n",
       "      <td>0.068432</td>\n",
       "      <td>-0.273859</td>\n",
       "      <td>-0.174873</td>\n",
       "      <td>0.010023</td>\n",
       "      <td>0.156858</td>\n",
       "    </tr>\n",
       "    <tr>\n",
       "      <th>company_Microsoft</th>\n",
       "      <td>0.024396</td>\n",
       "      <td>0.121219</td>\n",
       "      <td>1.000000</td>\n",
       "      <td>NaN</td>\n",
       "      <td>-0.080582</td>\n",
       "      <td>NaN</td>\n",
       "      <td>-0.382420</td>\n",
       "      <td>-0.069171</td>\n",
       "      <td>-0.039253</td>\n",
       "      <td>-0.100504</td>\n",
       "      <td>0.089335</td>\n",
       "    </tr>\n",
       "    <tr>\n",
       "      <th>company_Mojang AB</th>\n",
       "      <td>NaN</td>\n",
       "      <td>NaN</td>\n",
       "      <td>NaN</td>\n",
       "      <td>NaN</td>\n",
       "      <td>NaN</td>\n",
       "      <td>NaN</td>\n",
       "      <td>NaN</td>\n",
       "      <td>NaN</td>\n",
       "      <td>NaN</td>\n",
       "      <td>NaN</td>\n",
       "      <td>NaN</td>\n",
       "    </tr>\n",
       "    <tr>\n",
       "      <th>company_Nintendo</th>\n",
       "      <td>0.167590</td>\n",
       "      <td>-0.034722</td>\n",
       "      <td>-0.080582</td>\n",
       "      <td>NaN</td>\n",
       "      <td>1.000000</td>\n",
       "      <td>NaN</td>\n",
       "      <td>-0.338979</td>\n",
       "      <td>-0.061314</td>\n",
       "      <td>-0.034794</td>\n",
       "      <td>-0.089087</td>\n",
       "      <td>-0.153200</td>\n",
       "    </tr>\n",
       "    <tr>\n",
       "      <th>company_Oculus</th>\n",
       "      <td>NaN</td>\n",
       "      <td>NaN</td>\n",
       "      <td>NaN</td>\n",
       "      <td>NaN</td>\n",
       "      <td>NaN</td>\n",
       "      <td>NaN</td>\n",
       "      <td>NaN</td>\n",
       "      <td>NaN</td>\n",
       "      <td>NaN</td>\n",
       "      <td>NaN</td>\n",
       "      <td>NaN</td>\n",
       "    </tr>\n",
       "    <tr>\n",
       "      <th>company_PlayStation</th>\n",
       "      <td>0.389692</td>\n",
       "      <td>0.068432</td>\n",
       "      <td>-0.382420</td>\n",
       "      <td>NaN</td>\n",
       "      <td>-0.338979</td>\n",
       "      <td>NaN</td>\n",
       "      <td>1.000000</td>\n",
       "      <td>-0.290978</td>\n",
       "      <td>-0.165124</td>\n",
       "      <td>-0.422781</td>\n",
       "      <td>0.047812</td>\n",
       "    </tr>\n",
       "    <tr>\n",
       "      <th>company_Riot Games</th>\n",
       "      <td>-0.157780</td>\n",
       "      <td>-0.273859</td>\n",
       "      <td>-0.069171</td>\n",
       "      <td>NaN</td>\n",
       "      <td>-0.061314</td>\n",
       "      <td>NaN</td>\n",
       "      <td>-0.290978</td>\n",
       "      <td>1.000000</td>\n",
       "      <td>-0.029867</td>\n",
       "      <td>-0.076472</td>\n",
       "      <td>0.168741</td>\n",
       "    </tr>\n",
       "    <tr>\n",
       "      <th>company_Take-Two 2K</th>\n",
       "      <td>0.200141</td>\n",
       "      <td>-0.174873</td>\n",
       "      <td>-0.039253</td>\n",
       "      <td>NaN</td>\n",
       "      <td>-0.034794</td>\n",
       "      <td>NaN</td>\n",
       "      <td>-0.165124</td>\n",
       "      <td>-0.029867</td>\n",
       "      <td>1.000000</td>\n",
       "      <td>-0.043396</td>\n",
       "      <td>-0.283499</td>\n",
       "    </tr>\n",
       "    <tr>\n",
       "      <th>company_other</th>\n",
       "      <td>-0.532666</td>\n",
       "      <td>0.010023</td>\n",
       "      <td>-0.100504</td>\n",
       "      <td>NaN</td>\n",
       "      <td>-0.089087</td>\n",
       "      <td>NaN</td>\n",
       "      <td>-0.422781</td>\n",
       "      <td>-0.076472</td>\n",
       "      <td>-0.043396</td>\n",
       "      <td>1.000000</td>\n",
       "      <td>0.007555</td>\n",
       "    </tr>\n",
       "    <tr>\n",
       "      <th>rating Clone</th>\n",
       "      <td>0.032863</td>\n",
       "      <td>0.156858</td>\n",
       "      <td>0.089335</td>\n",
       "      <td>NaN</td>\n",
       "      <td>-0.153200</td>\n",
       "      <td>NaN</td>\n",
       "      <td>0.047812</td>\n",
       "      <td>0.168741</td>\n",
       "      <td>-0.283499</td>\n",
       "      <td>0.007555</td>\n",
       "      <td>1.000000</td>\n",
       "    </tr>\n",
       "  </tbody>\n",
       "</table>\n",
       "</div>"
      ],
      "text/plain": [
       "                       rating  review_num  company_Microsoft  \\\n",
       "rating               1.000000    0.065200           0.024396   \n",
       "review_num           0.065200    1.000000           0.121219   \n",
       "company_Microsoft    0.024396    0.121219           1.000000   \n",
       "company_Mojang AB         NaN         NaN                NaN   \n",
       "company_Nintendo     0.167590   -0.034722          -0.080582   \n",
       "company_Oculus            NaN         NaN                NaN   \n",
       "company_PlayStation  0.389692    0.068432          -0.382420   \n",
       "company_Riot Games  -0.157780   -0.273859          -0.069171   \n",
       "company_Take-Two 2K  0.200141   -0.174873          -0.039253   \n",
       "company_other       -0.532666    0.010023          -0.100504   \n",
       "rating Clone         0.032863    0.156858           0.089335   \n",
       "\n",
       "                     company_Mojang AB  company_Nintendo  company_Oculus  \\\n",
       "rating                             NaN          0.167590             NaN   \n",
       "review_num                         NaN         -0.034722             NaN   \n",
       "company_Microsoft                  NaN         -0.080582             NaN   \n",
       "company_Mojang AB                  NaN               NaN             NaN   \n",
       "company_Nintendo                   NaN          1.000000             NaN   \n",
       "company_Oculus                     NaN               NaN             NaN   \n",
       "company_PlayStation                NaN         -0.338979             NaN   \n",
       "company_Riot Games                 NaN         -0.061314             NaN   \n",
       "company_Take-Two 2K                NaN         -0.034794             NaN   \n",
       "company_other                      NaN         -0.089087             NaN   \n",
       "rating Clone                       NaN         -0.153200             NaN   \n",
       "\n",
       "                     company_PlayStation  company_Riot Games  \\\n",
       "rating                          0.389692           -0.157780   \n",
       "review_num                      0.068432           -0.273859   \n",
       "company_Microsoft              -0.382420           -0.069171   \n",
       "company_Mojang AB                    NaN                 NaN   \n",
       "company_Nintendo               -0.338979           -0.061314   \n",
       "company_Oculus                       NaN                 NaN   \n",
       "company_PlayStation             1.000000           -0.290978   \n",
       "company_Riot Games             -0.290978            1.000000   \n",
       "company_Take-Two 2K            -0.165124           -0.029867   \n",
       "company_other                  -0.422781           -0.076472   \n",
       "rating Clone                    0.047812            0.168741   \n",
       "\n",
       "                     company_Take-Two 2K  company_other  rating Clone  \n",
       "rating                          0.200141      -0.532666      0.032863  \n",
       "review_num                     -0.174873       0.010023      0.156858  \n",
       "company_Microsoft              -0.039253      -0.100504      0.089335  \n",
       "company_Mojang AB                    NaN            NaN           NaN  \n",
       "company_Nintendo               -0.034794      -0.089087     -0.153200  \n",
       "company_Oculus                       NaN            NaN           NaN  \n",
       "company_PlayStation            -0.165124      -0.422781      0.047812  \n",
       "company_Riot Games             -0.029867      -0.076472      0.168741  \n",
       "company_Take-Two 2K             1.000000      -0.043396     -0.283499  \n",
       "company_other                  -0.043396       1.000000      0.007555  \n",
       "rating Clone                   -0.283499       0.007555      1.000000  "
      ]
     },
     "execution_count": 114,
     "metadata": {},
     "output_type": "execute_result"
    }
   ],
   "source": [
    "np.random.seed(6)\n",
    "\n",
    "X2_collinear = X2.loc[:,selected_columns]\n",
    "X2_collinear['rating Clone'] = (X2_collinear['rating'] + \n",
    "                                      2500 * np.random.randn(X2.shape[0])) # \"adding colliniear variable\"\n",
    "\n",
    "X2_collinear.corr()"
   ]
  },
  {
   "cell_type": "code",
   "execution_count": 115,
   "id": "49653583",
   "metadata": {},
   "outputs": [
    {
     "data": {
      "text/html": [
       "<table class=\"simpletable\">\n",
       "<caption>OLS Regression Results</caption>\n",
       "<tr>\n",
       "  <th>Dep. Variable:</th>          <td>price</td>      <th>  R-squared:         </th> <td>   0.198</td>\n",
       "</tr>\n",
       "<tr>\n",
       "  <th>Model:</th>                   <td>OLS</td>       <th>  Adj. R-squared:    </th> <td>   0.053</td>\n",
       "</tr>\n",
       "<tr>\n",
       "  <th>Method:</th>             <td>Least Squares</td>  <th>  F-statistic:       </th> <td>   1.368</td>\n",
       "</tr>\n",
       "<tr>\n",
       "  <th>Date:</th>             <td>Sun, 26 Sep 2021</td> <th>  Prob (F-statistic):</th>  <td> 0.228</td> \n",
       "</tr>\n",
       "<tr>\n",
       "  <th>Time:</th>                 <td>18:48:24</td>     <th>  Log-Likelihood:    </th> <td> -364.34</td>\n",
       "</tr>\n",
       "<tr>\n",
       "  <th>No. Observations:</th>      <td>    60</td>      <th>  AIC:               </th> <td>   748.7</td>\n",
       "</tr>\n",
       "<tr>\n",
       "  <th>Df Residuals:</th>          <td>    50</td>      <th>  BIC:               </th> <td>   769.6</td>\n",
       "</tr>\n",
       "<tr>\n",
       "  <th>Df Model:</th>              <td>     9</td>      <th>                     </th>     <td> </td>   \n",
       "</tr>\n",
       "<tr>\n",
       "  <th>Covariance Type:</th>      <td>nonrobust</td>    <th>                     </th>     <td> </td>   \n",
       "</tr>\n",
       "</table>\n",
       "<table class=\"simpletable\">\n",
       "<tr>\n",
       "           <td></td>              <th>coef</th>     <th>std err</th>      <th>t</th>      <th>P>|t|</th>  <th>[0.025</th>    <th>0.975]</th>  \n",
       "</tr>\n",
       "<tr>\n",
       "  <th>const</th>               <td> -901.4766</td> <td>  581.814</td> <td>   -1.549</td> <td> 0.128</td> <td>-2070.085</td> <td>  267.132</td>\n",
       "</tr>\n",
       "<tr>\n",
       "  <th>rating</th>              <td>  209.3436</td> <td>  126.900</td> <td>    1.650</td> <td> 0.105</td> <td>  -45.542</td> <td>  464.229</td>\n",
       "</tr>\n",
       "<tr>\n",
       "  <th>review_num</th>          <td>   -0.0005</td> <td>    0.000</td> <td>   -1.232</td> <td> 0.224</td> <td>   -0.001</td> <td>    0.000</td>\n",
       "</tr>\n",
       "<tr>\n",
       "  <th>company_Microsoft</th>   <td>  -52.9103</td> <td>   80.587</td> <td>   -0.657</td> <td> 0.514</td> <td> -214.774</td> <td>  108.953</td>\n",
       "</tr>\n",
       "<tr>\n",
       "  <th>company_Mojang AB</th>   <td> 1.327e-14</td> <td> 7.38e-14</td> <td>    0.180</td> <td> 0.858</td> <td>-1.35e-13</td> <td> 1.62e-13</td>\n",
       "</tr>\n",
       "<tr>\n",
       "  <th>company_Nintendo</th>    <td>  -13.5511</td> <td>   89.561</td> <td>   -0.151</td> <td> 0.880</td> <td> -193.439</td> <td>  166.337</td>\n",
       "</tr>\n",
       "<tr>\n",
       "  <th>company_Oculus</th>      <td> 5.692e-15</td> <td> 3.68e-14</td> <td>    0.155</td> <td> 0.878</td> <td>-6.83e-14</td> <td> 7.97e-14</td>\n",
       "</tr>\n",
       "<tr>\n",
       "  <th>company_PlayStation</th> <td>   -0.1341</td> <td>   66.934</td> <td>   -0.002</td> <td> 0.998</td> <td> -134.575</td> <td>  134.307</td>\n",
       "</tr>\n",
       "<tr>\n",
       "  <th>company_Riot Games</th>  <td>  -77.1231</td> <td>   93.208</td> <td>   -0.827</td> <td> 0.412</td> <td> -264.337</td> <td>  110.091</td>\n",
       "</tr>\n",
       "<tr>\n",
       "  <th>company_Take-Two 2K</th> <td>  -68.4749</td> <td>  147.616</td> <td>   -0.464</td> <td> 0.645</td> <td> -364.971</td> <td>  228.021</td>\n",
       "</tr>\n",
       "<tr>\n",
       "  <th>company_other</th>       <td>   51.6276</td> <td>   75.389</td> <td>    0.685</td> <td> 0.497</td> <td>  -99.795</td> <td>  203.050</td>\n",
       "</tr>\n",
       "<tr>\n",
       "  <th>rating Clone</th>        <td>    0.0141</td> <td>    0.006</td> <td>    2.224</td> <td> 0.031</td> <td>    0.001</td> <td>    0.027</td>\n",
       "</tr>\n",
       "</table>\n",
       "<table class=\"simpletable\">\n",
       "<tr>\n",
       "  <th>Omnibus:</th>       <td>112.389</td> <th>  Durbin-Watson:     </th> <td>   1.947</td>\n",
       "</tr>\n",
       "<tr>\n",
       "  <th>Prob(Omnibus):</th> <td> 0.000</td>  <th>  Jarque-Bera (JB):  </th> <td>4028.619</td>\n",
       "</tr>\n",
       "<tr>\n",
       "  <th>Skew:</th>          <td> 5.824</td>  <th>  Prob(JB):          </th> <td>    0.00</td>\n",
       "</tr>\n",
       "<tr>\n",
       "  <th>Kurtosis:</th>      <td>41.416</td>  <th>  Cond. No.          </th> <td>5.56e+23</td>\n",
       "</tr>\n",
       "</table><br/><br/>Notes:<br/>[1] Standard Errors assume that the covariance matrix of the errors is correctly specified.<br/>[2] The smallest eigenvalue is 7.17e-37. This might indicate that there are<br/>strong multicollinearity problems or that the design matrix is singular."
      ],
      "text/plain": [
       "<class 'statsmodels.iolib.summary.Summary'>\n",
       "\"\"\"\n",
       "                            OLS Regression Results                            \n",
       "==============================================================================\n",
       "Dep. Variable:                  price   R-squared:                       0.198\n",
       "Model:                            OLS   Adj. R-squared:                  0.053\n",
       "Method:                 Least Squares   F-statistic:                     1.368\n",
       "Date:                Sun, 26 Sep 2021   Prob (F-statistic):              0.228\n",
       "Time:                        18:48:24   Log-Likelihood:                -364.34\n",
       "No. Observations:                  60   AIC:                             748.7\n",
       "Df Residuals:                      50   BIC:                             769.6\n",
       "Df Model:                           9                                         \n",
       "Covariance Type:            nonrobust                                         \n",
       "=======================================================================================\n",
       "                          coef    std err          t      P>|t|      [0.025      0.975]\n",
       "---------------------------------------------------------------------------------------\n",
       "const                -901.4766    581.814     -1.549      0.128   -2070.085     267.132\n",
       "rating                209.3436    126.900      1.650      0.105     -45.542     464.229\n",
       "review_num             -0.0005      0.000     -1.232      0.224      -0.001       0.000\n",
       "company_Microsoft     -52.9103     80.587     -0.657      0.514    -214.774     108.953\n",
       "company_Mojang AB    1.327e-14   7.38e-14      0.180      0.858   -1.35e-13    1.62e-13\n",
       "company_Nintendo      -13.5511     89.561     -0.151      0.880    -193.439     166.337\n",
       "company_Oculus       5.692e-15   3.68e-14      0.155      0.878   -6.83e-14    7.97e-14\n",
       "company_PlayStation    -0.1341     66.934     -0.002      0.998    -134.575     134.307\n",
       "company_Riot Games    -77.1231     93.208     -0.827      0.412    -264.337     110.091\n",
       "company_Take-Two 2K   -68.4749    147.616     -0.464      0.645    -364.971     228.021\n",
       "company_other          51.6276     75.389      0.685      0.497     -99.795     203.050\n",
       "rating Clone            0.0141      0.006      2.224      0.031       0.001       0.027\n",
       "==============================================================================\n",
       "Omnibus:                      112.389   Durbin-Watson:                   1.947\n",
       "Prob(Omnibus):                  0.000   Jarque-Bera (JB):             4028.619\n",
       "Skew:                           5.824   Prob(JB):                         0.00\n",
       "Kurtosis:                      41.416   Cond. No.                     5.56e+23\n",
       "==============================================================================\n",
       "\n",
       "Notes:\n",
       "[1] Standard Errors assume that the covariance matrix of the errors is correctly specified.\n",
       "[2] The smallest eigenvalue is 7.17e-37. This might indicate that there are\n",
       "strong multicollinearity problems or that the design matrix is singular.\n",
       "\"\"\""
      ]
     },
     "execution_count": 115,
     "metadata": {},
     "output_type": "execute_result"
    }
   ],
   "source": [
    "model = sm.OLS(y, sm.add_constant(X2_collinear))\n",
    "results = model.fit()\n",
    "\n",
    "results.summary()"
   ]
  },
  {
   "cell_type": "code",
   "execution_count": 116,
   "id": "8a05ffab",
   "metadata": {},
   "outputs": [
    {
     "data": {
      "text/plain": [
       "[('rating', 2.584063397709606e-10),\n",
       " ('review_num', -1.4664738580600361e-05),\n",
       " ('company_Microsoft', -2.092463323125819e-10),\n",
       " ('company_Mojang AB', 0.0),\n",
       " ('company_Nintendo', -2.0410070874421698e-11),\n",
       " ('company_Oculus', 0.0),\n",
       " ('company_PlayStation', 5.930201163519826e-10),\n",
       " ('company_Riot Games', -1.3702893454700522e-10),\n",
       " ('company_Take-Two 2K', -6.372633848976556e-11),\n",
       " ('company_other', 1.1857148981384773e-11),\n",
       " ('rating Clone', 5.228136111372861e-06)]"
      ]
     },
     "execution_count": 116,
     "metadata": {},
     "output_type": "execute_result"
    }
   ],
   "source": [
    "lr_model_ridge = Ridge(alpha = 1000000000000)\n",
    "lr_model_ridge.fit(X2_collinear, y)\n",
    "\n",
    "list(zip(X2_collinear.columns, lr_model_ridge.coef_))"
   ]
  },
  {
   "cell_type": "code",
   "execution_count": 117,
   "id": "5e26fa78",
   "metadata": {},
   "outputs": [
    {
     "data": {
      "text/plain": [
       "[('rating', 0.0),\n",
       " ('review_num', -0.00012430082233958611),\n",
       " ('company_Microsoft', -0.0),\n",
       " ('company_Mojang AB', 0.0),\n",
       " ('company_Nintendo', -0.0),\n",
       " ('company_Oculus', 0.0),\n",
       " ('company_PlayStation', 0.0),\n",
       " ('company_Riot Games', -0.0),\n",
       " ('company_Take-Two 2K', -0.0),\n",
       " ('company_other', 0.0),\n",
       " ('rating Clone', 0.0)]"
      ]
     },
     "execution_count": 117,
     "metadata": {},
     "output_type": "execute_result"
    }
   ],
   "source": [
    "lr_model_lasso = Lasso(alpha = 100000)\n",
    "lr_model_lasso.fit(X2_collinear, y)\n",
    "\n",
    "list(zip(X2_collinear.columns, lr_model_lasso.coef_))"
   ]
  },
  {
   "cell_type": "code",
   "execution_count": 118,
   "id": "851550da",
   "metadata": {},
   "outputs": [],
   "source": [
    "test_set_pred = lasso_model.predict(X_test.loc[:,selected_columns])"
   ]
  },
  {
   "cell_type": "code",
   "execution_count": 119,
   "id": "4893edd8",
   "metadata": {},
   "outputs": [
    {
     "data": {
      "text/plain": [
       "[<matplotlib.lines.Line2D at 0x221ded34e20>]"
      ]
     },
     "execution_count": 119,
     "metadata": {},
     "output_type": "execute_result"
    },
    {
     "data": {
      "image/png": "[encoded data removed]",
      "text/plain": [
       "<Figure size 432x288 with 1 Axes>"
      ]
     },
     "metadata": {
      "needs_background": "light"
     },
     "output_type": "display_data"
    }
   ],
   "source": [
    "plt.scatter(test_set_pred, y_test, alpha=.1)\n",
    "plt.plot(np.linspace(0,600000,1000), np.linspace(0,600000,1000))"
   ]
  },
  {
   "cell_type": "code",
   "execution_count": 120,
   "id": "a72d3e61",
   "metadata": {},
   "outputs": [
    {
     "data": {
      "text/plain": [
       "-0.8907526953097089"
      ]
     },
     "execution_count": 120,
     "metadata": {},
     "output_type": "execute_result"
    }
   ],
   "source": [
    "r2_score(y_test, test_set_pred)"
   ]
  },
  {
   "cell_type": "code",
   "execution_count": 121,
   "id": "c9d4d11e",
   "metadata": {},
   "outputs": [
    {
     "data": {
      "text/plain": [
       "16.915166666666643"
      ]
     },
     "execution_count": 121,
     "metadata": {},
     "output_type": "execute_result"
    }
   ],
   "source": [
    "#Mean Absolute Error (MAE)\n",
    "def mae(y_true, y_pred):\n",
    "    return np.mean(np.abs(y_pred - y_true)) \n",
    "\n",
    "mae(y_test, test_set_pred)"
   ]
  },
  {
   "cell_type": "code",
   "execution_count": 122,
   "id": "a181bf77",
   "metadata": {},
   "outputs": [
    {
     "data": {
      "text/plain": [
       "StandardScaler()"
      ]
     },
     "execution_count": 122,
     "metadata": {},
     "output_type": "execute_result"
    }
   ],
   "source": [
    "## This step fits the Standard Scaler to the training data\n",
    "## Essentially it finds the mean and standard deviation of each variable in the training set\n",
    "\n",
    "std = StandardScaler()\n",
    "std.fit(X2.values)"
   ]
  },
  {
   "cell_type": "code",
   "execution_count": 123,
   "id": "df456632",
   "metadata": {},
   "outputs": [],
   "source": [
    "## This step applies the scaler to the train set.\n",
    "## It subtracts the mean it learned in the previous step and then divides by the standard deviation\n",
    "\n",
    "X_tr = std.transform(X2.values)"
   ]
  },
  {
   "cell_type": "code",
   "execution_count": 124,
   "id": "014d1ff6",
   "metadata": {},
   "outputs": [],
   "source": [
    "## Apply the scaler to the test set\n",
    "\n",
    "X_te = std.transform(X_test.values)"
   ]
  },
  {
   "cell_type": "code",
   "execution_count": 125,
   "id": "d9866677",
   "metadata": {},
   "outputs": [
    {
     "data": {
      "text/plain": [
       "(array([55.,  0.,  0.,  0.,  0.,  0.,  0.,  0.,  0.,  5.]),\n",
       " array([-0.30151134,  0.06030227,  0.42211588,  0.7839295 ,  1.14574311,\n",
       "         1.50755672,  1.86937034,  2.23118395,  2.59299756,  2.95481118,\n",
       "         3.31662479]),\n",
       " <BarContainer object of 10 artists>)"
      ]
     },
     "execution_count": 125,
     "metadata": {},
     "output_type": "execute_result"
    },
    {
     "data": {
      "image/png": "[encoded data removed]",
      "text/plain": [
       "<Figure size 432x288 with 1 Axes>"
      ]
     },
     "metadata": {
      "needs_background": "light"
     },
     "output_type": "display_data"
    }
   ],
   "source": [
    "## Here we can plot histograms of the transformed variables\n",
    "## Note that they seem to have means of 0 and stddevs of 1\n",
    "## (though they are not necessarily normally distributed)\n",
    "\n",
    "plt.hist(X_tr[:,3])"
   ]
  },
  {
   "cell_type": "code",
   "execution_count": 126,
   "id": "6047e115",
   "metadata": {},
   "outputs": [
    {
     "data": {
      "text/plain": [
       "Lasso(alpha=10000)"
      ]
     },
     "execution_count": 126,
     "metadata": {},
     "output_type": "execute_result"
    }
   ],
   "source": [
    "lasso_model = Lasso(alpha = 10000)\n",
    "lasso_model.fit(X_tr,y)"
   ]
  },
  {
   "cell_type": "code",
   "execution_count": 127,
   "id": "c92ab47e",
   "metadata": {},
   "outputs": [
    {
     "data": {
      "text/plain": [
       "[('rating', 0.0),\n",
       " ('review_num', -0.0),\n",
       " ('company_Electronic Arts', -0.0),\n",
       " ('company_Microsoft', -0.0),\n",
       " ('company_Mojang AB', 0.0),\n",
       " ('company_Nintendo', -0.0),\n",
       " ('company_Oculus', 0.0),\n",
       " ('company_PlayStation', 0.0),\n",
       " ('company_Riot Games', -0.0),\n",
       " ('company_Take-Two 2K', -0.0),\n",
       " ('company_other', 0.0)]"
      ]
     },
     "execution_count": 127,
     "metadata": {},
     "output_type": "execute_result"
    }
   ],
   "source": [
    "## Note that now we can meaningful compare the importance of\n",
    "## different features, since they're on the same scale\n",
    "\n",
    "## But it's now difficult to interpret the coefficients\n",
    "## We would need to translate back to the original feature scales by dividing\n",
    "## each coefficient by the original column's standard deviation\n",
    "\n",
    "list(zip(X2.columns, lasso_model.coef_))"
   ]
  },
  {
   "cell_type": "code",
   "execution_count": 128,
   "id": "e4219e6c",
   "metadata": {},
   "outputs": [],
   "source": [
    "alphalist = 10**(np.linspace(-2,2,200))\n",
    "err_vec_val = np.zeros(len(alphalist))\n",
    "#err_vec_train = np.zeros(len(alphalist))\n",
    "\n",
    "for i,curr_alpha in enumerate(alphalist):\n",
    "\n",
    "    # note the use of a new sklearn utility: Pipeline to pack\n",
    "    # multiple modeling steps into one fitting process \n",
    "    steps = [('standardize', StandardScaler()), \n",
    "             ('lasso', Lasso(alpha = curr_alpha))] # \"curr_alpha is the loop counter\"\n",
    "\n",
    "    pipe = Pipeline(steps) # \"pipe the steps using Pipeline package\"\n",
    "    pipe.fit(X2.loc[:,selected_columns].values, y)\n",
    "    \n",
    "    val_set_pred = pipe.predict(X_val.loc[:,selected_columns].values)\n",
    "    err_vec_val[i] = mae(y_val, val_set_pred) # \"i used for storing\""
   ]
  },
  {
   "cell_type": "code",
   "execution_count": 129,
   "id": "1cade029",
   "metadata": {},
   "outputs": [
    {
     "data": {
      "text/plain": [
       "[<matplotlib.lines.Line2D at 0x221df785c10>]"
      ]
     },
     "execution_count": 129,
     "metadata": {},
     "output_type": "execute_result"
    },
    {
     "data": {
      "image/png": "[encoded data removed]",
      "text/plain": [
       "<Figure size 432x288 with 1 Axes>"
      ]
     },
     "metadata": {
      "needs_background": "light"
     },
     "output_type": "display_data"
    }
   ],
   "source": [
    "#plot the curve of validation error as alpha changes\n",
    "\n",
    "plt.plot(np.log10(alphalist), err_vec_val)"
   ]
  },
  {
   "cell_type": "code",
   "execution_count": 130,
   "id": "da3cc662",
   "metadata": {},
   "outputs": [
    {
     "data": {
      "text/plain": [
       "23.88131666666665"
      ]
     },
     "execution_count": 130,
     "metadata": {},
     "output_type": "execute_result"
    }
   ],
   "source": [
    "## This is the minimum error achieved on the validation set \n",
    "## across the different alpha values we tried\n",
    "\n",
    "np.min(err_vec_val)"
   ]
  },
  {
   "cell_type": "code",
   "execution_count": 131,
   "id": "0eb8ebb4",
   "metadata": {},
   "outputs": [
    {
     "data": {
      "text/plain": [
       "26.126752255633292"
      ]
     },
     "execution_count": 131,
     "metadata": {},
     "output_type": "execute_result"
    }
   ],
   "source": [
    "## This is the value of alpha that gave us the lowest error\n",
    "alphalist[np.argmin(err_vec_val)] # \"this result is diffrent from the graph as we are using log scale in the graph\""
   ]
  },
  {
   "cell_type": "code",
   "execution_count": 132,
   "id": "21347bea",
   "metadata": {},
   "outputs": [
    {
     "data": {
      "text/plain": [
       "StandardScaler()"
      ]
     },
     "execution_count": 132,
     "metadata": {},
     "output_type": "execute_result"
    }
   ],
   "source": [
    "## Scale the data as before\n",
    "std = StandardScaler()\n",
    "std.fit(X2.values)"
   ]
  },
  {
   "cell_type": "code",
   "execution_count": 133,
   "id": "1770aba9",
   "metadata": {},
   "outputs": [
    {
     "data": {
      "text/plain": [
       "LassoCV(alphas=array([1.00000000e-02, 1.04737090e-02, 1.09698580e-02, 1.14895100e-02,\n",
       "       1.20337784e-02, 1.26038293e-02, 1.32008840e-02, 1.38262217e-02,\n",
       "       1.44811823e-02, 1.51671689e-02, 1.58856513e-02, 1.66381689e-02,\n",
       "       1.74263339e-02, 1.82518349e-02, 1.91164408e-02, 2.00220037e-02,\n",
       "       2.09704640e-02, 2.19638537e-02, 2.30043012e-02, 2.40940356e-02,\n",
       "       2.52353917e-02, 2.64308149e-0...\n",
       "       3.44896226e+01, 3.61234270e+01, 3.78346262e+01, 3.96268864e+01,\n",
       "       4.15040476e+01, 4.34701316e+01, 4.55293507e+01, 4.76861170e+01,\n",
       "       4.99450512e+01, 5.23109931e+01, 5.47890118e+01, 5.73844165e+01,\n",
       "       6.01027678e+01, 6.29498899e+01, 6.59318827e+01, 6.90551352e+01,\n",
       "       7.23263390e+01, 7.57525026e+01, 7.93409667e+01, 8.30994195e+01,\n",
       "       8.70359136e+01, 9.11588830e+01, 9.54771611e+01, 1.00000000e+02]),\n",
       "        cv=5)"
      ]
     },
     "execution_count": 133,
     "metadata": {},
     "output_type": "execute_result"
    }
   ],
   "source": [
    "# Run the cross validation, find the best alpha, refit the model on all the data with that alpha\n",
    "\n",
    "alphavec = 10**np.linspace(-2,2,200)\n",
    "\n",
    "lasso_model = LassoCV(alphas = alphavec, cv=5)\n",
    "lasso_model.fit(X_tr, y)"
   ]
  },
  {
   "cell_type": "code",
   "execution_count": 134,
   "id": "3c5ac2d8",
   "metadata": {},
   "outputs": [
    {
     "data": {
      "text/plain": [
       "16.446761779946645"
      ]
     },
     "execution_count": 134,
     "metadata": {},
     "output_type": "execute_result"
    }
   ],
   "source": [
    "lasso_model.alpha_"
   ]
  },
  {
   "cell_type": "code",
   "execution_count": 135,
   "id": "c0e7dd96",
   "metadata": {},
   "outputs": [
    {
     "data": {
      "text/plain": [
       "[('rating', 9.615598603304846),\n",
       " ('review_num', -0.0),\n",
       " ('company_Electronic Arts', -0.0),\n",
       " ('company_Microsoft', -0.0),\n",
       " ('company_Mojang AB', 0.0),\n",
       " ('company_Nintendo', -0.0),\n",
       " ('company_Oculus', 0.0),\n",
       " ('company_PlayStation', 0.09882565654526729),\n",
       " ('company_Riot Games', -0.0),\n",
       " ('company_Take-Two 2K', -0.0),\n",
       " ('company_other', 0.0)]"
      ]
     },
     "execution_count": 135,
     "metadata": {},
     "output_type": "execute_result"
    }
   ],
   "source": [
    "list(zip(X2.columns, lasso_model.coef_))"
   ]
  },
  {
   "cell_type": "code",
   "execution_count": 136,
   "id": "de1897d4",
   "metadata": {},
   "outputs": [],
   "source": [
    "test_set_pred = lasso_model.predict(X_te)"
   ]
  },
  {
   "cell_type": "code",
   "execution_count": 137,
   "id": "51403e1a",
   "metadata": {},
   "outputs": [
    {
     "data": {
      "text/plain": [
       "18.596875633386645"
      ]
     },
     "execution_count": 137,
     "metadata": {},
     "output_type": "execute_result"
    }
   ],
   "source": [
    "mae(y_test, test_set_pred)"
   ]
  },
  {
   "cell_type": "code",
   "execution_count": 138,
   "id": "fbfb469a",
   "metadata": {},
   "outputs": [
    {
     "data": {
      "text/plain": [
       "-0.9104949095553183"
      ]
     },
     "execution_count": 138,
     "metadata": {},
     "output_type": "execute_result"
    }
   ],
   "source": [
    "r2_score(y_test, test_set_pred)"
   ]
  },
  {
   "cell_type": "code",
   "execution_count": 139,
   "id": "f1f0e318",
   "metadata": {},
   "outputs": [
    {
     "name": "stdout",
     "output_type": "stream",
     "text": [
      "Computing regularization path using the LARS ...\n"
     ]
    }
   ],
   "source": [
    "print(\"Computing regularization path using the LARS ...\")\n",
    "alphas, _, coefs = lars_path(X_tr, y.values, method='lasso')"
   ]
  },
  {
   "cell_type": "code",
   "execution_count": 140,
   "id": "ac45766d",
   "metadata": {},
   "outputs": [
    {
     "name": "stdout",
     "output_type": "stream",
     "text": [
      "[26.10075745 16.58417203 11.63962184 10.43746766  9.96672601  8.82447861\n",
      "  4.81988911  3.27609032  2.01315147  0.88390579  0.24154465  0.        ]\n",
      "[0, 3, 9, 10, 1, 8, 5, 2, 7]\n"
     ]
    }
   ],
   "source": [
    "print(alphas)\n",
    "print(_)"
   ]
  },
  {
   "cell_type": "code",
   "execution_count": 141,
   "id": "4d9039c4",
   "metadata": {},
   "outputs": [
    {
     "name": "stdout",
     "output_type": "stream",
     "text": [
      "[  0.           9.51658542  16.63262547  19.1723691   20.91226693\n",
      "  29.13882847  65.98826906  81.08476559  98.16428499 116.45045607\n",
      " 124.6631862  138.77487907]\n",
      "[0.         0.06857571 0.11985329 0.13815446 0.15069202 0.20997192\n",
      " 0.47550587 0.58428994 0.70736351 0.8391321  0.89831234 1.        ]\n"
     ]
    },
    {
     "data": {
      "image/png": "[encoded data removed]",
      "text/plain": [
       "<Figure size 720x720 with 1 Axes>"
      ]
     },
     "metadata": {
      "needs_background": "light"
     },
     "output_type": "display_data"
    }
   ],
   "source": [
    "xx = np.sum(np.abs(coefs.T), axis=1) # \"after transposing coefs, this is the sum of the coeffcients for each value of lambda\"\n",
    "print(xx)\n",
    "xx /= xx[-1] # \"divid by the last \"\n",
    "print(xx)\n",
    "plt.figure(figsize=(10,10))\n",
    "plt.plot(xx, coefs.T) # \"plots the sum of the coeffcients scaled byt the maximum with the coeffcients \"\n",
    "ymin, ymax = plt.ylim()\n",
    "plt.vlines(xx, ymin, ymax, linestyle='dashed')\n",
    "plt.xlabel('|coef| / max|coef|')\n",
    "plt.ylabel('Coefficients')\n",
    "plt.title('LASSO Path')\n",
    "plt.axis('tight')\n",
    "plt.legend(X2.columns)\n",
    "plt.show()"
   ]
  },
  {
   "cell_type": "code",
   "execution_count": 142,
   "id": "d9ca8941",
   "metadata": {},
   "outputs": [
    {
     "data": {
      "text/plain": [
       "(11, 12)"
      ]
     },
     "execution_count": 142,
     "metadata": {},
     "output_type": "execute_result"
    }
   ],
   "source": [
    "coefs.shape"
   ]
  },
  {
   "cell_type": "code",
   "execution_count": 143,
   "id": "c1268238",
   "metadata": {},
   "outputs": [
    {
     "data": {
      "image/png": "[encoded data removed]",
      "text/plain": [
       "<Figure size 720x720 with 1 Axes>"
      ]
     },
     "metadata": {
      "needs_background": "light"
     },
     "output_type": "display_data"
    }
   ],
   "source": [
    "plt.figure(figsize=(10,10))\n",
    "plt.plot(alphas, coefs.T) # \"plots the sum of the coeffcients scaled byt the maximum with the coeffcients \"\n",
    "ymin, ymax = plt.ylim()\n",
    "plt.vlines(alphas, ymin, ymax, linestyle='dashed')\n",
    "plt.xlabel('alphas')\n",
    "plt.ylabel('Coefficients')\n",
    "plt.title('LASSO Path')\n",
    "plt.axis('tight')\n",
    "plt.legend(X2.columns)\n",
    "plt.show()"
   ]
  },
  {
   "cell_type": "code",
   "execution_count": 144,
   "id": "70ceebe6",
   "metadata": {},
   "outputs": [],
   "source": [
    "def diagnostic_plot(x, y):\n",
    "    plt.figure(figsize=(20,5))\n",
    "    \n",
    "    rgr = LinearRegression()\n",
    "    rgr.fit(x,y)\n",
    "    pred = rgr.predict(x) # \"regression prediction\"\n",
    "\n",
    "    plt.subplot(1, 3, 1)\n",
    "    plt.scatter(x,y) # \"scatter\"\n",
    "    plt.plot(x, pred, color='blue',linewidth=1)\n",
    "    plt.title(\"Regression fit\")\n",
    "    plt.xlabel(\"x\")\n",
    "    plt.ylabel(\"y\")\n",
    "    \n",
    "    plt.subplot(1, 3, 2)\n",
    "    res = y - pred\n",
    "    plt.scatter(pred, res) # \"scatter supposed to have no pattern\"\n",
    "    plt.title(\"Residual plot\")\n",
    "    plt.xlabel(\"prediction\")\n",
    "    plt.ylabel(\"residuals\")\n",
    "    \n",
    "    plt.subplot(1, 3, 3)\n",
    "    #Generates a probability plot of sample data against the quantiles of a \n",
    "    # specified theoretical distribution \n",
    "    stats.probplot(res, dist=\"norm\", plot=plt) # \"normal qq plot\"\n",
    "    plt.title(\"Normal Q-Q plot\")"
   ]
  },
  {
   "cell_type": "code",
   "execution_count": 145,
   "id": "aca99c8b",
   "metadata": {},
   "outputs": [],
   "source": [
    "# Generate fake data\n",
    "s = 500\n",
    "x = np.random.uniform(low=-5, high=5, size=s)"
   ]
  },
  {
   "cell_type": "code",
   "execution_count": 146,
   "id": "f14b9bd6",
   "metadata": {},
   "outputs": [
    {
     "data": {
      "image/png": "[encoded data removed]",
      "text/plain": [
       "<Figure size 1440x360 with 3 Axes>"
      ]
     },
     "metadata": {
      "needs_background": "light"
     },
     "output_type": "display_data"
    }
   ],
   "source": [
    "epsilon = 2*np.random.randn(s)\n",
    "beta = 2\n",
    "y = beta*x + epsilon\n",
    "\n",
    "diagnostic_plot(x.reshape(s,1), y) # we reshape x to turn it into a tall column"
   ]
  },
  {
   "cell_type": "code",
   "execution_count": 147,
   "id": "6ab62e65",
   "metadata": {},
   "outputs": [
    {
     "data": {
      "image/png": "[encoded data removed]",
      "text/plain": [
       "<Figure size 1440x360 with 3 Axes>"
      ]
     },
     "metadata": {
      "needs_background": "light"
     },
     "output_type": "display_data"
    }
   ],
   "source": [
    "#Diagnose\n",
    "beta1 = 1\n",
    "y = beta1*(x**2) + epsilon\n",
    "\n",
    "diagnostic_plot(x.reshape(s,1), y)"
   ]
  },
  {
   "cell_type": "code",
   "execution_count": 148,
   "id": "c3eef68d",
   "metadata": {},
   "outputs": [
    {
     "data": {
      "text/html": [
       "<div>\n",
       "<style scoped>\n",
       "    .dataframe tbody tr th:only-of-type {\n",
       "        vertical-align: middle;\n",
       "    }\n",
       "\n",
       "    .dataframe tbody tr th {\n",
       "        vertical-align: top;\n",
       "    }\n",
       "\n",
       "    .dataframe thead th {\n",
       "        text-align: right;\n",
       "    }\n",
       "</style>\n",
       "<table border=\"1\" class=\"dataframe\">\n",
       "  <thead>\n",
       "    <tr style=\"text-align: right;\">\n",
       "      <th></th>\n",
       "      <th>rating</th>\n",
       "      <th>review_num</th>\n",
       "      <th>price</th>\n",
       "    </tr>\n",
       "  </thead>\n",
       "  <tbody>\n",
       "    <tr>\n",
       "      <th>count</th>\n",
       "      <td>100.000000</td>\n",
       "      <td>100.000000</td>\n",
       "      <td>100.000000</td>\n",
       "    </tr>\n",
       "    <tr>\n",
       "      <th>mean</th>\n",
       "      <td>4.754000</td>\n",
       "      <td>47209.480000</td>\n",
       "      <td>63.489800</td>\n",
       "    </tr>\n",
       "    <tr>\n",
       "      <th>std</th>\n",
       "      <td>0.144544</td>\n",
       "      <td>33988.636307</td>\n",
       "      <td>95.428732</td>\n",
       "    </tr>\n",
       "    <tr>\n",
       "      <th>min</th>\n",
       "      <td>3.800000</td>\n",
       "      <td>1.000000</td>\n",
       "      <td>1.990000</td>\n",
       "    </tr>\n",
       "    <tr>\n",
       "      <th>25%</th>\n",
       "      <td>4.700000</td>\n",
       "      <td>33190.750000</td>\n",
       "      <td>41.490000</td>\n",
       "    </tr>\n",
       "    <tr>\n",
       "      <th>50%</th>\n",
       "      <td>4.800000</td>\n",
       "      <td>47081.000000</td>\n",
       "      <td>59.990000</td>\n",
       "    </tr>\n",
       "    <tr>\n",
       "      <th>75%</th>\n",
       "      <td>4.800000</td>\n",
       "      <td>47081.000000</td>\n",
       "      <td>59.990000</td>\n",
       "    </tr>\n",
       "    <tr>\n",
       "      <th>max</th>\n",
       "      <td>5.000000</td>\n",
       "      <td>248158.000000</td>\n",
       "      <td>915.460000</td>\n",
       "    </tr>\n",
       "  </tbody>\n",
       "</table>\n",
       "</div>"
      ],
      "text/plain": [
       "           rating     review_num       price\n",
       "count  100.000000     100.000000  100.000000\n",
       "mean     4.754000   47209.480000   63.489800\n",
       "std      0.144544   33988.636307   95.428732\n",
       "min      3.800000       1.000000    1.990000\n",
       "25%      4.700000   33190.750000   41.490000\n",
       "50%      4.800000   47081.000000   59.990000\n",
       "75%      4.800000   47081.000000   59.990000\n",
       "max      5.000000  248158.000000  915.460000"
      ]
     },
     "execution_count": 148,
     "metadata": {},
     "output_type": "execute_result"
    }
   ],
   "source": [
    "VideoGames_df3.describe()"
   ]
  },
  {
   "cell_type": "code",
   "execution_count": 149,
   "id": "0ee82bea",
   "metadata": {},
   "outputs": [],
   "source": [
    "# remove non-numeric data\n",
    "cols = ['review_num']\n",
    "X = VideoGames_df3[cols]\n",
    "y = VideoGames_df3.price   # predictor"
   ]
  },
  {
   "cell_type": "code",
   "execution_count": 150,
   "id": "25f02bbe",
   "metadata": {},
   "outputs": [],
   "source": [
    "# develop OLS with Sklearn\n",
    "lr = LinearRegression()\n",
    "fit = lr.fit(X,y) # for later use"
   ]
  },
  {
   "cell_type": "code",
   "execution_count": 151,
   "id": "33f729e9",
   "metadata": {},
   "outputs": [
    {
     "data": {
      "text/html": [
       "<table class=\"simpletable\">\n",
       "<caption>OLS Regression Results</caption>\n",
       "<tr>\n",
       "  <th>Dep. Variable:</th>          <td>price</td>      <th>  R-squared (uncentered):</th>      <td>   0.320</td>\n",
       "</tr>\n",
       "<tr>\n",
       "  <th>Model:</th>                   <td>OLS</td>       <th>  Adj. R-squared (uncentered):</th> <td>   0.306</td>\n",
       "</tr>\n",
       "<tr>\n",
       "  <th>Method:</th>             <td>Least Squares</td>  <th>  F-statistic:       </th>          <td>   23.09</td>\n",
       "</tr>\n",
       "<tr>\n",
       "  <th>Date:</th>             <td>Sun, 26 Sep 2021</td> <th>  Prob (F-statistic):</th>          <td>6.07e-09</td>\n",
       "</tr>\n",
       "<tr>\n",
       "  <th>Time:</th>                 <td>18:48:39</td>     <th>  Log-Likelihood:    </th>          <td> -596.40</td>\n",
       "</tr>\n",
       "<tr>\n",
       "  <th>No. Observations:</th>      <td>   100</td>      <th>  AIC:               </th>          <td>   1197.</td>\n",
       "</tr>\n",
       "<tr>\n",
       "  <th>Df Residuals:</th>          <td>    98</td>      <th>  BIC:               </th>          <td>   1202.</td>\n",
       "</tr>\n",
       "<tr>\n",
       "  <th>Df Model:</th>              <td>     2</td>      <th>                     </th>              <td> </td>   \n",
       "</tr>\n",
       "<tr>\n",
       "  <th>Covariance Type:</th>      <td>nonrobust</td>    <th>                     </th>              <td> </td>   \n",
       "</tr>\n",
       "</table>\n",
       "<table class=\"simpletable\">\n",
       "<tr>\n",
       "       <td></td>         <th>coef</th>     <th>std err</th>      <th>t</th>      <th>P>|t|</th>  <th>[0.025</th>    <th>0.975]</th>  \n",
       "</tr>\n",
       "<tr>\n",
       "  <th>rating</th>     <td>   16.3831</td> <td>    3.460</td> <td>    4.735</td> <td> 0.000</td> <td>    9.517</td> <td>   23.249</td>\n",
       "</tr>\n",
       "<tr>\n",
       "  <th>review_num</th> <td>   -0.0003</td> <td>    0.000</td> <td>   -1.046</td> <td> 0.298</td> <td>   -0.001</td> <td>    0.000</td>\n",
       "</tr>\n",
       "</table>\n",
       "<table class=\"simpletable\">\n",
       "<tr>\n",
       "  <th>Omnibus:</th>       <td>184.107</td> <th>  Durbin-Watson:     </th> <td>   2.030</td> \n",
       "</tr>\n",
       "<tr>\n",
       "  <th>Prob(Omnibus):</th> <td> 0.000</td>  <th>  Jarque-Bera (JB):  </th> <td>16930.811</td>\n",
       "</tr>\n",
       "<tr>\n",
       "  <th>Skew:</th>          <td> 7.457</td>  <th>  Prob(JB):          </th> <td>    0.00</td> \n",
       "</tr>\n",
       "<tr>\n",
       "  <th>Kurtosis:</th>      <td>64.975</td>  <th>  Cond. No.          </th> <td>2.11e+04</td> \n",
       "</tr>\n",
       "</table><br/><br/>Notes:<br/>[1] R² is computed without centering (uncentered) since the model does not contain a constant.<br/>[2] Standard Errors assume that the covariance matrix of the errors is correctly specified.<br/>[3] The condition number is large, 2.11e+04. This might indicate that there are<br/>strong multicollinearity or other numerical problems."
      ],
      "text/plain": [
       "<class 'statsmodels.iolib.summary.Summary'>\n",
       "\"\"\"\n",
       "                                 OLS Regression Results                                \n",
       "=======================================================================================\n",
       "Dep. Variable:                  price   R-squared (uncentered):                   0.320\n",
       "Model:                            OLS   Adj. R-squared (uncentered):              0.306\n",
       "Method:                 Least Squares   F-statistic:                              23.09\n",
       "Date:                Sun, 26 Sep 2021   Prob (F-statistic):                    6.07e-09\n",
       "Time:                        18:48:39   Log-Likelihood:                         -596.40\n",
       "No. Observations:                 100   AIC:                                      1197.\n",
       "Df Residuals:                      98   BIC:                                      1202.\n",
       "Df Model:                           2                                                  \n",
       "Covariance Type:            nonrobust                                                  \n",
       "==============================================================================\n",
       "                 coef    std err          t      P>|t|      [0.025      0.975]\n",
       "------------------------------------------------------------------------------\n",
       "rating        16.3831      3.460      4.735      0.000       9.517      23.249\n",
       "review_num    -0.0003      0.000     -1.046      0.298      -0.001       0.000\n",
       "==============================================================================\n",
       "Omnibus:                      184.107   Durbin-Watson:                   2.030\n",
       "Prob(Omnibus):                  0.000   Jarque-Bera (JB):            16930.811\n",
       "Skew:                           7.457   Prob(JB):                         0.00\n",
       "Kurtosis:                      64.975   Cond. No.                     2.11e+04\n",
       "==============================================================================\n",
       "\n",
       "Notes:\n",
       "[1] R² is computed without centering (uncentered) since the model does not contain a constant.\n",
       "[2] Standard Errors assume that the covariance matrix of the errors is correctly specified.\n",
       "[3] The condition number is large, 2.11e+04. This might indicate that there are\n",
       "strong multicollinearity or other numerical problems.\n",
       "\"\"\""
      ]
     },
     "execution_count": 151,
     "metadata": {},
     "output_type": "execute_result"
    }
   ],
   "source": [
    "X = VideoGames_df3[['rating','review_num']]\n",
    "y = VideoGames_df3.price\n",
    "\n",
    "model = sm.OLS(y,X) # \"from stats package\"\n",
    "fit = model.fit()\n",
    "fit.summary()"
   ]
  },
  {
   "cell_type": "code",
   "execution_count": 152,
   "id": "866dbeaa",
   "metadata": {},
   "outputs": [
    {
     "name": "stderr",
     "output_type": "stream",
     "text": [
      "*c* argument looks like a single numeric RGB or RGBA sequence, which should be avoided as value-mapping will have precedence in case its length matches with *x* & *y*.  Please use the *color* keyword-argument or provide a 2-D array with a single row if you intend to specify the same RGB or RGBA value for all points.\n"
     ]
    },
    {
     "data": {
      "image/png": "[encoded data removed]",
      "text/plain": [
       "<Figure size 720x432 with 1 Axes>"
      ]
     },
     "metadata": {},
     "output_type": "display_data"
    }
   ],
   "source": [
    "# Plot your predicted values on the x-axis, and your residuals on the y-axis\n",
    "\n",
    "VideoGames_df3['predict']=fit.predict(X)\n",
    "VideoGames_df3['resid']=VideoGames_df3.price-VideoGames_df3.predict # \"residuals\"\n",
    "with sns.axes_style('white'):\n",
    "    plot=VideoGames_df3.plot(kind='scatter',\n",
    "                  x='predict',y='resid',alpha=0.2,figsize=(10,6))"
   ]
  },
  {
   "cell_type": "code",
   "execution_count": 153,
   "id": "c215affb",
   "metadata": {},
   "outputs": [
    {
     "data": {
      "image/png": "[encoded data removed]",
      "text/plain": [
       "<Figure size 432x288 with 1 Axes>"
      ]
     },
     "metadata": {
      "needs_background": "light"
     },
     "output_type": "display_data"
    }
   ],
   "source": [
    "VideoGames_df3.price.hist();"
   ]
  },
  {
   "cell_type": "code",
   "execution_count": 154,
   "id": "9c8fce6e",
   "metadata": {},
   "outputs": [
    {
     "data": {
      "image/png": "[encoded data removed]",
      "text/plain": [
       "<Figure size 432x288 with 1 Axes>"
      ]
     },
     "metadata": {
      "needs_background": "light"
     },
     "output_type": "display_data"
    }
   ],
   "source": [
    "plt.scatter(VideoGames_df3.rating,y)\n",
    "plt.scatter(VideoGames_df3.rating,VideoGames_df3.predict);"
   ]
  },
  {
   "cell_type": "code",
   "execution_count": 155,
   "id": "0c6262c4",
   "metadata": {},
   "outputs": [
    {
     "data": {
      "image/png": "[encoded data removed]",
      "text/plain": [
       "<Figure size 432x288 with 1 Axes>"
      ]
     },
     "metadata": {
      "needs_background": "light"
     },
     "output_type": "display_data"
    }
   ],
   "source": [
    "VideoGames_df3.price.hist(bins=35)\n",
    "plt.title('Histogram of Dependent Variable (User Counts)');"
   ]
  },
  {
   "cell_type": "code",
   "execution_count": 156,
   "id": "57ca7779",
   "metadata": {},
   "outputs": [
    {
     "data": {
      "image/png": "[encoded data removed]",
      "text/plain": [
       "<Figure size 432x288 with 1 Axes>"
      ]
     },
     "metadata": {
      "needs_background": "light"
     },
     "output_type": "display_data"
    }
   ],
   "source": [
    "# diagnose/inspect residual normality using qqplot:\n",
    "stats.probplot(VideoGames_df3['resid'], dist=\"norm\", plot=plt)\n",
    "plt.title(\"Normal Q-Q plot\")\n",
    "plt.show()"
   ]
  },
  {
   "cell_type": "code",
   "execution_count": 157,
   "id": "7313f5d7",
   "metadata": {},
   "outputs": [
    {
     "data": {
      "image/png": "[encoded data removed]",
      "text/plain": [
       "<Figure size 432x288 with 1 Axes>"
      ]
     },
     "metadata": {
      "needs_background": "light"
     },
     "output_type": "display_data"
    }
   ],
   "source": [
    "VideoGames_df3.price.hist();\n"
   ]
  },
  {
   "cell_type": "code",
   "execution_count": 158,
   "id": "b0f9998c",
   "metadata": {},
   "outputs": [
    {
     "name": "stdout",
     "output_type": "stream",
     "text": [
      "Lambda: 0.03916280110382988\n"
     ]
    },
    {
     "data": {
      "image/png": "[encoded data removed]",
      "text/plain": [
       "<Figure size 432x288 with 1 Axes>"
      ]
     },
     "metadata": {
      "needs_background": "light"
     },
     "output_type": "display_data"
    }
   ],
   "source": [
    "#lambda\n",
    "lamb=stats.boxcox_normmax(VideoGames_df3.price, brack=(-1.9, 1.9)) # \"Compute optimal Box-Cox transform parameter for input data, brack for intilization\"\n",
    "print(\"Lambda:\", lamb)\n",
    "y_t=(np.power(VideoGames_df3.price,-0.2282)-1)/-0.2282 # \"the value of lambda is choosen from the box cox normality plot\"\n",
    "\n",
    "plt.hist(y_t,bins=100);"
   ]
  },
  {
   "cell_type": "code",
   "execution_count": 159,
   "id": "e86d9d8d",
   "metadata": {},
   "outputs": [
    {
     "data": {
      "image/png": "[encoded data removed]",
      "text/plain": [
       "<Figure size 432x288 with 1 Axes>"
      ]
     },
     "metadata": {
      "needs_background": "light"
     },
     "output_type": "display_data"
    }
   ],
   "source": [
    "#after function on lambda\n",
    "fig = plt.figure()\n",
    "ax = fig.add_subplot(111)\n",
    "prob = stats.boxcox_normplot(VideoGames_df3.price, -3, 5, plot=ax)"
   ]
  },
  {
   "cell_type": "code",
   "execution_count": null,
   "id": "4d62eb2e",
   "metadata": {},
   "outputs": [],
   "source": []
  },
  {
   "cell_type": "code",
   "execution_count": null,
   "id": "6455a2ce",
   "metadata": {},
   "outputs": [],
   "source": []
  }
 ],
 "metadata": {
  "kernelspec": {
   "display_name": "Python 3",
   "language": "python",
   "name": "python3"
  },
  "language_info": {
   "codemirror_mode": {
    "name": "ipython",
    "version": 3
   },
   "file_extension": ".py",
   "mimetype": "text/x-python",
   "name": "python",
   "nbconvert_exporter": "python",
   "pygments_lexer": "ipython3",
   "version": "3.8.8"
  }
 },
 "nbformat": 4,
 "nbformat_minor": 5
}
