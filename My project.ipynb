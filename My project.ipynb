{
 "cells": [
  {
   "cell_type": "code",
   "execution_count": 240,
   "id": "8ea276ed",
   "metadata": {},
   "outputs": [],
   "source": [
    "import datetime\n",
    "import pandas as pd\n",
    "import numpy as np\n",
    "import matplotlib.pyplot as plt"
   ]
  },
  {
   "cell_type": "code",
   "execution_count": 241,
   "id": "cd63b448",
   "metadata": {},
   "outputs": [],
   "source": [
    "\n",
    "def get_data(week_nums):\n",
    "    url = \"http://web.mta.info/developers/data/nyct/turnstile/turnstile_{}.txt\"\n",
    "    dfs = []\n",
    "    for week_num in week_nums:\n",
    "        file_url = url.format(week_num)\n",
    "        dfs.append(pd.read_csv(file_url))\n",
    "    return pd.concat(dfs)\n",
    "        \n",
    "week_nums =[210605,210612,210619,210626,210703,210710,210717,210724,210731,210807,210814,210821,210828]\n",
    "mta= get_data(week_nums)"
   ]
  },
  {
   "cell_type": "code",
   "execution_count": 242,
   "id": "d903ac6b",
   "metadata": {},
   "outputs": [
    {
     "data": {
      "text/html": [
       "<div>\n",
       "<style scoped>\n",
       "    .dataframe tbody tr th:only-of-type {\n",
       "        vertical-align: middle;\n",
       "    }\n",
       "\n",
       "    .dataframe tbody tr th {\n",
       "        vertical-align: top;\n",
       "    }\n",
       "\n",
       "    .dataframe thead th {\n",
       "        text-align: right;\n",
       "    }\n",
       "</style>\n",
       "<table border=\"1\" class=\"dataframe\">\n",
       "  <thead>\n",
       "    <tr style=\"text-align: right;\">\n",
       "      <th></th>\n",
       "      <th>C/A</th>\n",
       "      <th>UNIT</th>\n",
       "      <th>SCP</th>\n",
       "      <th>STATION</th>\n",
       "      <th>LINENAME</th>\n",
       "      <th>DIVISION</th>\n",
       "      <th>DATE</th>\n",
       "      <th>TIME</th>\n",
       "      <th>DESC</th>\n",
       "      <th>ENTRIES</th>\n",
       "      <th>EXITS</th>\n",
       "    </tr>\n",
       "  </thead>\n",
       "  <tbody>\n",
       "    <tr>\n",
       "      <th>0</th>\n",
       "      <td>A002</td>\n",
       "      <td>R051</td>\n",
       "      <td>02-00-00</td>\n",
       "      <td>59 ST</td>\n",
       "      <td>NQR456W</td>\n",
       "      <td>BMT</td>\n",
       "      <td>05/29/2021</td>\n",
       "      <td>00:00:00</td>\n",
       "      <td>REGULAR</td>\n",
       "      <td>7578734</td>\n",
       "      <td>2590325</td>\n",
       "    </tr>\n",
       "    <tr>\n",
       "      <th>1</th>\n",
       "      <td>A002</td>\n",
       "      <td>R051</td>\n",
       "      <td>02-00-00</td>\n",
       "      <td>59 ST</td>\n",
       "      <td>NQR456W</td>\n",
       "      <td>BMT</td>\n",
       "      <td>05/29/2021</td>\n",
       "      <td>04:00:00</td>\n",
       "      <td>REGULAR</td>\n",
       "      <td>7578740</td>\n",
       "      <td>2590327</td>\n",
       "    </tr>\n",
       "    <tr>\n",
       "      <th>2</th>\n",
       "      <td>A002</td>\n",
       "      <td>R051</td>\n",
       "      <td>02-00-00</td>\n",
       "      <td>59 ST</td>\n",
       "      <td>NQR456W</td>\n",
       "      <td>BMT</td>\n",
       "      <td>05/29/2021</td>\n",
       "      <td>08:00:00</td>\n",
       "      <td>REGULAR</td>\n",
       "      <td>7578749</td>\n",
       "      <td>2590340</td>\n",
       "    </tr>\n",
       "    <tr>\n",
       "      <th>3</th>\n",
       "      <td>A002</td>\n",
       "      <td>R051</td>\n",
       "      <td>02-00-00</td>\n",
       "      <td>59 ST</td>\n",
       "      <td>NQR456W</td>\n",
       "      <td>BMT</td>\n",
       "      <td>05/29/2021</td>\n",
       "      <td>12:00:00</td>\n",
       "      <td>REGULAR</td>\n",
       "      <td>7578789</td>\n",
       "      <td>2590386</td>\n",
       "    </tr>\n",
       "    <tr>\n",
       "      <th>4</th>\n",
       "      <td>A002</td>\n",
       "      <td>R051</td>\n",
       "      <td>02-00-00</td>\n",
       "      <td>59 ST</td>\n",
       "      <td>NQR456W</td>\n",
       "      <td>BMT</td>\n",
       "      <td>05/29/2021</td>\n",
       "      <td>16:00:00</td>\n",
       "      <td>REGULAR</td>\n",
       "      <td>7578897</td>\n",
       "      <td>2590418</td>\n",
       "    </tr>\n",
       "  </tbody>\n",
       "</table>\n",
       "</div>"
      ],
      "text/plain": [
       "    C/A  UNIT       SCP STATION LINENAME DIVISION        DATE      TIME  \\\n",
       "0  A002  R051  02-00-00   59 ST  NQR456W      BMT  05/29/2021  00:00:00   \n",
       "1  A002  R051  02-00-00   59 ST  NQR456W      BMT  05/29/2021  04:00:00   \n",
       "2  A002  R051  02-00-00   59 ST  NQR456W      BMT  05/29/2021  08:00:00   \n",
       "3  A002  R051  02-00-00   59 ST  NQR456W      BMT  05/29/2021  12:00:00   \n",
       "4  A002  R051  02-00-00   59 ST  NQR456W      BMT  05/29/2021  16:00:00   \n",
       "\n",
       "      DESC  ENTRIES  \\\n",
       "0  REGULAR  7578734   \n",
       "1  REGULAR  7578740   \n",
       "2  REGULAR  7578749   \n",
       "3  REGULAR  7578789   \n",
       "4  REGULAR  7578897   \n",
       "\n",
       "   EXITS                                                                 \n",
       "0                                            2590325                     \n",
       "1                                            2590327                     \n",
       "2                                            2590340                     \n",
       "3                                            2590386                     \n",
       "4                                            2590418                     "
      ]
     },
     "execution_count": 242,
     "metadata": {},
     "output_type": "execute_result"
    }
   ],
   "source": [
    "mta.head()"
   ]
  },
  {
   "cell_type": "code",
   "execution_count": 243,
   "id": "44ad7ccf",
   "metadata": {},
   "outputs": [
    {
     "data": {
      "text/plain": [
       "Index(['C/A', 'UNIT', 'SCP', 'STATION', 'LINENAME', 'DIVISION', 'DATE', 'TIME',\n",
       "       'DESC', 'ENTRIES',\n",
       "       'EXITS                                                               '],\n",
       "      dtype='object')"
      ]
     },
     "execution_count": 243,
     "metadata": {},
     "output_type": "execute_result"
    }
   ],
   "source": [
    "mta.columns"
   ]
  },
  {
   "cell_type": "code",
   "execution_count": 244,
   "id": "0356fcd0",
   "metadata": {},
   "outputs": [
    {
     "data": {
      "text/plain": [
       "Index(['C/A', 'UNIT', 'SCP', 'STATION', 'LINENAME', 'DIVISION', 'DATE', 'TIME',\n",
       "       'DESC', 'ENTRIES', 'EXITS'],\n",
       "      dtype='object')"
      ]
     },
     "execution_count": 244,
     "metadata": {},
     "output_type": "execute_result"
    }
   ],
   "source": [
    "mta.columns = [columns.strip() for columns in mta.columns]\n",
    "mta.columns"
   ]
  },
  {
   "cell_type": "code",
   "execution_count": 245,
   "id": "21aded26",
   "metadata": {},
   "outputs": [
    {
     "data": {
      "text/html": [
       "<div>\n",
       "<style scoped>\n",
       "    .dataframe tbody tr th:only-of-type {\n",
       "        vertical-align: middle;\n",
       "    }\n",
       "\n",
       "    .dataframe tbody tr th {\n",
       "        vertical-align: top;\n",
       "    }\n",
       "\n",
       "    .dataframe thead th {\n",
       "        text-align: right;\n",
       "    }\n",
       "</style>\n",
       "<table border=\"1\" class=\"dataframe\">\n",
       "  <thead>\n",
       "    <tr style=\"text-align: right;\">\n",
       "      <th></th>\n",
       "      <th>C/A</th>\n",
       "      <th>UNIT</th>\n",
       "      <th>SCP</th>\n",
       "      <th>STATION</th>\n",
       "      <th>DATE</th>\n",
       "      <th>TIME</th>\n",
       "      <th>ENTRIES</th>\n",
       "    </tr>\n",
       "  </thead>\n",
       "  <tbody>\n",
       "    <tr>\n",
       "      <th>0</th>\n",
       "      <td>A002</td>\n",
       "      <td>R051</td>\n",
       "      <td>02-00-00</td>\n",
       "      <td>59 ST</td>\n",
       "      <td>05/29/2021</td>\n",
       "      <td>00:00:00</td>\n",
       "      <td>1</td>\n",
       "    </tr>\n",
       "    <tr>\n",
       "      <th>1806964</th>\n",
       "      <td>R138</td>\n",
       "      <td>R293</td>\n",
       "      <td>00-03-01</td>\n",
       "      <td>34 ST-PENN STA</td>\n",
       "      <td>06/11/2021</td>\n",
       "      <td>10:00:00</td>\n",
       "      <td>1</td>\n",
       "    </tr>\n",
       "    <tr>\n",
       "      <th>1806966</th>\n",
       "      <td>R138</td>\n",
       "      <td>R293</td>\n",
       "      <td>00-03-01</td>\n",
       "      <td>34 ST-PENN STA</td>\n",
       "      <td>06/11/2021</td>\n",
       "      <td>18:00:00</td>\n",
       "      <td>1</td>\n",
       "    </tr>\n",
       "    <tr>\n",
       "      <th>1806967</th>\n",
       "      <td>R138</td>\n",
       "      <td>R293</td>\n",
       "      <td>00-03-01</td>\n",
       "      <td>34 ST-PENN STA</td>\n",
       "      <td>06/11/2021</td>\n",
       "      <td>22:00:00</td>\n",
       "      <td>1</td>\n",
       "    </tr>\n",
       "    <tr>\n",
       "      <th>1806968</th>\n",
       "      <td>R138</td>\n",
       "      <td>R293</td>\n",
       "      <td>00-03-01</td>\n",
       "      <td>34 ST-PENN STA</td>\n",
       "      <td>06/12/2021</td>\n",
       "      <td>02:00:00</td>\n",
       "      <td>1</td>\n",
       "    </tr>\n",
       "  </tbody>\n",
       "</table>\n",
       "</div>"
      ],
      "text/plain": [
       "          C/A  UNIT       SCP         STATION        DATE      TIME  ENTRIES\n",
       "0        A002  R051  02-00-00           59 ST  05/29/2021  00:00:00        1\n",
       "1806964  R138  R293  00-03-01  34 ST-PENN STA  06/11/2021  10:00:00        1\n",
       "1806966  R138  R293  00-03-01  34 ST-PENN STA  06/11/2021  18:00:00        1\n",
       "1806967  R138  R293  00-03-01  34 ST-PENN STA  06/11/2021  22:00:00        1\n",
       "1806968  R138  R293  00-03-01  34 ST-PENN STA  06/12/2021  02:00:00        1"
      ]
     },
     "execution_count": 245,
     "metadata": {},
     "output_type": "execute_result"
    }
   ],
   "source": [
    "mta = mta[mta.DESC != 'RECOVR AUD']\n",
    "mta= mta[mta.TIME != '04:01:13']\n",
    "(mta\n",
    " .groupby(['C/A', 'UNIT', 'SCP', 'STATION', 'DATE', 'TIME',])\n",
    " .ENTRIES.count()\n",
    " .reset_index()\n",
    " .sort_values(\"ENTRIES\", ascending=False)).head()"
   ]
  },
  {
   "cell_type": "code",
   "execution_count": 246,
   "id": "8fd44ad2",
   "metadata": {},
   "outputs": [
    {
     "data": {
      "text/html": [
       "<div>\n",
       "<style scoped>\n",
       "    .dataframe tbody tr th:only-of-type {\n",
       "        vertical-align: middle;\n",
       "    }\n",
       "\n",
       "    .dataframe tbody tr th {\n",
       "        vertical-align: top;\n",
       "    }\n",
       "\n",
       "    .dataframe thead th {\n",
       "        text-align: right;\n",
       "    }\n",
       "</style>\n",
       "<table border=\"1\" class=\"dataframe\">\n",
       "  <thead>\n",
       "    <tr style=\"text-align: right;\">\n",
       "      <th></th>\n",
       "      <th>C/A</th>\n",
       "      <th>UNIT</th>\n",
       "      <th>SCP</th>\n",
       "      <th>STATION</th>\n",
       "      <th>LINENAME</th>\n",
       "      <th>DIVISION</th>\n",
       "      <th>DATE</th>\n",
       "      <th>TIME</th>\n",
       "      <th>DESC</th>\n",
       "      <th>ENTRIES</th>\n",
       "      <th>EXITS</th>\n",
       "    </tr>\n",
       "  </thead>\n",
       "  <tbody>\n",
       "    <tr>\n",
       "      <th>0</th>\n",
       "      <td>A002</td>\n",
       "      <td>R051</td>\n",
       "      <td>02-00-00</td>\n",
       "      <td>59 ST</td>\n",
       "      <td>NQR456W</td>\n",
       "      <td>BMT</td>\n",
       "      <td>05/29/2021</td>\n",
       "      <td>00:00:00</td>\n",
       "      <td>REGULAR</td>\n",
       "      <td>7578734</td>\n",
       "      <td>2590325</td>\n",
       "    </tr>\n",
       "    <tr>\n",
       "      <th>1</th>\n",
       "      <td>A002</td>\n",
       "      <td>R051</td>\n",
       "      <td>02-00-00</td>\n",
       "      <td>59 ST</td>\n",
       "      <td>NQR456W</td>\n",
       "      <td>BMT</td>\n",
       "      <td>05/29/2021</td>\n",
       "      <td>04:00:00</td>\n",
       "      <td>REGULAR</td>\n",
       "      <td>7578740</td>\n",
       "      <td>2590327</td>\n",
       "    </tr>\n",
       "    <tr>\n",
       "      <th>2</th>\n",
       "      <td>A002</td>\n",
       "      <td>R051</td>\n",
       "      <td>02-00-00</td>\n",
       "      <td>59 ST</td>\n",
       "      <td>NQR456W</td>\n",
       "      <td>BMT</td>\n",
       "      <td>05/29/2021</td>\n",
       "      <td>08:00:00</td>\n",
       "      <td>REGULAR</td>\n",
       "      <td>7578749</td>\n",
       "      <td>2590340</td>\n",
       "    </tr>\n",
       "    <tr>\n",
       "      <th>3</th>\n",
       "      <td>A002</td>\n",
       "      <td>R051</td>\n",
       "      <td>02-00-00</td>\n",
       "      <td>59 ST</td>\n",
       "      <td>NQR456W</td>\n",
       "      <td>BMT</td>\n",
       "      <td>05/29/2021</td>\n",
       "      <td>12:00:00</td>\n",
       "      <td>REGULAR</td>\n",
       "      <td>7578789</td>\n",
       "      <td>2590386</td>\n",
       "    </tr>\n",
       "    <tr>\n",
       "      <th>4</th>\n",
       "      <td>A002</td>\n",
       "      <td>R051</td>\n",
       "      <td>02-00-00</td>\n",
       "      <td>59 ST</td>\n",
       "      <td>NQR456W</td>\n",
       "      <td>BMT</td>\n",
       "      <td>05/29/2021</td>\n",
       "      <td>16:00:00</td>\n",
       "      <td>REGULAR</td>\n",
       "      <td>7578897</td>\n",
       "      <td>2590418</td>\n",
       "    </tr>\n",
       "  </tbody>\n",
       "</table>\n",
       "</div>"
      ],
      "text/plain": [
       "    C/A  UNIT       SCP STATION LINENAME DIVISION        DATE      TIME  \\\n",
       "0  A002  R051  02-00-00   59 ST  NQR456W      BMT  05/29/2021  00:00:00   \n",
       "1  A002  R051  02-00-00   59 ST  NQR456W      BMT  05/29/2021  04:00:00   \n",
       "2  A002  R051  02-00-00   59 ST  NQR456W      BMT  05/29/2021  08:00:00   \n",
       "3  A002  R051  02-00-00   59 ST  NQR456W      BMT  05/29/2021  12:00:00   \n",
       "4  A002  R051  02-00-00   59 ST  NQR456W      BMT  05/29/2021  16:00:00   \n",
       "\n",
       "      DESC  ENTRIES    EXITS  \n",
       "0  REGULAR  7578734  2590325  \n",
       "1  REGULAR  7578740  2590327  \n",
       "2  REGULAR  7578749  2590340  \n",
       "3  REGULAR  7578789  2590386  \n",
       "4  REGULAR  7578897  2590418  "
      ]
     },
     "execution_count": 246,
     "metadata": {},
     "output_type": "execute_result"
    }
   ],
   "source": [
    "mta.head()"
   ]
  },
  {
   "cell_type": "code",
   "execution_count": 247,
   "id": "57599eca",
   "metadata": {},
   "outputs": [],
   "source": [
    "mta['DATETIME'] = pd.to_datetime(mta.DATE + ' ' + mta.TIME)\n"
   ]
  },
  {
   "cell_type": "code",
   "execution_count": 248,
   "id": "d25e81c1",
   "metadata": {},
   "outputs": [],
   "source": [
    "mta= mta.set_index(['DATETIME'])\n"
   ]
  },
  {
   "cell_type": "code",
   "execution_count": 249,
   "id": "37c2443e",
   "metadata": {},
   "outputs": [
    {
     "data": {
      "text/html": [
       "<div>\n",
       "<style scoped>\n",
       "    .dataframe tbody tr th:only-of-type {\n",
       "        vertical-align: middle;\n",
       "    }\n",
       "\n",
       "    .dataframe tbody tr th {\n",
       "        vertical-align: top;\n",
       "    }\n",
       "\n",
       "    .dataframe thead th {\n",
       "        text-align: right;\n",
       "    }\n",
       "</style>\n",
       "<table border=\"1\" class=\"dataframe\">\n",
       "  <thead>\n",
       "    <tr style=\"text-align: right;\">\n",
       "      <th></th>\n",
       "      <th>C/A</th>\n",
       "      <th>UNIT</th>\n",
       "      <th>SCP</th>\n",
       "      <th>STATION</th>\n",
       "      <th>LINENAME</th>\n",
       "      <th>DIVISION</th>\n",
       "      <th>DATE</th>\n",
       "      <th>TIME</th>\n",
       "      <th>DESC</th>\n",
       "      <th>ENTRIES</th>\n",
       "      <th>EXITS</th>\n",
       "    </tr>\n",
       "    <tr>\n",
       "      <th>DATETIME</th>\n",
       "      <th></th>\n",
       "      <th></th>\n",
       "      <th></th>\n",
       "      <th></th>\n",
       "      <th></th>\n",
       "      <th></th>\n",
       "      <th></th>\n",
       "      <th></th>\n",
       "      <th></th>\n",
       "      <th></th>\n",
       "      <th></th>\n",
       "    </tr>\n",
       "  </thead>\n",
       "  <tbody>\n",
       "    <tr>\n",
       "      <th>2021-05-29 04:00:00</th>\n",
       "      <td>A002</td>\n",
       "      <td>R051</td>\n",
       "      <td>02-00-00</td>\n",
       "      <td>59 ST</td>\n",
       "      <td>NQR456W</td>\n",
       "      <td>BMT</td>\n",
       "      <td>05/29/2021</td>\n",
       "      <td>04:00:00</td>\n",
       "      <td>REGULAR</td>\n",
       "      <td>7578740</td>\n",
       "      <td>2590327</td>\n",
       "    </tr>\n",
       "    <tr>\n",
       "      <th>2021-05-29 08:00:00</th>\n",
       "      <td>A002</td>\n",
       "      <td>R051</td>\n",
       "      <td>02-00-00</td>\n",
       "      <td>59 ST</td>\n",
       "      <td>NQR456W</td>\n",
       "      <td>BMT</td>\n",
       "      <td>05/29/2021</td>\n",
       "      <td>08:00:00</td>\n",
       "      <td>REGULAR</td>\n",
       "      <td>7578749</td>\n",
       "      <td>2590340</td>\n",
       "    </tr>\n",
       "    <tr>\n",
       "      <th>2021-05-29 12:00:00</th>\n",
       "      <td>A002</td>\n",
       "      <td>R051</td>\n",
       "      <td>02-00-00</td>\n",
       "      <td>59 ST</td>\n",
       "      <td>NQR456W</td>\n",
       "      <td>BMT</td>\n",
       "      <td>05/29/2021</td>\n",
       "      <td>12:00:00</td>\n",
       "      <td>REGULAR</td>\n",
       "      <td>7578789</td>\n",
       "      <td>2590386</td>\n",
       "    </tr>\n",
       "    <tr>\n",
       "      <th>2021-05-30 04:00:00</th>\n",
       "      <td>A002</td>\n",
       "      <td>R051</td>\n",
       "      <td>02-00-00</td>\n",
       "      <td>59 ST</td>\n",
       "      <td>NQR456W</td>\n",
       "      <td>BMT</td>\n",
       "      <td>05/30/2021</td>\n",
       "      <td>04:00:00</td>\n",
       "      <td>REGULAR</td>\n",
       "      <td>7579084</td>\n",
       "      <td>2590452</td>\n",
       "    </tr>\n",
       "    <tr>\n",
       "      <th>2021-05-30 08:00:00</th>\n",
       "      <td>A002</td>\n",
       "      <td>R051</td>\n",
       "      <td>02-00-00</td>\n",
       "      <td>59 ST</td>\n",
       "      <td>NQR456W</td>\n",
       "      <td>BMT</td>\n",
       "      <td>05/30/2021</td>\n",
       "      <td>08:00:00</td>\n",
       "      <td>REGULAR</td>\n",
       "      <td>7579085</td>\n",
       "      <td>2590454</td>\n",
       "    </tr>\n",
       "  </tbody>\n",
       "</table>\n",
       "</div>"
      ],
      "text/plain": [
       "                      C/A  UNIT       SCP STATION LINENAME DIVISION  \\\n",
       "DATETIME                                                              \n",
       "2021-05-29 04:00:00  A002  R051  02-00-00   59 ST  NQR456W      BMT   \n",
       "2021-05-29 08:00:00  A002  R051  02-00-00   59 ST  NQR456W      BMT   \n",
       "2021-05-29 12:00:00  A002  R051  02-00-00   59 ST  NQR456W      BMT   \n",
       "2021-05-30 04:00:00  A002  R051  02-00-00   59 ST  NQR456W      BMT   \n",
       "2021-05-30 08:00:00  A002  R051  02-00-00   59 ST  NQR456W      BMT   \n",
       "\n",
       "                           DATE      TIME     DESC  ENTRIES    EXITS  \n",
       "DATETIME                                                              \n",
       "2021-05-29 04:00:00  05/29/2021  04:00:00  REGULAR  7578740  2590327  \n",
       "2021-05-29 08:00:00  05/29/2021  08:00:00  REGULAR  7578749  2590340  \n",
       "2021-05-29 12:00:00  05/29/2021  12:00:00  REGULAR  7578789  2590386  \n",
       "2021-05-30 04:00:00  05/30/2021  04:00:00  REGULAR  7579084  2590452  \n",
       "2021-05-30 08:00:00  05/30/2021  08:00:00  REGULAR  7579085  2590454  "
      ]
     },
     "execution_count": 249,
     "metadata": {},
     "output_type": "execute_result"
    }
   ],
   "source": [
    "morning = mta.between_time('04:00:00', '12:00:00')\n",
    "morning.head()"
   ]
  },
  {
   "cell_type": "code",
   "execution_count": 250,
   "id": "6a3deddb",
   "metadata": {},
   "outputs": [],
   "source": [
    "#afternoon = afternoon.drop([\"ENTRIES\", \"DESC\"], axis=1, errors=\"ignore\")"
   ]
  },
  {
   "cell_type": "code",
   "execution_count": 251,
   "id": "aedbbab5",
   "metadata": {},
   "outputs": [],
   "source": [
    "# subtract max from min for each turnstile to get exits\n",
    "morning_turn = (morning.groupby(['C/A', 'UNIT', 'SCP', 'STATION', 'DATE'])['EXITS'].max()\\\n",
    "           -morning.groupby(['C/A', 'UNIT', 'SCP', 'STATION', 'DATE'])['EXITS'].min()).reset_index()"
   ]
  },
  {
   "cell_type": "code",
   "execution_count": 252,
   "id": "e07e6870",
   "metadata": {},
   "outputs": [
    {
     "data": {
      "text/plain": [
       "count    4.533900e+05\n",
       "mean     3.362416e+03\n",
       "std      1.782417e+06\n",
       "min      0.000000e+00\n",
       "25%      1.100000e+01\n",
       "50%      4.900000e+01\n",
       "75%      1.330000e+02\n",
       "max      1.169855e+09\n",
       "Name: EXITS, dtype: float64"
      ]
     },
     "execution_count": 252,
     "metadata": {},
     "output_type": "execute_result"
    }
   ],
   "source": [
    "morning_turn['EXITS'].describe()\n"
   ]
  },
  {
   "cell_type": "code",
   "execution_count": 253,
   "id": "51ba2d9e",
   "metadata": {},
   "outputs": [
    {
     "data": {
      "text/plain": [
       "263439         26427\n",
       "258559         26536\n",
       "258565         26860\n",
       "258569         27188\n",
       "278530         41352\n",
       "258549         41388\n",
       "278235         64070\n",
       "260293         73250\n",
       "327092         78296\n",
       "262938         80308\n",
       "273037         87395\n",
       "280711         94199\n",
       "281469        191680\n",
       "278842        202459\n",
       "278186        229494\n",
       "267106        284472\n",
       "278216        333039\n",
       "257784        370216\n",
       "258595        399699\n",
       "271895        500607\n",
       "218853        547709\n",
       "221562        767313\n",
       "260014        983898\n",
       "159971       1502417\n",
       "27664        1653826\n",
       "411626       4596317\n",
       "431417      11825759\n",
       "159473      14090261\n",
       "74371      267390118\n",
       "167245    1169855401\n",
       "Name: EXITS, dtype: int64"
      ]
     },
     "execution_count": 253,
     "metadata": {},
     "output_type": "execute_result"
    }
   ],
   "source": [
    "morning_turn['EXITS'].sort_values(ascending = True).tail(30)"
   ]
  },
  {
   "cell_type": "code",
   "execution_count": 254,
   "id": "13599416",
   "metadata": {},
   "outputs": [],
   "source": [
    "morning_turn = morning_turn[morning_turn.EXITS <= 11000]"
   ]
  },
  {
   "cell_type": "code",
   "execution_count": 255,
   "id": "0592b9b0",
   "metadata": {},
   "outputs": [
    {
     "data": {
      "text/html": [
       "<div>\n",
       "<style scoped>\n",
       "    .dataframe tbody tr th:only-of-type {\n",
       "        vertical-align: middle;\n",
       "    }\n",
       "\n",
       "    .dataframe tbody tr th {\n",
       "        vertical-align: top;\n",
       "    }\n",
       "\n",
       "    .dataframe thead th {\n",
       "        text-align: right;\n",
       "    }\n",
       "</style>\n",
       "<table border=\"1\" class=\"dataframe\">\n",
       "  <thead>\n",
       "    <tr style=\"text-align: right;\">\n",
       "      <th></th>\n",
       "      <th>C/A</th>\n",
       "      <th>UNIT</th>\n",
       "      <th>SCP</th>\n",
       "      <th>STATION</th>\n",
       "      <th>DATE</th>\n",
       "      <th>EXITS</th>\n",
       "    </tr>\n",
       "  </thead>\n",
       "  <tbody>\n",
       "    <tr>\n",
       "      <th>0</th>\n",
       "      <td>A002</td>\n",
       "      <td>R051</td>\n",
       "      <td>02-00-00</td>\n",
       "      <td>59 ST</td>\n",
       "      <td>05/29/2021</td>\n",
       "      <td>59</td>\n",
       "    </tr>\n",
       "    <tr>\n",
       "      <th>1</th>\n",
       "      <td>A002</td>\n",
       "      <td>R051</td>\n",
       "      <td>02-00-00</td>\n",
       "      <td>59 ST</td>\n",
       "      <td>05/30/2021</td>\n",
       "      <td>41</td>\n",
       "    </tr>\n",
       "    <tr>\n",
       "      <th>2</th>\n",
       "      <td>A002</td>\n",
       "      <td>R051</td>\n",
       "      <td>02-00-00</td>\n",
       "      <td>59 ST</td>\n",
       "      <td>05/31/2021</td>\n",
       "      <td>53</td>\n",
       "    </tr>\n",
       "    <tr>\n",
       "      <th>3</th>\n",
       "      <td>A002</td>\n",
       "      <td>R051</td>\n",
       "      <td>02-00-00</td>\n",
       "      <td>59 ST</td>\n",
       "      <td>06/01/2021</td>\n",
       "      <td>186</td>\n",
       "    </tr>\n",
       "    <tr>\n",
       "      <th>4</th>\n",
       "      <td>A002</td>\n",
       "      <td>R051</td>\n",
       "      <td>02-00-00</td>\n",
       "      <td>59 ST</td>\n",
       "      <td>06/02/2021</td>\n",
       "      <td>189</td>\n",
       "    </tr>\n",
       "  </tbody>\n",
       "</table>\n",
       "</div>"
      ],
      "text/plain": [
       "    C/A  UNIT       SCP STATION        DATE  EXITS\n",
       "0  A002  R051  02-00-00   59 ST  05/29/2021     59\n",
       "1  A002  R051  02-00-00   59 ST  05/30/2021     41\n",
       "2  A002  R051  02-00-00   59 ST  05/31/2021     53\n",
       "3  A002  R051  02-00-00   59 ST  06/01/2021    186\n",
       "4  A002  R051  02-00-00   59 ST  06/02/2021    189"
      ]
     },
     "execution_count": 255,
     "metadata": {},
     "output_type": "execute_result"
    }
   ],
   "source": [
    "morning_turn.head()"
   ]
  },
  {
   "cell_type": "code",
   "execution_count": 256,
   "id": "e4f897e4",
   "metadata": {
    "scrolled": true
   },
   "outputs": [
    {
     "data": {
      "text/html": [
       "<div>\n",
       "<style scoped>\n",
       "    .dataframe tbody tr th:only-of-type {\n",
       "        vertical-align: middle;\n",
       "    }\n",
       "\n",
       "    .dataframe tbody tr th {\n",
       "        vertical-align: top;\n",
       "    }\n",
       "\n",
       "    .dataframe thead th {\n",
       "        text-align: right;\n",
       "    }\n",
       "</style>\n",
       "<table border=\"1\" class=\"dataframe\">\n",
       "  <thead>\n",
       "    <tr style=\"text-align: right;\">\n",
       "      <th></th>\n",
       "      <th>STATION</th>\n",
       "      <th>DATE</th>\n",
       "      <th>EXITS</th>\n",
       "    </tr>\n",
       "  </thead>\n",
       "  <tbody>\n",
       "    <tr>\n",
       "      <th>0</th>\n",
       "      <td>1 AV</td>\n",
       "      <td>2021-05-29</td>\n",
       "      <td>2130</td>\n",
       "    </tr>\n",
       "    <tr>\n",
       "      <th>1</th>\n",
       "      <td>1 AV</td>\n",
       "      <td>2021-05-30</td>\n",
       "      <td>1584</td>\n",
       "    </tr>\n",
       "    <tr>\n",
       "      <th>2</th>\n",
       "      <td>1 AV</td>\n",
       "      <td>2021-05-31</td>\n",
       "      <td>2011</td>\n",
       "    </tr>\n",
       "    <tr>\n",
       "      <th>3</th>\n",
       "      <td>1 AV</td>\n",
       "      <td>2021-06-01</td>\n",
       "      <td>5126</td>\n",
       "    </tr>\n",
       "    <tr>\n",
       "      <th>4</th>\n",
       "      <td>1 AV</td>\n",
       "      <td>2021-06-02</td>\n",
       "      <td>4992</td>\n",
       "    </tr>\n",
       "  </tbody>\n",
       "</table>\n",
       "</div>"
      ],
      "text/plain": [
       "  STATION       DATE  EXITS\n",
       "0    1 AV 2021-05-29   2130\n",
       "1    1 AV 2021-05-30   1584\n",
       "2    1 AV 2021-05-31   2011\n",
       "3    1 AV 2021-06-01   5126\n",
       "4    1 AV 2021-06-02   4992"
      ]
     },
     "execution_count": 256,
     "metadata": {},
     "output_type": "execute_result"
    }
   ],
   "source": [
    "morning_station = morning_turn.groupby(['STATION', 'DATE']).sum().reset_index()\n",
    "morning_station['DATE'] = pd.to_datetime(morning_station['DATE'])\n",
    "morning_station.head()"
   ]
  },
  {
   "cell_type": "code",
   "execution_count": 257,
   "id": "3201f28c",
   "metadata": {},
   "outputs": [
    {
     "data": {
      "text/html": [
       "<div>\n",
       "<style scoped>\n",
       "    .dataframe tbody tr th:only-of-type {\n",
       "        vertical-align: middle;\n",
       "    }\n",
       "\n",
       "    .dataframe tbody tr th {\n",
       "        vertical-align: top;\n",
       "    }\n",
       "\n",
       "    .dataframe thead th {\n",
       "        text-align: right;\n",
       "    }\n",
       "</style>\n",
       "<table border=\"1\" class=\"dataframe\">\n",
       "  <thead>\n",
       "    <tr style=\"text-align: right;\">\n",
       "      <th></th>\n",
       "      <th>STATION</th>\n",
       "      <th>EXITS</th>\n",
       "    </tr>\n",
       "  </thead>\n",
       "  <tbody>\n",
       "    <tr>\n",
       "      <th>0</th>\n",
       "      <td>1 AV</td>\n",
       "      <td>369893</td>\n",
       "    </tr>\n",
       "    <tr>\n",
       "      <th>1</th>\n",
       "      <td>103 ST</td>\n",
       "      <td>188205</td>\n",
       "    </tr>\n",
       "    <tr>\n",
       "      <th>2</th>\n",
       "      <td>103 ST-CORONA</td>\n",
       "      <td>144037</td>\n",
       "    </tr>\n",
       "    <tr>\n",
       "      <th>3</th>\n",
       "      <td>104 ST</td>\n",
       "      <td>17394</td>\n",
       "    </tr>\n",
       "    <tr>\n",
       "      <th>4</th>\n",
       "      <td>110 ST</td>\n",
       "      <td>146254</td>\n",
       "    </tr>\n",
       "  </tbody>\n",
       "</table>\n",
       "</div>"
      ],
      "text/plain": [
       "         STATION   EXITS\n",
       "0           1 AV  369893\n",
       "1         103 ST  188205\n",
       "2  103 ST-CORONA  144037\n",
       "3         104 ST   17394\n",
       "4         110 ST  146254"
      ]
     },
     "execution_count": 257,
     "metadata": {},
     "output_type": "execute_result"
    }
   ],
   "source": [
    "morning_months = morning_station.groupby(['STATION'])['EXITS'].sum().reset_index()\n",
    "morning_months.head()"
   ]
  },
  {
   "cell_type": "code",
   "execution_count": 258,
   "id": "d98e464d",
   "metadata": {},
   "outputs": [
    {
     "data": {
      "text/plain": [
       "<AxesSubplot:title={'center':'Afternoon Exits by Station For Three months'}, xlabel='STATION'>"
      ]
     },
     "execution_count": 258,
     "metadata": {},
     "output_type": "execute_result"
    },
    {
     "data": {
      "image/png": "[encoded data removed]",
      "text/plain": [
       "<Figure size 432x288 with 1 Axes>"
      ]
     },
     "metadata": {
      "needs_background": "light"
     },
     "output_type": "display_data"
    }
   ],
   "source": [
    "topsts = morning_months.sort_values('EXITS', ascending=False).head(5)\n",
    "topsts.head()\n",
    "topsts.plot(x='STATION',y='EXITS',kind='bar', title='Afternoon Exits by Station For Three months')"
   ]
  },
  {
   "cell_type": "code",
   "execution_count": 259,
   "id": "feb8feeb",
   "metadata": {},
   "outputs": [],
   "source": [
    "morning_turn = (morning.groupby(['C/A', 'UNIT', 'SCP', 'STATION', 'DATE'])['ENTRIES'].max()\\\n",
    "           -morning.groupby(['C/A', 'UNIT', 'SCP', 'STATION', 'DATE'])['ENTRIES'].min()).reset_index()"
   ]
  },
  {
   "cell_type": "code",
   "execution_count": 260,
   "id": "7c1a06ef",
   "metadata": {},
   "outputs": [
    {
     "data": {
      "text/plain": [
       "count    4.533900e+05\n",
       "mean     2.417784e+03\n",
       "std      1.034848e+06\n",
       "min      0.000000e+00\n",
       "25%      9.000000e+00\n",
       "50%      4.700000e+01\n",
       "75%      1.340000e+02\n",
       "max      6.684988e+08\n",
       "Name: ENTRIES, dtype: float64"
      ]
     },
     "execution_count": 260,
     "metadata": {},
     "output_type": "execute_result"
    }
   ],
   "source": [
    "morning_turn['ENTRIES'].describe()\n"
   ]
  },
  {
   "cell_type": "code",
   "execution_count": 261,
   "id": "d8d7ae71",
   "metadata": {},
   "outputs": [
    {
     "data": {
      "text/plain": [
       "258569        49974\n",
       "262938        51887\n",
       "260293        64063\n",
       "167617        65507\n",
       "258549        68351\n",
       "280916        82743\n",
       "269084       101805\n",
       "257784       113937\n",
       "263439       117383\n",
       "281469       118843\n",
       "280711       126775\n",
       "395515       131043\n",
       "266688       182617\n",
       "91259        196609\n",
       "260014       312899\n",
       "327092       364127\n",
       "273037       421457\n",
       "218853       629187\n",
       "27664        765788\n",
       "286702      1114110\n",
       "159971      1198434\n",
       "411626      5043347\n",
       "221562      6214017\n",
       "431417     11851510\n",
       "159473     12517454\n",
       "251846     36880390\n",
       "155769     67109617\n",
       "155678     67109618\n",
       "74371     167087795\n",
       "167245    668498787\n",
       "Name: ENTRIES, dtype: int64"
      ]
     },
     "execution_count": 261,
     "metadata": {},
     "output_type": "execute_result"
    }
   ],
   "source": [
    "morning_turn['ENTRIES'].sort_values(ascending = True).tail(30)"
   ]
  },
  {
   "cell_type": "code",
   "execution_count": 262,
   "id": "4539ab2d",
   "metadata": {
    "scrolled": true
   },
   "outputs": [
    {
     "data": {
      "text/html": [
       "<div>\n",
       "<style scoped>\n",
       "    .dataframe tbody tr th:only-of-type {\n",
       "        vertical-align: middle;\n",
       "    }\n",
       "\n",
       "    .dataframe tbody tr th {\n",
       "        vertical-align: top;\n",
       "    }\n",
       "\n",
       "    .dataframe thead th {\n",
       "        text-align: right;\n",
       "    }\n",
       "</style>\n",
       "<table border=\"1\" class=\"dataframe\">\n",
       "  <thead>\n",
       "    <tr style=\"text-align: right;\">\n",
       "      <th></th>\n",
       "      <th>STATION</th>\n",
       "      <th>ENTRIES</th>\n",
       "    </tr>\n",
       "  </thead>\n",
       "  <tbody>\n",
       "    <tr>\n",
       "      <th>0</th>\n",
       "      <td>1 AV</td>\n",
       "      <td>148307</td>\n",
       "    </tr>\n",
       "    <tr>\n",
       "      <th>1</th>\n",
       "      <td>103 ST</td>\n",
       "      <td>162762</td>\n",
       "    </tr>\n",
       "    <tr>\n",
       "      <th>2</th>\n",
       "      <td>103 ST-CORONA</td>\n",
       "      <td>539814</td>\n",
       "    </tr>\n",
       "    <tr>\n",
       "      <th>3</th>\n",
       "      <td>104 ST</td>\n",
       "      <td>100894</td>\n",
       "    </tr>\n",
       "    <tr>\n",
       "      <th>4</th>\n",
       "      <td>110 ST</td>\n",
       "      <td>137615</td>\n",
       "    </tr>\n",
       "  </tbody>\n",
       "</table>\n",
       "</div>"
      ],
      "text/plain": [
       "         STATION  ENTRIES\n",
       "0           1 AV   148307\n",
       "1         103 ST   162762\n",
       "2  103 ST-CORONA   539814\n",
       "3         104 ST   100894\n",
       "4         110 ST   137615"
      ]
     },
     "execution_count": 262,
     "metadata": {},
     "output_type": "execute_result"
    }
   ],
   "source": [
    "morning_months = morning_turn.groupby(['STATION'])['ENTRIES'].sum().reset_index()\n",
    "morning_months.head()"
   ]
  },
  {
   "cell_type": "code",
   "execution_count": 264,
   "id": "e091dda9",
   "metadata": {},
   "outputs": [
    {
     "data": {
      "text/plain": [
       "<AxesSubplot:title={'center':'Afternoon Entries by Station For Three months'}, xlabel='STATION'>"
      ]
     },
     "execution_count": 264,
     "metadata": {},
     "output_type": "execute_result"
    },
    {
     "data": {
      "image/png": "[encoded data removed]",
      "text/plain": [
       "<Figure size 432x288 with 1 Axes>"
      ]
     },
     "metadata": {
      "needs_background": "light"
     },
     "output_type": "display_data"
    }
   ],
   "source": [
    "topsts = morning_months.sort_values('ENTRIES', ascending=False).head(5)\n",
    "topsts.head()\n",
    "topsts.plot(x='STATION',y='ENTRIES',kind='bar', title='Afternoon Entries by Station For Three months')"
   ]
  },
  {
   "cell_type": "code",
   "execution_count": null,
   "id": "c40721ec",
   "metadata": {},
   "outputs": [],
   "source": []
  }
 ],
 "metadata": {
  "kernelspec": {
   "display_name": "Python 3",
   "language": "python",
   "name": "python3"
  },
  "language_info": {
   "codemirror_mode": {
    "name": "ipython",
    "version": 3
   },
   "file_extension": ".py",
   "mimetype": "text/x-python",
   "name": "python",
   "nbconvert_exporter": "python",
   "pygments_lexer": "ipython3",
   "version": "3.8.8"
  }
 },
 "nbformat": 4,
 "nbformat_minor": 5
}
